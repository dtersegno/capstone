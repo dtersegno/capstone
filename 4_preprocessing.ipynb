{
 "cells": [
  {
   "cell_type": "markdown",
   "id": "89c5a0a5",
   "metadata": {},
   "source": [
    "Preprocessing \n",
    "---\n",
    "\n",
    "This notebook takes the merged and selected data exported at the end of the EDA notebook and prepares it for use by the models. It creates a series of bools for each tweet, recording the locations, languages, and the game referenced via hashtag. It then resamples the data by minute, turning these bools into an average: the fraction of tweets in that minute with that parameter. It then measures the tweet rate by counting the total number of tweets in that minute.\n",
    "\n",
    "The data is exported for direct use by the models."
   ]
  },
  {
   "cell_type": "markdown",
   "id": "806d1550",
   "metadata": {},
   "source": [
    "---\n",
    "# Setup"
   ]
  },
  {
   "cell_type": "markdown",
   "id": "62a7cd5b",
   "metadata": {},
   "source": [
    "## Import libraries, data, and dictionaries"
   ]
  },
  {
   "cell_type": "code",
   "execution_count": 36,
   "id": "a0bb95b8",
   "metadata": {},
   "outputs": [],
   "source": [
    "import pandas as pd\n",
    "import numpy as np\n",
    "import json\n",
    "import ast\n",
    "import re\n",
    "\n",
    "import matplotlib.pyplot as plt"
   ]
  },
  {
   "cell_type": "code",
   "execution_count": 3,
   "id": "ef7d87bc",
   "metadata": {},
   "outputs": [
    {
     "name": "stdout",
     "output_type": "stream",
     "text": [
      "<class 'pandas.core.frame.DataFrame'>\n",
      "RangeIndex: 386457 entries, 0 to 386456\n",
      "Data columns (total 12 columns):\n",
      " #   Column              Non-Null Count   Dtype \n",
      "---  ------              --------------   ----- \n",
      " 0   Unnamed: 0          386457 non-null  int64 \n",
      " 1   lang                386457 non-null  object\n",
      " 2   possibly_sensitive  386457 non-null  object\n",
      " 3   source              386457 non-null  object\n",
      " 4   text                386457 non-null  object\n",
      " 5   created_at          386457 non-null  object\n",
      " 6   location            299526 non-null  object\n",
      " 7   win                 386457 non-null  object\n",
      " 8   is_poke             386457 non-null  object\n",
      " 9   broad_location      386408 non-null  object\n",
      " 10  hashtags            386457 non-null  object\n",
      " 11  has_hashtags        386457 non-null  bool  \n",
      "dtypes: bool(1), int64(1), object(10)\n",
      "memory usage: 32.8+ MB\n"
     ]
    }
   ],
   "source": [
    "# import data\n",
    "data_for_preprocessing_path = './merged_data/data_for_preprocessing.csv'\n",
    "df = pd.read_csv(data_for_preprocessing_path)\n",
    "df.info()"
   ]
  },
  {
   "cell_type": "code",
   "execution_count": 4,
   "id": "0eabab41",
   "metadata": {
    "scrolled": true
   },
   "outputs": [],
   "source": [
    "# import dictionaries\n",
    "hashtag_to_game_path = './EDA/hashtag_to_game.json'\n",
    "with open(hashtag_to_game_path, 'r') as this_file:\n",
    "    hashtag_to_game = json.loads(this_file.read())\n",
    "\n",
    "locs_path = './EDA/loc_dict.json'\n",
    "with open(locs_path, 'r') as file:\n",
    "    locs = json.loads(file.read())"
   ]
  },
  {
   "cell_type": "markdown",
   "id": "3e3c3ab4",
   "metadata": {},
   "source": [
    "---\n",
    "# Create columns for lang\n",
    "\n",
    "Use the lang dictionary to create individual columns for specific languages."
   ]
  },
  {
   "cell_type": "code",
   "execution_count": 9,
   "id": "dd190dd7",
   "metadata": {},
   "outputs": [],
   "source": [
    "#import the dictionary\n",
    "with open('./iso_639-1.json', 'r', encoding='utf-8') as lang_file:\n",
    "    lang_dict = json.load(lang_file)\n",
    "lang_dict['und'] = {'name':'undefined'}\n",
    "lang_dict['in'] = lang_dict['id'] #filling in some some the twitter column coded differently in the dictionary\n",
    "lang_dict['iw'] = lang_dict['he']"
   ]
  },
  {
   "cell_type": "code",
   "execution_count": 10,
   "id": "6b2e78df",
   "metadata": {
    "scrolled": false
   },
   "outputs": [
    {
     "data": {
      "text/plain": [
       "Index(['English', 'Japanese', 'Spanish', 'undefined', 'Turkish', 'French',\n",
       "       'Korean', 'German', 'Catalan', 'Russian', 'Estonian', 'Thai', 'Tagalog',\n",
       "       'Dutch', 'Czech', 'Portuguese', 'Indonesian', 'Chinese', 'Finnish',\n",
       "       'Norwegian', 'Romanian', 'Italian', 'Arabic', 'Danish', 'Welsh',\n",
       "       'Swedish'],\n",
       "      dtype='object')"
      ]
     },
     "execution_count": 10,
     "metadata": {},
     "output_type": "execute_result"
    }
   ],
   "source": [
    "#get a list of the named languages\n",
    "top_languages = df['lang'].apply(lambda this_lang: lang_dict[this_lang]['name'] if this_lang in lang_dict.keys() else 'undefined').value_counts()\n",
    "#cut that list into top 25, not including (undefined)\n",
    "top_languages = top_languages[:26].index\n",
    "top_languages"
   ]
  },
  {
   "cell_type": "code",
   "execution_count": 11,
   "id": "5e301379",
   "metadata": {},
   "outputs": [
    {
     "name": "stdout",
     "output_type": "stream",
     "text": [
      "Wall time: 4.64 s\n"
     ]
    }
   ],
   "source": [
    "%%time\n",
    "# create a column in the data for each of these. A manual pd.get_dummies.\n",
    "for index in top_languages:\n",
    "    df['language_is_' + index] = df['lang'].apply(lambda this_lang: this_lang == index if this_lang in top_languages else False)"
   ]
  },
  {
   "cell_type": "code",
   "execution_count": 12,
   "id": "cdbd2b26",
   "metadata": {
    "scrolled": true
   },
   "outputs": [
    {
     "data": {
      "text/plain": [
       "Index(['Unnamed: 0', 'lang', 'possibly_sensitive', 'source', 'text',\n",
       "       'created_at', 'location', 'win', 'is_poke', 'broad_location',\n",
       "       'hashtags', 'has_hashtags', 'language_is_English',\n",
       "       'language_is_Japanese', 'language_is_Spanish', 'language_is_undefined',\n",
       "       'language_is_Turkish', 'language_is_French', 'language_is_Korean',\n",
       "       'language_is_German', 'language_is_Catalan', 'language_is_Russian',\n",
       "       'language_is_Estonian', 'language_is_Thai', 'language_is_Tagalog',\n",
       "       'language_is_Dutch', 'language_is_Czech', 'language_is_Portuguese',\n",
       "       'language_is_Indonesian', 'language_is_Chinese', 'language_is_Finnish',\n",
       "       'language_is_Norwegian', 'language_is_Romanian', 'language_is_Italian',\n",
       "       'language_is_Arabic', 'language_is_Danish', 'language_is_Welsh',\n",
       "       'language_is_Swedish'],\n",
       "      dtype='object')"
      ]
     },
     "execution_count": 12,
     "metadata": {},
     "output_type": "execute_result"
    }
   ],
   "source": [
    "#verify the columns were made.\n",
    "df.columns"
   ]
  },
  {
   "cell_type": "markdown",
   "id": "c2d1718f",
   "metadata": {},
   "source": [
    "---\n",
    "# Create columns for game type"
   ]
  },
  {
   "cell_type": "markdown",
   "id": "a460f53f",
   "metadata": {},
   "source": [
    "## is wordle\n",
    "\n",
    "Having exactly the format of a Wordle post will automatically assign is_wordle = True to a tweet. Determine this with a regex search."
   ]
  },
  {
   "cell_type": "code",
   "execution_count": 13,
   "id": "cb044020",
   "metadata": {
    "scrolled": false
   },
   "outputs": [
    {
     "data": {
      "text/plain": [
       "0              Wordle 314 4/6\\n\\n🟩⬛🟩🟨🟨\\n🟩🟩🟩⬛🟨\\n🟩🟩🟩🟩⬛\\n🟩🟩🟩🟩🟩\n",
       "1                  😈💅😈💅😈💅\\n\\nWordle 314 2/6\\n\\n🟩⬛🟩🟨🟨\\n🟩🟩🟩🟩🟩\n",
       "2         Wordle 315 4/6\\n\\n⬜⬜🟨⬜⬜\\n⬜⬜⬜🟨⬜\\n⬜⬜⬜⬜⬜\\n🟩🟩🟩🟩🟩\\n...\n",
       "3         this is the best I've done so far \\n\\nWordle 3...\n",
       "4         最近はめっきり知らない単語ばっかり。\\n\\nWordle 315 5/6\\n\\n⬛⬛⬛🟨⬛\\...\n",
       "                                ...                        \n",
       "386452                Wordle 320 3/6\\n\\n🟩🟩⬜⬜🟨\\n🟩🟩⬜🟩⬜\\n🟩🟩🟩🟩🟩\n",
       "386453    Wordle 320 5/6\\n\\n⬜🟨⬜⬜🟨\\n🟩⬜🟨⬜⬜\\n🟩🟩⬜🟩🟩\\n🟩🟩⬜🟩🟩\\n...\n",
       "386454    Wordle (ES)  #119 6/6\\n\\n🟨⬜🟩⬜🟩\\n⬜🟩🟩⬜🟩\\n⬜🟩🟩⬜🟩\\n...\n",
       "386455    @marcusreif Wördl 320 6/6 🔥3\\n\\n⬜⬜⬜🟨⬜\\n🟨🟨⬜🟨⬜\\n...\n",
       "386456         Wordle 320 4/6\\n\\n🟨🟨⬛⬛⬛\\n⬛🟩⬛🟩🟩\\n⬛🟩⬛🟩🟩\\n🟩🟩🟩🟩🟩\n",
       "Name: text, Length: 386457, dtype: object"
      ]
     },
     "execution_count": 13,
     "metadata": {},
     "output_type": "execute_result"
    }
   ],
   "source": [
    "#look at some texts\n",
    "df['text']"
   ]
  },
  {
   "cell_type": "code",
   "execution_count": 15,
   "id": "5d7d2e04",
   "metadata": {
    "scrolled": false
   },
   "outputs": [
    {
     "data": {
      "text/plain": [
       "0.6019220767122863"
      ]
     },
     "execution_count": 15,
     "metadata": {},
     "output_type": "execute_result"
    }
   ],
   "source": [
    "#create a column if r'^Wordle xxx x/x' matches in the text\n",
    "wordle_regex = r'^Wordle [0-9]{1,3} [0-6]{1}/[0-6]{1}'\n",
    "df['is_wordle'] = df['text'].apply(lambda this_text: len(re.findall(wordle_regex, this_text))>0)\n",
    "\n",
    "# how many of these tweets are wordles proper via this method?\n",
    "df['is_wordle'].mean()"
   ]
  },
  {
   "cell_type": "markdown",
   "id": "41cbd09f",
   "metadata": {},
   "source": [
    "This assigned about 60% of the tweets as legitimate Wordles."
   ]
  },
  {
   "cell_type": "markdown",
   "id": "57b5a1ee",
   "metadata": {},
   "source": [
    "## Create columns for game type from hashtags"
   ]
  },
  {
   "cell_type": "code",
   "execution_count": 16,
   "id": "fc7739e5",
   "metadata": {
    "scrolled": true
   },
   "outputs": [
    {
     "name": "stdout",
     "output_type": "stream",
     "text": [
      "Wall time: 2.44 s\n"
     ]
    }
   ],
   "source": [
    "%%time\n",
    "#turn object hashtag series into lists\n",
    "hashtag_list = df['hashtags'].apply(lambda these_hashtags: ast.literal_eval(these_hashtags))"
   ]
  },
  {
   "cell_type": "code",
   "execution_count": 17,
   "id": "a573632b",
   "metadata": {
    "scrolled": true
   },
   "outputs": [
    {
     "data": {
      "text/plain": [
       "{'ポケモンWordle': 'JPPokemon',\n",
       " 'Wordle': 'Wordle',\n",
       " 'wordle': 'Wordle',\n",
       " 'WordleCAT': 'Catalan',\n",
       " 'вордли': 'Russian',\n",
       " 'Heardle': 'Heardle',\n",
       " '워들': 'Korean',\n",
       " '한글': 'Korean',\n",
       " 'Korean': 'Korean',\n",
       " 'wordleTR': 'Turkish',\n",
       " 'AlWird': 'Arabic',\n",
       " 'galego': 'Galego',\n",
       " 'WordleGalego': 'Galego',\n",
       " 'DailyWordleClub': 'WordleNYT',\n",
       " 'WordleEnglish': 'WordleNYT',\n",
       " 'WordleEN': 'WordleNYT',\n",
       " 'WordleEUS': 'Basque',\n",
       " 'hadesjSlova': 'Czech',\n",
       " 'WORDLE_TAMIL': 'Tamil',\n",
       " 'WizardingWordle': 'Wizard',\n",
       " 'Enstarsdle': 'Enstars',\n",
       " 'WordleEspañol': 'Spanish',\n",
       " 'wordleES': 'Spanish',\n",
       " '嘘wordle': 'Japanese',\n",
       " '百人一首Wordle': 'Japanese',\n",
       " 'Quordle': 'Quordle',\n",
       " 'ことのはたんご': 'kotonoha-tango',\n",
       " 'NYTimes': 'WordleNYT'}"
      ]
     },
     "execution_count": 17,
     "metadata": {},
     "output_type": "execute_result"
    }
   ],
   "source": [
    "# look at hashtag_to_game conversion dictionary\n",
    "hashtag_to_game"
   ]
  },
  {
   "cell_type": "code",
   "execution_count": 18,
   "id": "dcd33fc1",
   "metadata": {
    "scrolled": true
   },
   "outputs": [],
   "source": [
    "# create a column in the data for each of these. A manual pd.get_dummies with multiple values in a list.\n",
    "for key in hashtag_to_game.keys():\n",
    "    df['game_from_hashtag_' + key] = df['hashtags'].apply(lambda this_hashtag_list: key in this_hashtag_list)\n"
   ]
  },
  {
   "cell_type": "code",
   "execution_count": 20,
   "id": "cebb790c",
   "metadata": {},
   "outputs": [
    {
     "data": {
      "text/plain": [
       "Index(['Unnamed: 0', 'lang', 'possibly_sensitive', 'source', 'text',\n",
       "       'created_at', 'location', 'win', 'is_poke', 'broad_location',\n",
       "       'hashtags', 'has_hashtags', 'language_is_English',\n",
       "       'language_is_Japanese', 'language_is_Spanish', 'language_is_undefined',\n",
       "       'language_is_Turkish', 'language_is_French', 'language_is_Korean',\n",
       "       'language_is_German', 'language_is_Catalan', 'language_is_Russian',\n",
       "       'language_is_Estonian', 'language_is_Thai', 'language_is_Tagalog',\n",
       "       'language_is_Dutch', 'language_is_Czech', 'language_is_Portuguese',\n",
       "       'language_is_Indonesian', 'language_is_Chinese', 'language_is_Finnish',\n",
       "       'language_is_Norwegian', 'language_is_Romanian', 'language_is_Italian',\n",
       "       'language_is_Arabic', 'language_is_Danish', 'language_is_Welsh',\n",
       "       'language_is_Swedish', 'is_wordle', 'game_from_hashtag_ポケモンWordle',\n",
       "       'game_from_hashtag_Wordle', 'game_from_hashtag_wordle',\n",
       "       'game_from_hashtag_WordleCAT', 'game_from_hashtag_вордли',\n",
       "       'game_from_hashtag_Heardle', 'game_from_hashtag_워들',\n",
       "       'game_from_hashtag_한글', 'game_from_hashtag_Korean',\n",
       "       'game_from_hashtag_wordleTR', 'game_from_hashtag_AlWird',\n",
       "       'game_from_hashtag_galego', 'game_from_hashtag_WordleGalego',\n",
       "       'game_from_hashtag_DailyWordleClub', 'game_from_hashtag_WordleEnglish',\n",
       "       'game_from_hashtag_WordleEN', 'game_from_hashtag_WordleEUS',\n",
       "       'game_from_hashtag_hadesjSlova', 'game_from_hashtag_WORDLE_TAMIL',\n",
       "       'game_from_hashtag_WizardingWordle', 'game_from_hashtag_Enstarsdle',\n",
       "       'game_from_hashtag_WordleEspañol', 'game_from_hashtag_wordleES',\n",
       "       'game_from_hashtag_嘘wordle', 'game_from_hashtag_百人一首Wordle',\n",
       "       'game_from_hashtag_Quordle', 'game_from_hashtag_ことのはたんご',\n",
       "       'game_from_hashtag_NYTimes'],\n",
       "      dtype='object')"
      ]
     },
     "execution_count": 20,
     "metadata": {},
     "output_type": "execute_result"
    }
   ],
   "source": [
    "#verify the columns were made\n",
    "df.columns"
   ]
  },
  {
   "cell_type": "markdown",
   "id": "b5f16c10",
   "metadata": {},
   "source": [
    "# Create columns for broad locations\n",
    "\n",
    "Locations have already been divided into broader locations with `broad_location`."
   ]
  },
  {
   "cell_type": "code",
   "execution_count": 22,
   "id": "abed3795",
   "metadata": {},
   "outputs": [
    {
     "data": {
      "text/plain": [
       "Index(['undefined', 'USAE', 'UK', 'JPN', 'ES', 'USAC', 'USA', 'USAW', 'IN',\n",
       "       'ASTL', 'CAE', 'AR', 'USAM', 'IE', 'TK', 'CA', 'MX', 'PH', 'NZ', 'CL',\n",
       "       'SA', 'EUR', 'CAW', 'MY', 'CAM', 'CO'],\n",
       "      dtype='object')"
      ]
     },
     "execution_count": 22,
     "metadata": {},
     "output_type": "execute_result"
    }
   ],
   "source": [
    "#create columns for top 25 broad locations (besides undefined)\n",
    "top_broad_locations = df['broad_location'].value_counts().index[:26]\n",
    "top_broad_locations"
   ]
  },
  {
   "cell_type": "code",
   "execution_count": 23,
   "id": "c5d064aa",
   "metadata": {},
   "outputs": [
    {
     "name": "stdout",
     "output_type": "stream",
     "text": [
      "Wall time: 5.13 s\n"
     ]
    }
   ],
   "source": [
    "%%time\n",
    "# create a column in the data for each of these. A manual pd.get_dummies.\n",
    "for index in top_broad_locations:\n",
    "    df['broad_location_is_' + index] = df['broad_location'].apply(lambda this_broad_location: this_broad_location == index if this_broad_location in top_broad_locations else False)\n"
   ]
  },
  {
   "cell_type": "code",
   "execution_count": 24,
   "id": "210c409c",
   "metadata": {},
   "outputs": [
    {
     "data": {
      "text/plain": [
       "Index(['Unnamed: 0', 'lang', 'possibly_sensitive', 'source', 'text',\n",
       "       'created_at', 'location', 'win', 'is_poke', 'broad_location',\n",
       "       'hashtags', 'has_hashtags', 'language_is_English',\n",
       "       'language_is_Japanese', 'language_is_Spanish', 'language_is_undefined',\n",
       "       'language_is_Turkish', 'language_is_French', 'language_is_Korean',\n",
       "       'language_is_German', 'language_is_Catalan', 'language_is_Russian',\n",
       "       'language_is_Estonian', 'language_is_Thai', 'language_is_Tagalog',\n",
       "       'language_is_Dutch', 'language_is_Czech', 'language_is_Portuguese',\n",
       "       'language_is_Indonesian', 'language_is_Chinese', 'language_is_Finnish',\n",
       "       'language_is_Norwegian', 'language_is_Romanian', 'language_is_Italian',\n",
       "       'language_is_Arabic', 'language_is_Danish', 'language_is_Welsh',\n",
       "       'language_is_Swedish', 'is_wordle', 'game_from_hashtag_ポケモンWordle',\n",
       "       'game_from_hashtag_Wordle', 'game_from_hashtag_wordle',\n",
       "       'game_from_hashtag_WordleCAT', 'game_from_hashtag_вордли',\n",
       "       'game_from_hashtag_Heardle', 'game_from_hashtag_워들',\n",
       "       'game_from_hashtag_한글', 'game_from_hashtag_Korean',\n",
       "       'game_from_hashtag_wordleTR', 'game_from_hashtag_AlWird',\n",
       "       'game_from_hashtag_galego', 'game_from_hashtag_WordleGalego',\n",
       "       'game_from_hashtag_DailyWordleClub', 'game_from_hashtag_WordleEnglish',\n",
       "       'game_from_hashtag_WordleEN', 'game_from_hashtag_WordleEUS',\n",
       "       'game_from_hashtag_hadesjSlova', 'game_from_hashtag_WORDLE_TAMIL',\n",
       "       'game_from_hashtag_WizardingWordle', 'game_from_hashtag_Enstarsdle',\n",
       "       'game_from_hashtag_WordleEspañol', 'game_from_hashtag_wordleES',\n",
       "       'game_from_hashtag_嘘wordle', 'game_from_hashtag_百人一首Wordle',\n",
       "       'game_from_hashtag_Quordle', 'game_from_hashtag_ことのはたんご',\n",
       "       'game_from_hashtag_NYTimes', 'broad_location_is_undefined',\n",
       "       'broad_location_is_USAE', 'broad_location_is_UK',\n",
       "       'broad_location_is_JPN', 'broad_location_is_ES',\n",
       "       'broad_location_is_USAC', 'broad_location_is_USA',\n",
       "       'broad_location_is_USAW', 'broad_location_is_IN',\n",
       "       'broad_location_is_ASTL', 'broad_location_is_CAE',\n",
       "       'broad_location_is_AR', 'broad_location_is_USAM',\n",
       "       'broad_location_is_IE', 'broad_location_is_TK', 'broad_location_is_CA',\n",
       "       'broad_location_is_MX', 'broad_location_is_PH', 'broad_location_is_NZ',\n",
       "       'broad_location_is_CL', 'broad_location_is_SA', 'broad_location_is_EUR',\n",
       "       'broad_location_is_CAW', 'broad_location_is_MY',\n",
       "       'broad_location_is_CAM', 'broad_location_is_CO'],\n",
       "      dtype='object')"
      ]
     },
     "execution_count": 24,
     "metadata": {},
     "output_type": "execute_result"
    }
   ],
   "source": [
    "# verify the new columns were created.\n",
    "df.columns"
   ]
  },
  {
   "cell_type": "markdown",
   "id": "b619f71c",
   "metadata": {},
   "source": [
    "About 75% of tweets are not assigned to one of the top 25 broad locations."
   ]
  },
  {
   "cell_type": "markdown",
   "id": "be418ff7",
   "metadata": {},
   "source": [
    "### Drop unneeded columns\n",
    "\n",
    "These include \"undefined\" dummy columns."
   ]
  },
  {
   "cell_type": "code",
   "execution_count": 25,
   "id": "1af28c6b",
   "metadata": {},
   "outputs": [],
   "source": [
    "#drop em\n",
    "df.drop(columns = ['Unnamed: 0',\n",
    "         'lang',\n",
    "         'possibly_sensitive',\n",
    "         'source',\n",
    "         'text', \n",
    "         'location', \n",
    "         'win', \n",
    "         'is_poke',\n",
    "         'broad_location',\n",
    "         'hashtags',\n",
    "         'has_hashtags',\n",
    "         'broad_location_is_undefined',\n",
    "         'language_is_undefined'\n",
    "        ],\n",
    "       inplace = True)"
   ]
  },
  {
   "cell_type": "code",
   "execution_count": 26,
   "id": "f29cea09",
   "metadata": {
    "scrolled": true
   },
   "outputs": [
    {
     "data": {
      "text/plain": [
       "Index(['created_at', 'language_is_English', 'language_is_Japanese',\n",
       "       'language_is_Spanish', 'language_is_Turkish', 'language_is_French',\n",
       "       'language_is_Korean', 'language_is_German', 'language_is_Catalan',\n",
       "       'language_is_Russian', 'language_is_Estonian', 'language_is_Thai',\n",
       "       'language_is_Tagalog', 'language_is_Dutch', 'language_is_Czech',\n",
       "       'language_is_Portuguese', 'language_is_Indonesian',\n",
       "       'language_is_Chinese', 'language_is_Finnish', 'language_is_Norwegian',\n",
       "       'language_is_Romanian', 'language_is_Italian', 'language_is_Arabic',\n",
       "       'language_is_Danish', 'language_is_Welsh', 'language_is_Swedish',\n",
       "       'is_wordle', 'game_from_hashtag_ポケモンWordle', 'game_from_hashtag_Wordle',\n",
       "       'game_from_hashtag_wordle', 'game_from_hashtag_WordleCAT',\n",
       "       'game_from_hashtag_вордли', 'game_from_hashtag_Heardle',\n",
       "       'game_from_hashtag_워들', 'game_from_hashtag_한글',\n",
       "       'game_from_hashtag_Korean', 'game_from_hashtag_wordleTR',\n",
       "       'game_from_hashtag_AlWird', 'game_from_hashtag_galego',\n",
       "       'game_from_hashtag_WordleGalego', 'game_from_hashtag_DailyWordleClub',\n",
       "       'game_from_hashtag_WordleEnglish', 'game_from_hashtag_WordleEN',\n",
       "       'game_from_hashtag_WordleEUS', 'game_from_hashtag_hadesjSlova',\n",
       "       'game_from_hashtag_WORDLE_TAMIL', 'game_from_hashtag_WizardingWordle',\n",
       "       'game_from_hashtag_Enstarsdle', 'game_from_hashtag_WordleEspañol',\n",
       "       'game_from_hashtag_wordleES', 'game_from_hashtag_嘘wordle',\n",
       "       'game_from_hashtag_百人一首Wordle', 'game_from_hashtag_Quordle',\n",
       "       'game_from_hashtag_ことのはたんご', 'game_from_hashtag_NYTimes',\n",
       "       'broad_location_is_USAE', 'broad_location_is_UK',\n",
       "       'broad_location_is_JPN', 'broad_location_is_ES',\n",
       "       'broad_location_is_USAC', 'broad_location_is_USA',\n",
       "       'broad_location_is_USAW', 'broad_location_is_IN',\n",
       "       'broad_location_is_ASTL', 'broad_location_is_CAE',\n",
       "       'broad_location_is_AR', 'broad_location_is_USAM',\n",
       "       'broad_location_is_IE', 'broad_location_is_TK', 'broad_location_is_CA',\n",
       "       'broad_location_is_MX', 'broad_location_is_PH', 'broad_location_is_NZ',\n",
       "       'broad_location_is_CL', 'broad_location_is_SA', 'broad_location_is_EUR',\n",
       "       'broad_location_is_CAW', 'broad_location_is_MY',\n",
       "       'broad_location_is_CAM', 'broad_location_is_CO'],\n",
       "      dtype='object')"
      ]
     },
     "execution_count": 26,
     "metadata": {},
     "output_type": "execute_result"
    }
   ],
   "source": [
    "# verify they were dropped\n",
    "df.columns"
   ]
  },
  {
   "cell_type": "markdown",
   "id": "3ebae714",
   "metadata": {},
   "source": [
    "# Create general tweet rate"
   ]
  },
  {
   "cell_type": "code",
   "execution_count": 29,
   "id": "24698f73",
   "metadata": {
    "scrolled": true
   },
   "outputs": [],
   "source": [
    "# turn created_at strings back into datetimes.\n",
    "df['created_at'] = pd.to_datetime(df['created_at'], errors='coerce')\n",
    "\n",
    "#each tweet counts as one. This is for counting totals.\n",
    "df['ones'] = 1"
   ]
  },
  {
   "cell_type": "code",
   "execution_count": 30,
   "id": "aea21890",
   "metadata": {
    "scrolled": true
   },
   "outputs": [],
   "source": [
    "#resample by minute\n",
    "ts = df.resample(rule = 'T', on = 'created_at')"
   ]
  },
  {
   "cell_type": "markdown",
   "id": "a1ee105a",
   "metadata": {},
   "source": [
    "Take the mean of the booleans, but the _sum_ of the ones for a count."
   ]
  },
  {
   "cell_type": "code",
   "execution_count": 33,
   "id": "14d1eb2d",
   "metadata": {
    "scrolled": true
   },
   "outputs": [
    {
     "data": {
      "text/html": [
       "<div>\n",
       "<style scoped>\n",
       "    .dataframe tbody tr th:only-of-type {\n",
       "        vertical-align: middle;\n",
       "    }\n",
       "\n",
       "    .dataframe tbody tr th {\n",
       "        vertical-align: top;\n",
       "    }\n",
       "\n",
       "    .dataframe thead th {\n",
       "        text-align: right;\n",
       "    }\n",
       "</style>\n",
       "<table border=\"1\" class=\"dataframe\">\n",
       "  <thead>\n",
       "    <tr style=\"text-align: right;\">\n",
       "      <th></th>\n",
       "      <th>language_is_English</th>\n",
       "      <th>language_is_Japanese</th>\n",
       "      <th>language_is_Spanish</th>\n",
       "      <th>language_is_Turkish</th>\n",
       "      <th>language_is_French</th>\n",
       "      <th>language_is_Korean</th>\n",
       "      <th>language_is_German</th>\n",
       "      <th>language_is_Catalan</th>\n",
       "      <th>language_is_Russian</th>\n",
       "      <th>language_is_Estonian</th>\n",
       "      <th>...</th>\n",
       "      <th>broad_location_is_PH</th>\n",
       "      <th>broad_location_is_NZ</th>\n",
       "      <th>broad_location_is_CL</th>\n",
       "      <th>broad_location_is_SA</th>\n",
       "      <th>broad_location_is_EUR</th>\n",
       "      <th>broad_location_is_CAW</th>\n",
       "      <th>broad_location_is_MY</th>\n",
       "      <th>broad_location_is_CAM</th>\n",
       "      <th>broad_location_is_CO</th>\n",
       "      <th>total_tweets</th>\n",
       "    </tr>\n",
       "    <tr>\n",
       "      <th>created_at</th>\n",
       "      <th></th>\n",
       "      <th></th>\n",
       "      <th></th>\n",
       "      <th></th>\n",
       "      <th></th>\n",
       "      <th></th>\n",
       "      <th></th>\n",
       "      <th></th>\n",
       "      <th></th>\n",
       "      <th></th>\n",
       "      <th></th>\n",
       "      <th></th>\n",
       "      <th></th>\n",
       "      <th></th>\n",
       "      <th></th>\n",
       "      <th></th>\n",
       "      <th></th>\n",
       "      <th></th>\n",
       "      <th></th>\n",
       "      <th></th>\n",
       "      <th></th>\n",
       "    </tr>\n",
       "  </thead>\n",
       "  <tbody>\n",
       "    <tr>\n",
       "      <th>2022-04-29 19:46:00+00:00</th>\n",
       "      <td>0.0</td>\n",
       "      <td>0.0</td>\n",
       "      <td>0.0</td>\n",
       "      <td>0.0</td>\n",
       "      <td>0.0</td>\n",
       "      <td>0.0</td>\n",
       "      <td>0.0</td>\n",
       "      <td>0.0</td>\n",
       "      <td>0.0</td>\n",
       "      <td>0.0</td>\n",
       "      <td>...</td>\n",
       "      <td>0.0</td>\n",
       "      <td>0.00</td>\n",
       "      <td>0.000000</td>\n",
       "      <td>0.0</td>\n",
       "      <td>0.0</td>\n",
       "      <td>0.0</td>\n",
       "      <td>0.0</td>\n",
       "      <td>0.000000</td>\n",
       "      <td>0.0</td>\n",
       "      <td>2</td>\n",
       "    </tr>\n",
       "    <tr>\n",
       "      <th>2022-04-29 19:47:00+00:00</th>\n",
       "      <td>0.0</td>\n",
       "      <td>0.0</td>\n",
       "      <td>0.0</td>\n",
       "      <td>0.0</td>\n",
       "      <td>0.0</td>\n",
       "      <td>0.0</td>\n",
       "      <td>0.0</td>\n",
       "      <td>0.0</td>\n",
       "      <td>0.0</td>\n",
       "      <td>0.0</td>\n",
       "      <td>...</td>\n",
       "      <td>0.0</td>\n",
       "      <td>0.00</td>\n",
       "      <td>0.066667</td>\n",
       "      <td>0.0</td>\n",
       "      <td>0.0</td>\n",
       "      <td>0.0</td>\n",
       "      <td>0.0</td>\n",
       "      <td>0.000000</td>\n",
       "      <td>0.0</td>\n",
       "      <td>15</td>\n",
       "    </tr>\n",
       "    <tr>\n",
       "      <th>2022-04-29 19:48:00+00:00</th>\n",
       "      <td>0.0</td>\n",
       "      <td>0.0</td>\n",
       "      <td>0.0</td>\n",
       "      <td>0.0</td>\n",
       "      <td>0.0</td>\n",
       "      <td>0.0</td>\n",
       "      <td>0.0</td>\n",
       "      <td>0.0</td>\n",
       "      <td>0.0</td>\n",
       "      <td>0.0</td>\n",
       "      <td>...</td>\n",
       "      <td>0.0</td>\n",
       "      <td>0.05</td>\n",
       "      <td>0.000000</td>\n",
       "      <td>0.0</td>\n",
       "      <td>0.0</td>\n",
       "      <td>0.0</td>\n",
       "      <td>0.0</td>\n",
       "      <td>0.000000</td>\n",
       "      <td>0.0</td>\n",
       "      <td>20</td>\n",
       "    </tr>\n",
       "    <tr>\n",
       "      <th>2022-04-29 19:49:00+00:00</th>\n",
       "      <td>0.0</td>\n",
       "      <td>0.0</td>\n",
       "      <td>0.0</td>\n",
       "      <td>0.0</td>\n",
       "      <td>0.0</td>\n",
       "      <td>0.0</td>\n",
       "      <td>0.0</td>\n",
       "      <td>0.0</td>\n",
       "      <td>0.0</td>\n",
       "      <td>0.0</td>\n",
       "      <td>...</td>\n",
       "      <td>0.0</td>\n",
       "      <td>0.00</td>\n",
       "      <td>0.000000</td>\n",
       "      <td>0.0</td>\n",
       "      <td>0.0</td>\n",
       "      <td>0.0</td>\n",
       "      <td>0.0</td>\n",
       "      <td>0.066667</td>\n",
       "      <td>0.0</td>\n",
       "      <td>15</td>\n",
       "    </tr>\n",
       "    <tr>\n",
       "      <th>2022-04-29 19:50:00+00:00</th>\n",
       "      <td>0.0</td>\n",
       "      <td>0.0</td>\n",
       "      <td>0.0</td>\n",
       "      <td>0.0</td>\n",
       "      <td>0.0</td>\n",
       "      <td>0.0</td>\n",
       "      <td>0.0</td>\n",
       "      <td>0.0</td>\n",
       "      <td>0.0</td>\n",
       "      <td>0.0</td>\n",
       "      <td>...</td>\n",
       "      <td>0.0</td>\n",
       "      <td>0.00</td>\n",
       "      <td>0.000000</td>\n",
       "      <td>0.0</td>\n",
       "      <td>0.0</td>\n",
       "      <td>0.0</td>\n",
       "      <td>0.0</td>\n",
       "      <td>0.000000</td>\n",
       "      <td>0.0</td>\n",
       "      <td>15</td>\n",
       "    </tr>\n",
       "  </tbody>\n",
       "</table>\n",
       "<p>5 rows × 80 columns</p>\n",
       "</div>"
      ],
      "text/plain": [
       "                           language_is_English  language_is_Japanese  \\\n",
       "created_at                                                             \n",
       "2022-04-29 19:46:00+00:00                  0.0                   0.0   \n",
       "2022-04-29 19:47:00+00:00                  0.0                   0.0   \n",
       "2022-04-29 19:48:00+00:00                  0.0                   0.0   \n",
       "2022-04-29 19:49:00+00:00                  0.0                   0.0   \n",
       "2022-04-29 19:50:00+00:00                  0.0                   0.0   \n",
       "\n",
       "                           language_is_Spanish  language_is_Turkish  \\\n",
       "created_at                                                            \n",
       "2022-04-29 19:46:00+00:00                  0.0                  0.0   \n",
       "2022-04-29 19:47:00+00:00                  0.0                  0.0   \n",
       "2022-04-29 19:48:00+00:00                  0.0                  0.0   \n",
       "2022-04-29 19:49:00+00:00                  0.0                  0.0   \n",
       "2022-04-29 19:50:00+00:00                  0.0                  0.0   \n",
       "\n",
       "                           language_is_French  language_is_Korean  \\\n",
       "created_at                                                          \n",
       "2022-04-29 19:46:00+00:00                 0.0                 0.0   \n",
       "2022-04-29 19:47:00+00:00                 0.0                 0.0   \n",
       "2022-04-29 19:48:00+00:00                 0.0                 0.0   \n",
       "2022-04-29 19:49:00+00:00                 0.0                 0.0   \n",
       "2022-04-29 19:50:00+00:00                 0.0                 0.0   \n",
       "\n",
       "                           language_is_German  language_is_Catalan  \\\n",
       "created_at                                                           \n",
       "2022-04-29 19:46:00+00:00                 0.0                  0.0   \n",
       "2022-04-29 19:47:00+00:00                 0.0                  0.0   \n",
       "2022-04-29 19:48:00+00:00                 0.0                  0.0   \n",
       "2022-04-29 19:49:00+00:00                 0.0                  0.0   \n",
       "2022-04-29 19:50:00+00:00                 0.0                  0.0   \n",
       "\n",
       "                           language_is_Russian  language_is_Estonian  ...  \\\n",
       "created_at                                                            ...   \n",
       "2022-04-29 19:46:00+00:00                  0.0                   0.0  ...   \n",
       "2022-04-29 19:47:00+00:00                  0.0                   0.0  ...   \n",
       "2022-04-29 19:48:00+00:00                  0.0                   0.0  ...   \n",
       "2022-04-29 19:49:00+00:00                  0.0                   0.0  ...   \n",
       "2022-04-29 19:50:00+00:00                  0.0                   0.0  ...   \n",
       "\n",
       "                           broad_location_is_PH  broad_location_is_NZ  \\\n",
       "created_at                                                              \n",
       "2022-04-29 19:46:00+00:00                   0.0                  0.00   \n",
       "2022-04-29 19:47:00+00:00                   0.0                  0.00   \n",
       "2022-04-29 19:48:00+00:00                   0.0                  0.05   \n",
       "2022-04-29 19:49:00+00:00                   0.0                  0.00   \n",
       "2022-04-29 19:50:00+00:00                   0.0                  0.00   \n",
       "\n",
       "                           broad_location_is_CL  broad_location_is_SA  \\\n",
       "created_at                                                              \n",
       "2022-04-29 19:46:00+00:00              0.000000                   0.0   \n",
       "2022-04-29 19:47:00+00:00              0.066667                   0.0   \n",
       "2022-04-29 19:48:00+00:00              0.000000                   0.0   \n",
       "2022-04-29 19:49:00+00:00              0.000000                   0.0   \n",
       "2022-04-29 19:50:00+00:00              0.000000                   0.0   \n",
       "\n",
       "                           broad_location_is_EUR  broad_location_is_CAW  \\\n",
       "created_at                                                                \n",
       "2022-04-29 19:46:00+00:00                    0.0                    0.0   \n",
       "2022-04-29 19:47:00+00:00                    0.0                    0.0   \n",
       "2022-04-29 19:48:00+00:00                    0.0                    0.0   \n",
       "2022-04-29 19:49:00+00:00                    0.0                    0.0   \n",
       "2022-04-29 19:50:00+00:00                    0.0                    0.0   \n",
       "\n",
       "                           broad_location_is_MY  broad_location_is_CAM  \\\n",
       "created_at                                                               \n",
       "2022-04-29 19:46:00+00:00                   0.0               0.000000   \n",
       "2022-04-29 19:47:00+00:00                   0.0               0.000000   \n",
       "2022-04-29 19:48:00+00:00                   0.0               0.000000   \n",
       "2022-04-29 19:49:00+00:00                   0.0               0.066667   \n",
       "2022-04-29 19:50:00+00:00                   0.0               0.000000   \n",
       "\n",
       "                           broad_location_is_CO  total_tweets  \n",
       "created_at                                                     \n",
       "2022-04-29 19:46:00+00:00                   0.0             2  \n",
       "2022-04-29 19:47:00+00:00                   0.0            15  \n",
       "2022-04-29 19:48:00+00:00                   0.0            20  \n",
       "2022-04-29 19:49:00+00:00                   0.0            15  \n",
       "2022-04-29 19:50:00+00:00                   0.0            15  \n",
       "\n",
       "[5 rows x 80 columns]"
      ]
     },
     "execution_count": 33,
     "metadata": {},
     "output_type": "execute_result"
    }
   ],
   "source": [
    "#create mean of bools\n",
    "ts_df = ts.mean().drop(columns = 'ones')\n",
    "\n",
    "#tack on the total number of tweets\n",
    "ts_df['total_tweets'] = ts['ones'].sum()\n",
    "\n",
    "#check that it worked.\n",
    "ts_df.head()"
   ]
  },
  {
   "cell_type": "code",
   "execution_count": 38,
   "id": "93d64e90",
   "metadata": {
    "scrolled": true
   },
   "outputs": [
    {
     "data": {
      "image/png": "[encoded data removed]",
      "text/plain": [
       "<Figure size 864x432 with 1 Axes>"
      ]
     },
     "metadata": {
      "needs_background": "light"
     },
     "output_type": "display_data"
    }
   ],
   "source": [
    "#plot the total tweet rate to verify\n",
    "ts_df['total_tweets'].plot(figsize = (12,6))\n",
    "plt.title(\"tweet rate by minute\")\n",
    "plt.ylabel(\"tweet rate\")\n",
    "plt.xlabel(\"date\");"
   ]
  },
  {
   "cell_type": "markdown",
   "id": "dc18fd15",
   "metadata": {},
   "source": [
    "The missing region at the end of May 4th inot the 5th couldn't be filled at publication time. The Twitter 7-day API search window had already passed. Oh well."
   ]
  },
  {
   "cell_type": "markdown",
   "id": "28d70e96",
   "metadata": {},
   "source": [
    "# Create Columns for times"
   ]
  },
  {
   "cell_type": "code",
   "execution_count": 39,
   "id": "1817d54b",
   "metadata": {
    "scrolled": false
   },
   "outputs": [],
   "source": [
    "#create minute column\n",
    "ts_df['minute'] = ts_df.index.minute"
   ]
  },
  {
   "cell_type": "code",
   "execution_count": 40,
   "id": "2504fa45",
   "metadata": {
    "scrolled": true
   },
   "outputs": [],
   "source": [
    "#create hour column\n",
    "ts_df['hour'] = ts_df.index.hour"
   ]
  },
  {
   "cell_type": "markdown",
   "id": "3ab8b0d5",
   "metadata": {},
   "source": [
    "# Create lagged rates\n",
    "\n",
    "Copy tweet rate values from 10 to 19 minutes before present, as well as a 20-minute wide window around the same time yesterday."
   ]
  },
  {
   "cell_type": "code",
   "execution_count": 41,
   "id": "8d540076",
   "metadata": {},
   "outputs": [],
   "source": [
    "#copy recent lagged tweet rates\n",
    "for lag_minutes in range(10,20):\n",
    "    ts_df['lag_'+str(lag_minutes)] = ts_df['total_tweets'].shift(lag_minutes)\n",
    "\n",
    "#copy 1-day lagged tweet rates\n",
    "for lag_minutes in range(-10,11):\n",
    "    ts_df['lag_day_'+str(lag_minutes)] = ts_df['total_tweets'].shift(60*24+lag_minutes)"
   ]
  },
  {
   "cell_type": "markdown",
   "id": "e2fa92f1",
   "metadata": {},
   "source": [
    "# Export for use by models"
   ]
  },
  {
   "cell_type": "code",
   "execution_count": 47,
   "id": "64d51f84",
   "metadata": {},
   "outputs": [],
   "source": [
    "#save them in processed_data\n",
    "processed_data_path = './processed_data/processed_data.csv'\n",
    "ts_df.to_csv(processed_data_path)"
   ]
  },
  {
   "cell_type": "markdown",
   "id": "338d5d15",
   "metadata": {},
   "source": [
    "# Next Step: Modeling\n",
    "\n",
    "This data is used by the [next notebook](./5_models.ipynb) for modeling, with values before the May 4 gap as the training set and those after as the test set. The models are a collection of neural networks with varying depths, stopping patiences, and combinations of the data."
   ]
  },
  {
   "cell_type": "code",
   "execution_count": null,
   "id": "6f500425",
   "metadata": {},
   "outputs": [],
   "source": []
  }
 ],
 "metadata": {
  "kernelspec": {
   "display_name": "Python 3 (ipykernel)",
   "language": "python",
   "name": "python3"
  },
  "language_info": {
   "codemirror_mode": {
    "name": "ipython",
    "version": 3
   },
   "file_extension": ".py",
   "mimetype": "text/x-python",
   "name": "python",
   "nbconvert_exporter": "python",
   "pygments_lexer": "ipython3",
   "version": "3.9.7"
  }
 },
 "nbformat": 4,
 "nbformat_minor": 5
}
