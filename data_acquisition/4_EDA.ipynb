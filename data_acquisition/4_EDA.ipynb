{
 "cells": [
  {
   "cell_type": "markdown",
   "id": "94cb446f",
   "metadata": {},
   "source": [
    "# 4 EDA\n",
    "\n",
    "5/4/22\n",
    "\n",
    "\n",
    "\n",
    "- [setup](#setup)\n",
    "    - [Import libraries](#Import-libraries)\n",
    "    - [import data](#import-data)"
   ]
  },
  {
   "cell_type": "markdown",
   "id": "64ff218c",
   "metadata": {},
   "source": [
    "## setup"
   ]
  },
  {
   "cell_type": "markdown",
   "id": "86152448",
   "metadata": {},
   "source": [
    "### Import libraries"
   ]
  },
  {
   "cell_type": "code",
   "execution_count": 1,
   "id": "f1e43deb",
   "metadata": {},
   "outputs": [],
   "source": [
    "import pandas as pd\n",
    "import numpy as np\n",
    "import os\n",
    "import json\n",
    "\n",
    "#plotting\n",
    "import matplotlib.pyplot as plt\n",
    "import seaborn as sns\n",
    "\n",
    "plt.style.use('dark_background')\n",
    "\n",
    "merged_data_path = '../merged_data/'\n"
   ]
  },
  {
   "cell_type": "markdown",
   "id": "b2e5cda1",
   "metadata": {},
   "source": [
    "### import data"
   ]
  },
  {
   "cell_type": "code",
   "execution_count": 4,
   "id": "4b7180ae",
   "metadata": {},
   "outputs": [
    {
     "data": {
      "text/plain": [
       "['merged_tweets.csv',\n",
       " 'merged_users.csv',\n",
       " 'wordle_games.csv',\n",
       " 'wordle_games.pkl']"
      ]
     },
     "execution_count": 4,
     "metadata": {},
     "output_type": "execute_result"
    }
   ],
   "source": [
    "os.listdir(merged_data_path)"
   ]
  },
  {
   "cell_type": "code",
   "execution_count": 5,
   "id": "f05ce96a",
   "metadata": {
    "scrolled": true
   },
   "outputs": [],
   "source": [
    "#low_memory = False is to deal with mixed column types. check these\n",
    "tweets = pd.read_csv(merged_data_path + 'merged_tweets.csv', low_memory = False)\n",
    "users = pd.read_csv(merged_data_path + 'merged_users.csv', low_memory = False)"
   ]
  },
  {
   "cell_type": "code",
   "execution_count": 6,
   "id": "20510485",
   "metadata": {
    "scrolled": true
   },
   "outputs": [
    {
     "data": {
      "text/html": [
       "<div>\n",
       "<style scoped>\n",
       "    .dataframe tbody tr th:only-of-type {\n",
       "        vertical-align: middle;\n",
       "    }\n",
       "\n",
       "    .dataframe tbody tr th {\n",
       "        vertical-align: top;\n",
       "    }\n",
       "\n",
       "    .dataframe thead th {\n",
       "        text-align: right;\n",
       "    }\n",
       "</style>\n",
       "<table border=\"1\" class=\"dataframe\">\n",
       "  <thead>\n",
       "    <tr style=\"text-align: right;\">\n",
       "      <th></th>\n",
       "      <th>conversation_id</th>\n",
       "      <th>reply_settings</th>\n",
       "      <th>lang</th>\n",
       "      <th>entities</th>\n",
       "      <th>possibly_sensitive</th>\n",
       "      <th>source</th>\n",
       "      <th>public_metrics</th>\n",
       "      <th>text</th>\n",
       "      <th>context_annotations</th>\n",
       "      <th>author_id</th>\n",
       "      <th>created_at</th>\n",
       "      <th>referenced_tweets</th>\n",
       "      <th>in_reply_to_user_id</th>\n",
       "      <th>attachments</th>\n",
       "      <th>geo</th>\n",
       "      <th>withheld</th>\n",
       "    </tr>\n",
       "    <tr>\n",
       "      <th>id</th>\n",
       "      <th></th>\n",
       "      <th></th>\n",
       "      <th></th>\n",
       "      <th></th>\n",
       "      <th></th>\n",
       "      <th></th>\n",
       "      <th></th>\n",
       "      <th></th>\n",
       "      <th></th>\n",
       "      <th></th>\n",
       "      <th></th>\n",
       "      <th></th>\n",
       "      <th></th>\n",
       "      <th></th>\n",
       "      <th></th>\n",
       "      <th></th>\n",
       "    </tr>\n",
       "  </thead>\n",
       "  <tbody>\n",
       "    <tr>\n",
       "      <th>1521733018293084160</th>\n",
       "      <td>1521733018293084160</td>\n",
       "      <td>everyone</td>\n",
       "      <td>en</td>\n",
       "      <td>{'urls': [{'start': 54, 'end': 77, 'url': 'htt...</td>\n",
       "      <td>False</td>\n",
       "      <td>Twitter Web App</td>\n",
       "      <td>{'retweet_count': 0, 'reply_count': 0, 'like_c...</td>\n",
       "      <td>Wordle (ES)  #118 5/6\\n\\n⬜⬜🟨🟩⬜\\n⬜⬜🟨🟩⬜\\n⬜⬜⬜🟩🟩\\n...</td>\n",
       "      <td>[{'domain': {'id': '30', 'name': 'Entities [En...</td>\n",
       "      <td>1006110502043471872</td>\n",
       "      <td>2022-05-04 06:06:38+00:00</td>\n",
       "      <td>NaN</td>\n",
       "      <td>NaN</td>\n",
       "      <td>NaN</td>\n",
       "      <td>NaN</td>\n",
       "      <td>NaN</td>\n",
       "    </tr>\n",
       "    <tr>\n",
       "      <th>1521733015738662913</th>\n",
       "      <td>1521733015738662913</td>\n",
       "      <td>everyone</td>\n",
       "      <td>es</td>\n",
       "      <td>{'urls': [{'start': 58, 'end': 81, 'url': 'htt...</td>\n",
       "      <td>False</td>\n",
       "      <td>Twitter for Android</td>\n",
       "      <td>{'retweet_count': 0, 'reply_count': 0, 'like_c...</td>\n",
       "      <td>Wordle Científico #52 5/6\\n\\n⬜⬜⬜⬜🟨\\n🟨⬜⬜⬜🟩\\n⬜🟩⬜...</td>\n",
       "      <td>[{'domain': {'id': '30', 'name': 'Entities [En...</td>\n",
       "      <td>360002014</td>\n",
       "      <td>2022-05-04 06:06:38+00:00</td>\n",
       "      <td>NaN</td>\n",
       "      <td>NaN</td>\n",
       "      <td>NaN</td>\n",
       "      <td>NaN</td>\n",
       "      <td>NaN</td>\n",
       "    </tr>\n",
       "    <tr>\n",
       "      <th>1521733011414257664</th>\n",
       "      <td>1521733011414257664</td>\n",
       "      <td>everyone</td>\n",
       "      <td>en</td>\n",
       "      <td>NaN</td>\n",
       "      <td>False</td>\n",
       "      <td>Twitter for Android</td>\n",
       "      <td>{'retweet_count': 0, 'reply_count': 0, 'like_c...</td>\n",
       "      <td>Wordle 319 4/6\\n\\n🟨🟨⬜⬜⬜\\n🟨⬜⬜🟩⬜\\n🟩🟨⬜🟩🟨\\n🟩🟩🟩🟩🟩</td>\n",
       "      <td>[{'domain': {'id': '30', 'name': 'Entities [En...</td>\n",
       "      <td>828818052892422148</td>\n",
       "      <td>2022-05-04 06:06:37+00:00</td>\n",
       "      <td>NaN</td>\n",
       "      <td>NaN</td>\n",
       "      <td>NaN</td>\n",
       "      <td>NaN</td>\n",
       "      <td>NaN</td>\n",
       "    </tr>\n",
       "  </tbody>\n",
       "</table>\n",
       "</div>"
      ],
      "text/plain": [
       "                         conversation_id reply_settings lang  \\\n",
       "id                                                             \n",
       "1521733018293084160  1521733018293084160       everyone   en   \n",
       "1521733015738662913  1521733015738662913       everyone   es   \n",
       "1521733011414257664  1521733011414257664       everyone   en   \n",
       "\n",
       "                                                              entities  \\\n",
       "id                                                                       \n",
       "1521733018293084160  {'urls': [{'start': 54, 'end': 77, 'url': 'htt...   \n",
       "1521733015738662913  {'urls': [{'start': 58, 'end': 81, 'url': 'htt...   \n",
       "1521733011414257664                                                NaN   \n",
       "\n",
       "                     possibly_sensitive               source  \\\n",
       "id                                                             \n",
       "1521733018293084160               False      Twitter Web App   \n",
       "1521733015738662913               False  Twitter for Android   \n",
       "1521733011414257664               False  Twitter for Android   \n",
       "\n",
       "                                                        public_metrics  \\\n",
       "id                                                                       \n",
       "1521733018293084160  {'retweet_count': 0, 'reply_count': 0, 'like_c...   \n",
       "1521733015738662913  {'retweet_count': 0, 'reply_count': 0, 'like_c...   \n",
       "1521733011414257664  {'retweet_count': 0, 'reply_count': 0, 'like_c...   \n",
       "\n",
       "                                                                  text  \\\n",
       "id                                                                       \n",
       "1521733018293084160  Wordle (ES)  #118 5/6\\n\\n⬜⬜🟨🟩⬜\\n⬜⬜🟨🟩⬜\\n⬜⬜⬜🟩🟩\\n...   \n",
       "1521733015738662913  Wordle Científico #52 5/6\\n\\n⬜⬜⬜⬜🟨\\n🟨⬜⬜⬜🟩\\n⬜🟩⬜...   \n",
       "1521733011414257664       Wordle 319 4/6\\n\\n🟨🟨⬜⬜⬜\\n🟨⬜⬜🟩⬜\\n🟩🟨⬜🟩🟨\\n🟩🟩🟩🟩🟩   \n",
       "\n",
       "                                                   context_annotations  \\\n",
       "id                                                                       \n",
       "1521733018293084160  [{'domain': {'id': '30', 'name': 'Entities [En...   \n",
       "1521733015738662913  [{'domain': {'id': '30', 'name': 'Entities [En...   \n",
       "1521733011414257664  [{'domain': {'id': '30', 'name': 'Entities [En...   \n",
       "\n",
       "                               author_id                 created_at  \\\n",
       "id                                                                    \n",
       "1521733018293084160  1006110502043471872  2022-05-04 06:06:38+00:00   \n",
       "1521733015738662913            360002014  2022-05-04 06:06:38+00:00   \n",
       "1521733011414257664   828818052892422148  2022-05-04 06:06:37+00:00   \n",
       "\n",
       "                    referenced_tweets  in_reply_to_user_id attachments  geo  \\\n",
       "id                                                                            \n",
       "1521733018293084160               NaN                  NaN         NaN  NaN   \n",
       "1521733015738662913               NaN                  NaN         NaN  NaN   \n",
       "1521733011414257664               NaN                  NaN         NaN  NaN   \n",
       "\n",
       "                    withheld  \n",
       "id                            \n",
       "1521733018293084160      NaN  \n",
       "1521733015738662913      NaN  \n",
       "1521733011414257664      NaN  "
      ]
     },
     "execution_count": 6,
     "metadata": {},
     "output_type": "execute_result"
    }
   ],
   "source": [
    "tweets.set_index('id', inplace = True)\n",
    "tweets.head(3)"
   ]
  },
  {
   "cell_type": "code",
   "execution_count": 7,
   "id": "bb6c09f6",
   "metadata": {},
   "outputs": [
    {
     "data": {
      "text/html": [
       "<div>\n",
       "<style scoped>\n",
       "    .dataframe tbody tr th:only-of-type {\n",
       "        vertical-align: middle;\n",
       "    }\n",
       "\n",
       "    .dataframe tbody tr th {\n",
       "        vertical-align: top;\n",
       "    }\n",
       "\n",
       "    .dataframe thead th {\n",
       "        text-align: right;\n",
       "    }\n",
       "</style>\n",
       "<table border=\"1\" class=\"dataframe\">\n",
       "  <thead>\n",
       "    <tr style=\"text-align: right;\">\n",
       "      <th></th>\n",
       "      <th>name</th>\n",
       "      <th>public_metrics</th>\n",
       "      <th>url</th>\n",
       "      <th>description</th>\n",
       "      <th>profile_image_url</th>\n",
       "      <th>location</th>\n",
       "      <th>protected</th>\n",
       "      <th>username</th>\n",
       "      <th>verified</th>\n",
       "      <th>entities</th>\n",
       "      <th>pinned_tweet_id</th>\n",
       "      <th>withheld</th>\n",
       "    </tr>\n",
       "    <tr>\n",
       "      <th>id</th>\n",
       "      <th></th>\n",
       "      <th></th>\n",
       "      <th></th>\n",
       "      <th></th>\n",
       "      <th></th>\n",
       "      <th></th>\n",
       "      <th></th>\n",
       "      <th></th>\n",
       "      <th></th>\n",
       "      <th></th>\n",
       "      <th></th>\n",
       "      <th></th>\n",
       "    </tr>\n",
       "  </thead>\n",
       "  <tbody>\n",
       "    <tr>\n",
       "      <th>1.006111e+18</th>\n",
       "      <td>Jose Antonio</td>\n",
       "      <td>{'followers_count': 147, 'following_count': 43...</td>\n",
       "      <td>NaN</td>\n",
       "      <td>Antiguo usuario bloqueado por error, pero he v...</td>\n",
       "      <td>https://pbs.twimg.com/profile_images/144681186...</td>\n",
       "      <td>Alcalá de Guadaíra, Spain</td>\n",
       "      <td>False</td>\n",
       "      <td>Joseamj_97</td>\n",
       "      <td>False</td>\n",
       "      <td>NaN</td>\n",
       "      <td>NaN</td>\n",
       "      <td>NaN</td>\n",
       "    </tr>\n",
       "    <tr>\n",
       "      <th>3.600020e+08</th>\n",
       "      <td>Ana V Garcia</td>\n",
       "      <td>{'followers_count': 41, 'following_count': 136...</td>\n",
       "      <td>https://t.co/uMfikCmd0I</td>\n",
       "      <td>NaN</td>\n",
       "      <td>https://pbs.twimg.com/profile_images/122215871...</td>\n",
       "      <td>Alcalá de Henares</td>\n",
       "      <td>False</td>\n",
       "      <td>AnaVGarciaG</td>\n",
       "      <td>False</td>\n",
       "      <td>{'url': {'urls': [{'start': 0, 'end': 23, 'url...</td>\n",
       "      <td>NaN</td>\n",
       "      <td>NaN</td>\n",
       "    </tr>\n",
       "    <tr>\n",
       "      <th>8.288181e+17</th>\n",
       "      <td>Braden Van't Hof</td>\n",
       "      <td>{'followers_count': 8, 'following_count': 282,...</td>\n",
       "      <td>NaN</td>\n",
       "      <td>LoL Head Coach/Manager/Mid Laner/4x Positional...</td>\n",
       "      <td>https://pbs.twimg.com/profile_images/149527273...</td>\n",
       "      <td>Grand Rapids, MI</td>\n",
       "      <td>False</td>\n",
       "      <td>CLVRockmelon</td>\n",
       "      <td>False</td>\n",
       "      <td>NaN</td>\n",
       "      <td>NaN</td>\n",
       "      <td>NaN</td>\n",
       "    </tr>\n",
       "  </tbody>\n",
       "</table>\n",
       "</div>"
      ],
      "text/plain": [
       "                          name  \\\n",
       "id                               \n",
       "1.006111e+18      Jose Antonio   \n",
       "3.600020e+08      Ana V Garcia   \n",
       "8.288181e+17  Braden Van't Hof   \n",
       "\n",
       "                                                 public_metrics  \\\n",
       "id                                                                \n",
       "1.006111e+18  {'followers_count': 147, 'following_count': 43...   \n",
       "3.600020e+08  {'followers_count': 41, 'following_count': 136...   \n",
       "8.288181e+17  {'followers_count': 8, 'following_count': 282,...   \n",
       "\n",
       "                                  url  \\\n",
       "id                                      \n",
       "1.006111e+18                      NaN   \n",
       "3.600020e+08  https://t.co/uMfikCmd0I   \n",
       "8.288181e+17                      NaN   \n",
       "\n",
       "                                                    description  \\\n",
       "id                                                                \n",
       "1.006111e+18  Antiguo usuario bloqueado por error, pero he v...   \n",
       "3.600020e+08                                                NaN   \n",
       "8.288181e+17  LoL Head Coach/Manager/Mid Laner/4x Positional...   \n",
       "\n",
       "                                              profile_image_url  \\\n",
       "id                                                                \n",
       "1.006111e+18  https://pbs.twimg.com/profile_images/144681186...   \n",
       "3.600020e+08  https://pbs.twimg.com/profile_images/122215871...   \n",
       "8.288181e+17  https://pbs.twimg.com/profile_images/149527273...   \n",
       "\n",
       "                               location  protected      username  verified  \\\n",
       "id                                                                           \n",
       "1.006111e+18  Alcalá de Guadaíra, Spain      False    Joseamj_97     False   \n",
       "3.600020e+08          Alcalá de Henares      False   AnaVGarciaG     False   \n",
       "8.288181e+17           Grand Rapids, MI      False  CLVRockmelon     False   \n",
       "\n",
       "                                                       entities  \\\n",
       "id                                                                \n",
       "1.006111e+18                                                NaN   \n",
       "3.600020e+08  {'url': {'urls': [{'start': 0, 'end': 23, 'url...   \n",
       "8.288181e+17                                                NaN   \n",
       "\n",
       "              pinned_tweet_id withheld  \n",
       "id                                      \n",
       "1.006111e+18              NaN      NaN  \n",
       "3.600020e+08              NaN      NaN  \n",
       "8.288181e+17              NaN      NaN  "
      ]
     },
     "execution_count": 7,
     "metadata": {},
     "output_type": "execute_result"
    }
   ],
   "source": [
    "users.set_index('id', inplace = True)\n",
    "users.head(3)"
   ]
  },
  {
   "cell_type": "code",
   "execution_count": 8,
   "id": "1ba2f168",
   "metadata": {
    "scrolled": true
   },
   "outputs": [
    {
     "data": {
      "text/plain": [
       "(243245, 168362)"
      ]
     },
     "execution_count": 8,
     "metadata": {},
     "output_type": "execute_result"
    }
   ],
   "source": [
    "#I want to left-merge onto tweets. Each tweet has user info tacked on. some users will be repeated.\n",
    "len(tweets), len(users)"
   ]
  },
  {
   "cell_type": "code",
   "execution_count": 9,
   "id": "f3330d31",
   "metadata": {
    "scrolled": false
   },
   "outputs": [
    {
     "data": {
      "text/html": [
       "<div>\n",
       "<style scoped>\n",
       "    .dataframe tbody tr th:only-of-type {\n",
       "        vertical-align: middle;\n",
       "    }\n",
       "\n",
       "    .dataframe tbody tr th {\n",
       "        vertical-align: top;\n",
       "    }\n",
       "\n",
       "    .dataframe thead th {\n",
       "        text-align: right;\n",
       "    }\n",
       "</style>\n",
       "<table border=\"1\" class=\"dataframe\">\n",
       "  <thead>\n",
       "    <tr style=\"text-align: right;\">\n",
       "      <th></th>\n",
       "      <th>conversation_id</th>\n",
       "      <th>reply_settings</th>\n",
       "      <th>lang</th>\n",
       "      <th>entities_tweet</th>\n",
       "      <th>possibly_sensitive</th>\n",
       "      <th>source</th>\n",
       "      <th>public_metrics_tweet</th>\n",
       "      <th>text</th>\n",
       "      <th>context_annotations</th>\n",
       "      <th>author_id</th>\n",
       "      <th>...</th>\n",
       "      <th>url</th>\n",
       "      <th>description</th>\n",
       "      <th>profile_image_url</th>\n",
       "      <th>location</th>\n",
       "      <th>protected</th>\n",
       "      <th>username</th>\n",
       "      <th>verified</th>\n",
       "      <th>entities_user</th>\n",
       "      <th>pinned_tweet_id</th>\n",
       "      <th>withheld_user</th>\n",
       "    </tr>\n",
       "    <tr>\n",
       "      <th>tweet_id</th>\n",
       "      <th></th>\n",
       "      <th></th>\n",
       "      <th></th>\n",
       "      <th></th>\n",
       "      <th></th>\n",
       "      <th></th>\n",
       "      <th></th>\n",
       "      <th></th>\n",
       "      <th></th>\n",
       "      <th></th>\n",
       "      <th></th>\n",
       "      <th></th>\n",
       "      <th></th>\n",
       "      <th></th>\n",
       "      <th></th>\n",
       "      <th></th>\n",
       "      <th></th>\n",
       "      <th></th>\n",
       "      <th></th>\n",
       "      <th></th>\n",
       "      <th></th>\n",
       "    </tr>\n",
       "  </thead>\n",
       "  <tbody>\n",
       "    <tr>\n",
       "      <th>1521733018293084160</th>\n",
       "      <td>1521733018293084160</td>\n",
       "      <td>everyone</td>\n",
       "      <td>en</td>\n",
       "      <td>{'urls': [{'start': 54, 'end': 77, 'url': 'htt...</td>\n",
       "      <td>False</td>\n",
       "      <td>Twitter Web App</td>\n",
       "      <td>{'retweet_count': 0, 'reply_count': 0, 'like_c...</td>\n",
       "      <td>Wordle (ES)  #118 5/6\\n\\n⬜⬜🟨🟩⬜\\n⬜⬜🟨🟩⬜\\n⬜⬜⬜🟩🟩\\n...</td>\n",
       "      <td>[{'domain': {'id': '30', 'name': 'Entities [En...</td>\n",
       "      <td>1006110502043471872</td>\n",
       "      <td>...</td>\n",
       "      <td>0</td>\n",
       "      <td>0</td>\n",
       "      <td>0</td>\n",
       "      <td>0</td>\n",
       "      <td>0</td>\n",
       "      <td>0</td>\n",
       "      <td>0</td>\n",
       "      <td>0</td>\n",
       "      <td>0.0</td>\n",
       "      <td>0</td>\n",
       "    </tr>\n",
       "    <tr>\n",
       "      <th>1521733015738662913</th>\n",
       "      <td>1521733015738662913</td>\n",
       "      <td>everyone</td>\n",
       "      <td>es</td>\n",
       "      <td>{'urls': [{'start': 58, 'end': 81, 'url': 'htt...</td>\n",
       "      <td>False</td>\n",
       "      <td>Twitter for Android</td>\n",
       "      <td>{'retweet_count': 0, 'reply_count': 0, 'like_c...</td>\n",
       "      <td>Wordle Científico #52 5/6\\n\\n⬜⬜⬜⬜🟨\\n🟨⬜⬜⬜🟩\\n⬜🟩⬜...</td>\n",
       "      <td>[{'domain': {'id': '30', 'name': 'Entities [En...</td>\n",
       "      <td>360002014</td>\n",
       "      <td>...</td>\n",
       "      <td>https://t.co/uMfikCmd0I</td>\n",
       "      <td>0</td>\n",
       "      <td>https://pbs.twimg.com/profile_images/122215871...</td>\n",
       "      <td>Alcalá de Henares</td>\n",
       "      <td>False</td>\n",
       "      <td>AnaVGarciaG</td>\n",
       "      <td>False</td>\n",
       "      <td>{'url': {'urls': [{'start': 0, 'end': 23, 'url...</td>\n",
       "      <td>0.0</td>\n",
       "      <td>0</td>\n",
       "    </tr>\n",
       "    <tr>\n",
       "      <th>1521733011414257664</th>\n",
       "      <td>1521733011414257664</td>\n",
       "      <td>everyone</td>\n",
       "      <td>en</td>\n",
       "      <td>0</td>\n",
       "      <td>False</td>\n",
       "      <td>Twitter for Android</td>\n",
       "      <td>{'retweet_count': 0, 'reply_count': 0, 'like_c...</td>\n",
       "      <td>Wordle 319 4/6\\n\\n🟨🟨⬜⬜⬜\\n🟨⬜⬜🟩⬜\\n🟩🟨⬜🟩🟨\\n🟩🟩🟩🟩🟩</td>\n",
       "      <td>[{'domain': {'id': '30', 'name': 'Entities [En...</td>\n",
       "      <td>828818052892422148</td>\n",
       "      <td>...</td>\n",
       "      <td>0</td>\n",
       "      <td>0</td>\n",
       "      <td>0</td>\n",
       "      <td>0</td>\n",
       "      <td>0</td>\n",
       "      <td>0</td>\n",
       "      <td>0</td>\n",
       "      <td>0</td>\n",
       "      <td>0.0</td>\n",
       "      <td>0</td>\n",
       "    </tr>\n",
       "    <tr>\n",
       "      <th>1521733010504445954</th>\n",
       "      <td>1521733010504445954</td>\n",
       "      <td>everyone</td>\n",
       "      <td>en</td>\n",
       "      <td>0</td>\n",
       "      <td>False</td>\n",
       "      <td>Twitter for Android</td>\n",
       "      <td>{'retweet_count': 0, 'reply_count': 0, 'like_c...</td>\n",
       "      <td>Back in the saddle.\\n\\nWordle 319 3/6\\n\\n⬜🟩⬜🟨⬜...</td>\n",
       "      <td>[{'domain': {'id': '30', 'name': 'Entities [En...</td>\n",
       "      <td>862077942</td>\n",
       "      <td>...</td>\n",
       "      <td>https://t.co/iOfRLxEru5</td>\n",
       "      <td>It's not criticism, it's just a different way ...</td>\n",
       "      <td>https://pbs.twimg.com/profile_images/150123920...</td>\n",
       "      <td>Spain</td>\n",
       "      <td>False</td>\n",
       "      <td>Geordioca</td>\n",
       "      <td>False</td>\n",
       "      <td>{'url': {'urls': [{'start': 0, 'end': 23, 'url...</td>\n",
       "      <td>0.0</td>\n",
       "      <td>0</td>\n",
       "    </tr>\n",
       "    <tr>\n",
       "      <th>1521733001981444096</th>\n",
       "      <td>1521731925559418880</td>\n",
       "      <td>everyone</td>\n",
       "      <td>en</td>\n",
       "      <td>{'mentions': [{'start': 0, 'end': 12, 'usernam...</td>\n",
       "      <td>False</td>\n",
       "      <td>Twitter for iPhone</td>\n",
       "      <td>{'retweet_count': 0, 'reply_count': 0, 'like_c...</td>\n",
       "      <td>@RwellsWells Same. Are we both spotters? Haha ...</td>\n",
       "      <td>[{'domain': {'id': '30', 'name': 'Entities [En...</td>\n",
       "      <td>53116513</td>\n",
       "      <td>...</td>\n",
       "      <td>0</td>\n",
       "      <td>I don't like cricket. oh no. i love it!</td>\n",
       "      <td>https://pbs.twimg.com/profile_images/110881711...</td>\n",
       "      <td>sheffield</td>\n",
       "      <td>False</td>\n",
       "      <td>chrisjones792</td>\n",
       "      <td>False</td>\n",
       "      <td>0</td>\n",
       "      <td>0.0</td>\n",
       "      <td>0</td>\n",
       "    </tr>\n",
       "    <tr>\n",
       "      <th>...</th>\n",
       "      <td>...</td>\n",
       "      <td>...</td>\n",
       "      <td>...</td>\n",
       "      <td>...</td>\n",
       "      <td>...</td>\n",
       "      <td>...</td>\n",
       "      <td>...</td>\n",
       "      <td>...</td>\n",
       "      <td>...</td>\n",
       "      <td>...</td>\n",
       "      <td>...</td>\n",
       "      <td>...</td>\n",
       "      <td>...</td>\n",
       "      <td>...</td>\n",
       "      <td>...</td>\n",
       "      <td>...</td>\n",
       "      <td>...</td>\n",
       "      <td>...</td>\n",
       "      <td>...</td>\n",
       "      <td>...</td>\n",
       "      <td>...</td>\n",
       "    </tr>\n",
       "    <tr>\n",
       "      <th>1520733413246144512</th>\n",
       "      <td>1520733413246144512</td>\n",
       "      <td>everyone</td>\n",
       "      <td>es</td>\n",
       "      <td>{'urls': [{'start': 118, 'end': 141, 'url': 'h...</td>\n",
       "      <td>False</td>\n",
       "      <td>Twitter for Android</td>\n",
       "      <td>{'retweet_count': 0, 'reply_count': 0, 'like_c...</td>\n",
       "      <td>Una de las malditas con montones de posibilida...</td>\n",
       "      <td>[{'domain': {'id': '30', 'name': 'Entities [En...</td>\n",
       "      <td>2568024265</td>\n",
       "      <td>...</td>\n",
       "      <td>0</td>\n",
       "      <td>0</td>\n",
       "      <td>0</td>\n",
       "      <td>0</td>\n",
       "      <td>0</td>\n",
       "      <td>0</td>\n",
       "      <td>0</td>\n",
       "      <td>0</td>\n",
       "      <td>0.0</td>\n",
       "      <td>0</td>\n",
       "    </tr>\n",
       "    <tr>\n",
       "      <th>1520733412725870592</th>\n",
       "      <td>1520733412725870592</td>\n",
       "      <td>everyone</td>\n",
       "      <td>und</td>\n",
       "      <td>{'hashtags': [{'start': 0, 'end': 7, 'tag': 'W...</td>\n",
       "      <td>False</td>\n",
       "      <td>Twitter for iPhone</td>\n",
       "      <td>{'retweet_count': 0, 'reply_count': 0, 'like_c...</td>\n",
       "      <td>#Wordle 316 4/6\\r\\n\\r\\n🟨⬛⬛⬛⬛\\r\\n⬛⬛🟨⬛🟨\\r\\n⬛⬛⬛⬛🟩...</td>\n",
       "      <td>[{'domain': {'id': '30', 'name': 'Entities [En...</td>\n",
       "      <td>91813530</td>\n",
       "      <td>...</td>\n",
       "      <td>https://t.co/s46eDxHM7n</td>\n",
       "      <td>0</td>\n",
       "      <td>https://pbs.twimg.com/profile_images/145343436...</td>\n",
       "      <td>Malta</td>\n",
       "      <td>False</td>\n",
       "      <td>kabo59</td>\n",
       "      <td>False</td>\n",
       "      <td>{'url': {'urls': [{'start': 0, 'end': 23, 'url...</td>\n",
       "      <td>0.0</td>\n",
       "      <td>0</td>\n",
       "    </tr>\n",
       "    <tr>\n",
       "      <th>1520733410947485702</th>\n",
       "      <td>1520733410947485702</td>\n",
       "      <td>everyone</td>\n",
       "      <td>en</td>\n",
       "      <td>0</td>\n",
       "      <td>False</td>\n",
       "      <td>Twitter for iPhone</td>\n",
       "      <td>{'retweet_count': 0, 'reply_count': 0, 'like_c...</td>\n",
       "      <td>Wordle 316 6/6\\r\\n\\r\\n🟨🟩⬛⬛⬛\\r\\n⬛🟩⬛⬛⬛\\r\\n⬛🟩⬛⬛⬛c...</td>\n",
       "      <td>[{'domain': {'id': '30', 'name': 'Entities [En...</td>\n",
       "      <td>19242429</td>\n",
       "      <td>...</td>\n",
       "      <td>https://t.co/p52lELGgR6</td>\n",
       "      <td>Toronto's Favorite Hot Shot / Bon Vivant / Pos...</td>\n",
       "      <td>https://pbs.twimg.com/profile_images/450450271...</td>\n",
       "      <td>Toronto</td>\n",
       "      <td>False</td>\n",
       "      <td>Jeremy__Kay</td>\n",
       "      <td>False</td>\n",
       "      <td>{'url': {'urls': [{'start': 0, 'end': 23, 'url...</td>\n",
       "      <td>0.0</td>\n",
       "      <td>0</td>\n",
       "    </tr>\n",
       "    <tr>\n",
       "      <th>1520733408607019008</th>\n",
       "      <td>1482287271697170432</td>\n",
       "      <td>everyone</td>\n",
       "      <td>en</td>\n",
       "      <td>0</td>\n",
       "      <td>False</td>\n",
       "      <td>Twitter for Android</td>\n",
       "      <td>{'retweet_count': 0, 'reply_count': 1, 'like_c...</td>\n",
       "      <td>Wordle (ES)  #115 4/6\\r\\n\\r\\n⬜⬜⬜⬜🟩\\r\\n🟨⬜⬜🟩🟩\\r\\...</td>\n",
       "      <td>[{'domain': {'id': '30', 'name': 'Entities [En...</td>\n",
       "      <td>2909723165</td>\n",
       "      <td>...</td>\n",
       "      <td>https://t.co/p9TNxd7TyP</td>\n",
       "      <td>Diseño de videojuegos \\n✨🌻🏞️😊💗☄️✨</td>\n",
       "      <td>https://pbs.twimg.com/profile_images/151907981...</td>\n",
       "      <td>Madrid</td>\n",
       "      <td>False</td>\n",
       "      <td>eliasmgo</td>\n",
       "      <td>False</td>\n",
       "      <td>{'url': {'urls': [{'start': 0, 'end': 23, 'url...</td>\n",
       "      <td>0.0</td>\n",
       "      <td>0</td>\n",
       "    </tr>\n",
       "    <tr>\n",
       "      <th>1520733408237916161</th>\n",
       "      <td>1520733408237916161</td>\n",
       "      <td>everyone</td>\n",
       "      <td>en</td>\n",
       "      <td>0</td>\n",
       "      <td>False</td>\n",
       "      <td>Twitter for iPhone</td>\n",
       "      <td>{'retweet_count': 0, 'reply_count': 0, 'like_c...</td>\n",
       "      <td>Wordle 316 3/6\\r\\n\\r\\n⬛⬛🟩⬛⬛\\r\\n⬛🟩🟩⬛⬛\\r\\n🟩🟩🟩🟩🟩</td>\n",
       "      <td>[{'domain': {'id': '30', 'name': 'Entities [En...</td>\n",
       "      <td>1069359838994550785</td>\n",
       "      <td>...</td>\n",
       "      <td>0</td>\n",
       "      <td>0</td>\n",
       "      <td>0</td>\n",
       "      <td>0</td>\n",
       "      <td>0</td>\n",
       "      <td>0</td>\n",
       "      <td>0</td>\n",
       "      <td>0</td>\n",
       "      <td>0.0</td>\n",
       "      <td>0</td>\n",
       "    </tr>\n",
       "  </tbody>\n",
       "</table>\n",
       "<p>192115 rows × 28 columns</p>\n",
       "</div>"
      ],
      "text/plain": [
       "                         conversation_id reply_settings lang  \\\n",
       "tweet_id                                                       \n",
       "1521733018293084160  1521733018293084160       everyone   en   \n",
       "1521733015738662913  1521733015738662913       everyone   es   \n",
       "1521733011414257664  1521733011414257664       everyone   en   \n",
       "1521733010504445954  1521733010504445954       everyone   en   \n",
       "1521733001981444096  1521731925559418880       everyone   en   \n",
       "...                                  ...            ...  ...   \n",
       "1520733413246144512  1520733413246144512       everyone   es   \n",
       "1520733412725870592  1520733412725870592       everyone  und   \n",
       "1520733410947485702  1520733410947485702       everyone   en   \n",
       "1520733408607019008  1482287271697170432       everyone   en   \n",
       "1520733408237916161  1520733408237916161       everyone   en   \n",
       "\n",
       "                                                        entities_tweet  \\\n",
       "tweet_id                                                                 \n",
       "1521733018293084160  {'urls': [{'start': 54, 'end': 77, 'url': 'htt...   \n",
       "1521733015738662913  {'urls': [{'start': 58, 'end': 81, 'url': 'htt...   \n",
       "1521733011414257664                                                  0   \n",
       "1521733010504445954                                                  0   \n",
       "1521733001981444096  {'mentions': [{'start': 0, 'end': 12, 'usernam...   \n",
       "...                                                                ...   \n",
       "1520733413246144512  {'urls': [{'start': 118, 'end': 141, 'url': 'h...   \n",
       "1520733412725870592  {'hashtags': [{'start': 0, 'end': 7, 'tag': 'W...   \n",
       "1520733410947485702                                                  0   \n",
       "1520733408607019008                                                  0   \n",
       "1520733408237916161                                                  0   \n",
       "\n",
       "                     possibly_sensitive               source  \\\n",
       "tweet_id                                                       \n",
       "1521733018293084160               False      Twitter Web App   \n",
       "1521733015738662913               False  Twitter for Android   \n",
       "1521733011414257664               False  Twitter for Android   \n",
       "1521733010504445954               False  Twitter for Android   \n",
       "1521733001981444096               False   Twitter for iPhone   \n",
       "...                                 ...                  ...   \n",
       "1520733413246144512               False  Twitter for Android   \n",
       "1520733412725870592               False   Twitter for iPhone   \n",
       "1520733410947485702               False   Twitter for iPhone   \n",
       "1520733408607019008               False  Twitter for Android   \n",
       "1520733408237916161               False   Twitter for iPhone   \n",
       "\n",
       "                                                  public_metrics_tweet  \\\n",
       "tweet_id                                                                 \n",
       "1521733018293084160  {'retweet_count': 0, 'reply_count': 0, 'like_c...   \n",
       "1521733015738662913  {'retweet_count': 0, 'reply_count': 0, 'like_c...   \n",
       "1521733011414257664  {'retweet_count': 0, 'reply_count': 0, 'like_c...   \n",
       "1521733010504445954  {'retweet_count': 0, 'reply_count': 0, 'like_c...   \n",
       "1521733001981444096  {'retweet_count': 0, 'reply_count': 0, 'like_c...   \n",
       "...                                                                ...   \n",
       "1520733413246144512  {'retweet_count': 0, 'reply_count': 0, 'like_c...   \n",
       "1520733412725870592  {'retweet_count': 0, 'reply_count': 0, 'like_c...   \n",
       "1520733410947485702  {'retweet_count': 0, 'reply_count': 0, 'like_c...   \n",
       "1520733408607019008  {'retweet_count': 0, 'reply_count': 1, 'like_c...   \n",
       "1520733408237916161  {'retweet_count': 0, 'reply_count': 0, 'like_c...   \n",
       "\n",
       "                                                                  text  \\\n",
       "tweet_id                                                                 \n",
       "1521733018293084160  Wordle (ES)  #118 5/6\\n\\n⬜⬜🟨🟩⬜\\n⬜⬜🟨🟩⬜\\n⬜⬜⬜🟩🟩\\n...   \n",
       "1521733015738662913  Wordle Científico #52 5/6\\n\\n⬜⬜⬜⬜🟨\\n🟨⬜⬜⬜🟩\\n⬜🟩⬜...   \n",
       "1521733011414257664       Wordle 319 4/6\\n\\n🟨🟨⬜⬜⬜\\n🟨⬜⬜🟩⬜\\n🟩🟨⬜🟩🟨\\n🟩🟩🟩🟩🟩   \n",
       "1521733010504445954  Back in the saddle.\\n\\nWordle 319 3/6\\n\\n⬜🟩⬜🟨⬜...   \n",
       "1521733001981444096  @RwellsWells Same. Are we both spotters? Haha ...   \n",
       "...                                                                ...   \n",
       "1520733413246144512  Una de las malditas con montones de posibilida...   \n",
       "1520733412725870592  #Wordle 316 4/6\\r\\n\\r\\n🟨⬛⬛⬛⬛\\r\\n⬛⬛🟨⬛🟨\\r\\n⬛⬛⬛⬛🟩...   \n",
       "1520733410947485702  Wordle 316 6/6\\r\\n\\r\\n🟨🟩⬛⬛⬛\\r\\n⬛🟩⬛⬛⬛\\r\\n⬛🟩⬛⬛⬛c...   \n",
       "1520733408607019008  Wordle (ES)  #115 4/6\\r\\n\\r\\n⬜⬜⬜⬜🟩\\r\\n🟨⬜⬜🟩🟩\\r\\...   \n",
       "1520733408237916161      Wordle 316 3/6\\r\\n\\r\\n⬛⬛🟩⬛⬛\\r\\n⬛🟩🟩⬛⬛\\r\\n🟩🟩🟩🟩🟩   \n",
       "\n",
       "                                                   context_annotations  \\\n",
       "tweet_id                                                                 \n",
       "1521733018293084160  [{'domain': {'id': '30', 'name': 'Entities [En...   \n",
       "1521733015738662913  [{'domain': {'id': '30', 'name': 'Entities [En...   \n",
       "1521733011414257664  [{'domain': {'id': '30', 'name': 'Entities [En...   \n",
       "1521733010504445954  [{'domain': {'id': '30', 'name': 'Entities [En...   \n",
       "1521733001981444096  [{'domain': {'id': '30', 'name': 'Entities [En...   \n",
       "...                                                                ...   \n",
       "1520733413246144512  [{'domain': {'id': '30', 'name': 'Entities [En...   \n",
       "1520733412725870592  [{'domain': {'id': '30', 'name': 'Entities [En...   \n",
       "1520733410947485702  [{'domain': {'id': '30', 'name': 'Entities [En...   \n",
       "1520733408607019008  [{'domain': {'id': '30', 'name': 'Entities [En...   \n",
       "1520733408237916161  [{'domain': {'id': '30', 'name': 'Entities [En...   \n",
       "\n",
       "                               author_id  ...                      url  \\\n",
       "tweet_id                                  ...                            \n",
       "1521733018293084160  1006110502043471872  ...                        0   \n",
       "1521733015738662913            360002014  ...  https://t.co/uMfikCmd0I   \n",
       "1521733011414257664   828818052892422148  ...                        0   \n",
       "1521733010504445954            862077942  ...  https://t.co/iOfRLxEru5   \n",
       "1521733001981444096             53116513  ...                        0   \n",
       "...                                  ...  ...                      ...   \n",
       "1520733413246144512           2568024265  ...                        0   \n",
       "1520733412725870592             91813530  ...  https://t.co/s46eDxHM7n   \n",
       "1520733410947485702             19242429  ...  https://t.co/p52lELGgR6   \n",
       "1520733408607019008           2909723165  ...  https://t.co/p9TNxd7TyP   \n",
       "1520733408237916161  1069359838994550785  ...                        0   \n",
       "\n",
       "                                                           description  \\\n",
       "tweet_id                                                                 \n",
       "1521733018293084160                                                  0   \n",
       "1521733015738662913                                                  0   \n",
       "1521733011414257664                                                  0   \n",
       "1521733010504445954  It's not criticism, it's just a different way ...   \n",
       "1521733001981444096            I don't like cricket. oh no. i love it!   \n",
       "...                                                                ...   \n",
       "1520733413246144512                                                  0   \n",
       "1520733412725870592                                                  0   \n",
       "1520733410947485702  Toronto's Favorite Hot Shot / Bon Vivant / Pos...   \n",
       "1520733408607019008                  Diseño de videojuegos \\n✨🌻🏞️😊💗☄️✨   \n",
       "1520733408237916161                                                  0   \n",
       "\n",
       "                                                     profile_image_url  \\\n",
       "tweet_id                                                                 \n",
       "1521733018293084160                                                  0   \n",
       "1521733015738662913  https://pbs.twimg.com/profile_images/122215871...   \n",
       "1521733011414257664                                                  0   \n",
       "1521733010504445954  https://pbs.twimg.com/profile_images/150123920...   \n",
       "1521733001981444096  https://pbs.twimg.com/profile_images/110881711...   \n",
       "...                                                                ...   \n",
       "1520733413246144512                                                  0   \n",
       "1520733412725870592  https://pbs.twimg.com/profile_images/145343436...   \n",
       "1520733410947485702  https://pbs.twimg.com/profile_images/450450271...   \n",
       "1520733408607019008  https://pbs.twimg.com/profile_images/151907981...   \n",
       "1520733408237916161                                                  0   \n",
       "\n",
       "                              location protected       username verified  \\\n",
       "tweet_id                                                                   \n",
       "1521733018293084160                  0         0              0        0   \n",
       "1521733015738662913  Alcalá de Henares     False    AnaVGarciaG    False   \n",
       "1521733011414257664                  0         0              0        0   \n",
       "1521733010504445954              Spain     False      Geordioca    False   \n",
       "1521733001981444096          sheffield     False  chrisjones792    False   \n",
       "...                                ...       ...            ...      ...   \n",
       "1520733413246144512                  0         0              0        0   \n",
       "1520733412725870592              Malta     False         kabo59    False   \n",
       "1520733410947485702            Toronto     False    Jeremy__Kay    False   \n",
       "1520733408607019008             Madrid     False       eliasmgo    False   \n",
       "1520733408237916161                  0         0              0        0   \n",
       "\n",
       "                                                         entities_user  \\\n",
       "tweet_id                                                                 \n",
       "1521733018293084160                                                  0   \n",
       "1521733015738662913  {'url': {'urls': [{'start': 0, 'end': 23, 'url...   \n",
       "1521733011414257664                                                  0   \n",
       "1521733010504445954  {'url': {'urls': [{'start': 0, 'end': 23, 'url...   \n",
       "1521733001981444096                                                  0   \n",
       "...                                                                ...   \n",
       "1520733413246144512                                                  0   \n",
       "1520733412725870592  {'url': {'urls': [{'start': 0, 'end': 23, 'url...   \n",
       "1520733410947485702  {'url': {'urls': [{'start': 0, 'end': 23, 'url...   \n",
       "1520733408607019008  {'url': {'urls': [{'start': 0, 'end': 23, 'url...   \n",
       "1520733408237916161                                                  0   \n",
       "\n",
       "                    pinned_tweet_id withheld_user  \n",
       "tweet_id                                           \n",
       "1521733018293084160             0.0             0  \n",
       "1521733015738662913             0.0             0  \n",
       "1521733011414257664             0.0             0  \n",
       "1521733010504445954             0.0             0  \n",
       "1521733001981444096             0.0             0  \n",
       "...                             ...           ...  \n",
       "1520733413246144512             0.0             0  \n",
       "1520733412725870592             0.0             0  \n",
       "1520733410947485702             0.0             0  \n",
       "1520733408607019008             0.0             0  \n",
       "1520733408237916161             0.0             0  \n",
       "\n",
       "[192115 rows x 28 columns]"
      ]
     },
     "execution_count": 9,
     "metadata": {},
     "output_type": "execute_result"
    }
   ],
   "source": [
    "#the merged df should have as many records as tweets.\n",
    "\n",
    "#tweets-users dataframe\n",
    "tweets['id_tweets_copy'] = tweets.index\n",
    "tudf = pd.merge(tweets, users, how = 'left', left_on = 'author_id', right_on = 'id', suffixes = ('_tweet', '_user') )\n",
    "tudf.fillna(0, inplace = True)\n",
    "tudf.drop_duplicates(subset = 'id_tweets_copy', inplace = True)\n",
    "tudf.set_index('id_tweets_copy', inplace=True)\n",
    "tudf.index.rename('tweet_id', inplace = True)\n",
    "tudf\n"
   ]
  },
  {
   "cell_type": "code",
   "execution_count": 10,
   "id": "02d38e15",
   "metadata": {
    "scrolled": true
   },
   "outputs": [
    {
     "data": {
      "text/plain": [
       "'Wordle (ES)  #118 5/6\\n\\n⬜⬜🟨🟩⬜\\n⬜⬜🟨🟩⬜\\n⬜⬜⬜🟩🟩\\n⬜🟩⬜🟩🟩\\n🟩🟩🟩🟩🟩\\n https://t.co/oJCukg4JnD'"
      ]
     },
     "execution_count": 10,
     "metadata": {},
     "output_type": "execute_result"
    }
   ],
   "source": [
    "tudf.iloc[0]['text']"
   ]
  },
  {
   "cell_type": "code",
   "execution_count": 11,
   "id": "e083243c",
   "metadata": {},
   "outputs": [
    {
     "name": "stdout",
     "output_type": "stream",
     "text": [
      "\n",
      "⬜⬜🟨🟩⬜\n",
      "⬜⬜🟨🟩⬜\n",
      "⬜⬜⬜🟩🟩\n",
      "⬜🟩⬜🟩🟩\n",
      "🟩🟩🟩🟩🟩\n",
      "\n"
     ]
    }
   ],
   "source": [
    "print('\\n⬜⬜🟨🟩⬜\\n⬜⬜🟨🟩⬜\\n⬜⬜⬜🟩🟩\\n⬜🟩⬜🟩🟩\\n🟩🟩🟩🟩🟩\\n')"
   ]
  },
  {
   "cell_type": "code",
   "execution_count": 12,
   "id": "671a3a26",
   "metadata": {
    "scrolled": true
   },
   "outputs": [
    {
     "name": "stdout",
     "output_type": "stream",
     "text": [
      "<class 'pandas.core.frame.DataFrame'>\n",
      "Int64Index: 192115 entries, 1521733018293084160 to 1520733408237916161\n",
      "Data columns (total 28 columns):\n",
      " #   Column                Non-Null Count   Dtype  \n",
      "---  ------                --------------   -----  \n",
      " 0   conversation_id       192115 non-null  int64  \n",
      " 1   reply_settings        192115 non-null  object \n",
      " 2   lang                  192115 non-null  object \n",
      " 3   entities_tweet        192115 non-null  object \n",
      " 4   possibly_sensitive    192115 non-null  bool   \n",
      " 5   source                192115 non-null  object \n",
      " 6   public_metrics_tweet  192115 non-null  object \n",
      " 7   text                  192115 non-null  object \n",
      " 8   context_annotations   192115 non-null  object \n",
      " 9   author_id             192115 non-null  int64  \n",
      " 10  created_at            192115 non-null  object \n",
      " 11  referenced_tweets     192115 non-null  object \n",
      " 12  in_reply_to_user_id   192115 non-null  float64\n",
      " 13  attachments           192115 non-null  object \n",
      " 14  geo                   192115 non-null  object \n",
      " 15  withheld_tweet        192115 non-null  object \n",
      " 16  name                  192115 non-null  object \n",
      " 17  public_metrics_user   192115 non-null  object \n",
      " 18  url                   192115 non-null  object \n",
      " 19  description           192115 non-null  object \n",
      " 20  profile_image_url     192115 non-null  object \n",
      " 21  location              192115 non-null  object \n",
      " 22  protected             192115 non-null  object \n",
      " 23  username              192115 non-null  object \n",
      " 24  verified              192115 non-null  object \n",
      " 25  entities_user         192115 non-null  object \n",
      " 26  pinned_tweet_id       192115 non-null  float64\n",
      " 27  withheld_user         192115 non-null  object \n",
      "dtypes: bool(1), float64(2), int64(2), object(23)\n",
      "memory usage: 41.2+ MB\n"
     ]
    }
   ],
   "source": [
    "tudf.info()"
   ]
  },
  {
   "cell_type": "code",
   "execution_count": 13,
   "id": "cf3b5ac0",
   "metadata": {
    "scrolled": true
   },
   "outputs": [
    {
     "data": {
      "text/plain": [
       "Index(['conversation_id', 'reply_settings', 'lang', 'entities_tweet',\n",
       "       'possibly_sensitive', 'source', 'public_metrics_tweet', 'text',\n",
       "       'context_annotations', 'author_id', 'created_at', 'referenced_tweets',\n",
       "       'in_reply_to_user_id', 'attachments', 'geo', 'withheld_tweet', 'name',\n",
       "       'public_metrics_user', 'url', 'description', 'profile_image_url',\n",
       "       'location', 'protected', 'username', 'verified', 'entities_user',\n",
       "       'pinned_tweet_id', 'withheld_user'],\n",
       "      dtype='object')"
      ]
     },
     "execution_count": 13,
     "metadata": {},
     "output_type": "execute_result"
    }
   ],
   "source": [
    "tudf.columns"
   ]
  },
  {
   "cell_type": "code",
   "execution_count": 14,
   "id": "590b790c",
   "metadata": {},
   "outputs": [
    {
     "data": {
      "text/plain": [
       "conversation_id                                       1520733408237916161\n",
       "reply_settings                                                   everyone\n",
       "lang                                                                   en\n",
       "entities_tweet                                                          0\n",
       "possibly_sensitive                                                  False\n",
       "source                                                 Twitter for iPhone\n",
       "public_metrics_tweet    {'retweet_count': 0, 'reply_count': 0, 'like_c...\n",
       "text                        Wordle 316 3/6\\r\\n\\r\\n⬛⬛🟩⬛⬛\\r\\n⬛🟩🟩⬛⬛\\r\\n🟩🟩🟩🟩🟩\n",
       "context_annotations     [{'domain': {'id': '30', 'name': 'Entities [En...\n",
       "author_id                                             1069359838994550785\n",
       "created_at                                      2022-05-01 11:54:33+00:00\n",
       "referenced_tweets                                                       0\n",
       "in_reply_to_user_id                                                   0.0\n",
       "attachments                                                             0\n",
       "geo                                                                     0\n",
       "withheld_tweet                                                          0\n",
       "name                                                                    0\n",
       "public_metrics_user                                                     0\n",
       "url                                                                     0\n",
       "description                                                             0\n",
       "profile_image_url                                                       0\n",
       "location                                                                0\n",
       "protected                                                               0\n",
       "username                                                                0\n",
       "verified                                                                0\n",
       "entities_user                                                           0\n",
       "pinned_tweet_id                                                       0.0\n",
       "withheld_user                                                           0\n",
       "Name: 1520733408237916161, dtype: object"
      ]
     },
     "execution_count": 14,
     "metadata": {},
     "output_type": "execute_result"
    }
   ],
   "source": [
    "tudf.iloc[-1]"
   ]
  },
  {
   "cell_type": "code",
   "execution_count": 15,
   "id": "982a18cc",
   "metadata": {
    "scrolled": true
   },
   "outputs": [
    {
     "data": {
      "text/plain": [
       "conversation_id                                       1482287271697170432\n",
       "reply_settings                                                   everyone\n",
       "lang                                                                   en\n",
       "entities_tweet                                                          0\n",
       "possibly_sensitive                                                  False\n",
       "source                                                Twitter for Android\n",
       "public_metrics_tweet    {'retweet_count': 0, 'reply_count': 1, 'like_c...\n",
       "text                    Wordle (ES)  #115 4/6\\r\\n\\r\\n⬜⬜⬜⬜🟩\\r\\n🟨⬜⬜🟩🟩\\r\\...\n",
       "context_annotations     [{'domain': {'id': '30', 'name': 'Entities [En...\n",
       "author_id                                                      2909723165\n",
       "created_at                                      2022-05-01 11:54:33+00:00\n",
       "referenced_tweets       [{'type': 'replied_to', 'id': '152030925309287...\n",
       "in_reply_to_user_id                                          2909723165.0\n",
       "attachments                                                             0\n",
       "geo                                                                     0\n",
       "withheld_tweet                                                          0\n",
       "name                                                              eliazzz\n",
       "public_metrics_user     {'followers_count': 354, 'following_count': 12...\n",
       "url                                               https://t.co/p9TNxd7TyP\n",
       "description                             Diseño de videojuegos \\n✨🌻🏞️😊💗☄️✨\n",
       "profile_image_url       https://pbs.twimg.com/profile_images/151907981...\n",
       "location                                                           Madrid\n",
       "protected                                                           False\n",
       "username                                                         eliasmgo\n",
       "verified                                                            False\n",
       "entities_user           {'url': {'urls': [{'start': 0, 'end': 23, 'url...\n",
       "pinned_tweet_id                                                       0.0\n",
       "withheld_user                                                           0\n",
       "Name: 1520733408607019008, dtype: object"
      ]
     },
     "execution_count": 15,
     "metadata": {},
     "output_type": "execute_result"
    }
   ],
   "source": [
    "tudf.iloc[-2]"
   ]
  },
  {
   "cell_type": "code",
   "execution_count": 16,
   "id": "3d6e4bf4",
   "metadata": {},
   "outputs": [
    {
     "data": {
      "text/plain": [
       "0"
      ]
     },
     "execution_count": 16,
     "metadata": {},
     "output_type": "execute_result"
    }
   ],
   "source": [
    "tudf.iloc[-1]['withheld_tweet']"
   ]
  },
  {
   "cell_type": "code",
   "execution_count": 17,
   "id": "b10d3875",
   "metadata": {
    "scrolled": true
   },
   "outputs": [
    {
     "data": {
      "text/plain": [
       "0"
      ]
     },
     "execution_count": 17,
     "metadata": {},
     "output_type": "execute_result"
    }
   ],
   "source": [
    "tudf.iloc[-2]['withheld_tweet']"
   ]
  },
  {
   "cell_type": "code",
   "execution_count": 18,
   "id": "90f2fb90",
   "metadata": {},
   "outputs": [
    {
     "data": {
      "text/plain": [
       "True"
      ]
     },
     "execution_count": 18,
     "metadata": {},
     "output_type": "execute_result"
    }
   ],
   "source": [
    "tudf.iloc[-1]['withheld_tweet'] == tudf.iloc[-2]['withheld_tweet']"
   ]
  },
  {
   "cell_type": "markdown",
   "id": "83c6c915",
   "metadata": {},
   "source": [
    "It looks like a lot of the tweets are duplicated because merges and drop_duplicates don't consider NaN == NaN. For example, `tudf.iloc[-1, 'withheld_tweet']` and `tudf.iloc[-2, 'withheld_tweet]` are both null, but they are not considered equal to each other."
   ]
  },
  {
   "cell_type": "code",
   "execution_count": 19,
   "id": "06c448c5",
   "metadata": {},
   "outputs": [],
   "source": [
    "#fast and loose fillna for dropping duplicates\n",
    "tudf.fillna(0, inplace=True)"
   ]
  },
  {
   "cell_type": "code",
   "execution_count": 20,
   "id": "3b0743e1",
   "metadata": {},
   "outputs": [
    {
     "name": "stdout",
     "output_type": "stream",
     "text": [
      "<class 'pandas.core.frame.DataFrame'>\n",
      "Int64Index: 192115 entries, 1521733018293084160 to 1520733408237916161\n",
      "Data columns (total 28 columns):\n",
      " #   Column                Non-Null Count   Dtype  \n",
      "---  ------                --------------   -----  \n",
      " 0   conversation_id       192115 non-null  int64  \n",
      " 1   reply_settings        192115 non-null  object \n",
      " 2   lang                  192115 non-null  object \n",
      " 3   entities_tweet        192115 non-null  object \n",
      " 4   possibly_sensitive    192115 non-null  bool   \n",
      " 5   source                192115 non-null  object \n",
      " 6   public_metrics_tweet  192115 non-null  object \n",
      " 7   text                  192115 non-null  object \n",
      " 8   context_annotations   192115 non-null  object \n",
      " 9   author_id             192115 non-null  int64  \n",
      " 10  created_at            192115 non-null  object \n",
      " 11  referenced_tweets     192115 non-null  object \n",
      " 12  in_reply_to_user_id   192115 non-null  float64\n",
      " 13  attachments           192115 non-null  object \n",
      " 14  geo                   192115 non-null  object \n",
      " 15  withheld_tweet        192115 non-null  object \n",
      " 16  name                  192115 non-null  object \n",
      " 17  public_metrics_user   192115 non-null  object \n",
      " 18  url                   192115 non-null  object \n",
      " 19  description           192115 non-null  object \n",
      " 20  profile_image_url     192115 non-null  object \n",
      " 21  location              192115 non-null  object \n",
      " 22  protected             192115 non-null  object \n",
      " 23  username              192115 non-null  object \n",
      " 24  verified              192115 non-null  object \n",
      " 25  entities_user         192115 non-null  object \n",
      " 26  pinned_tweet_id       192115 non-null  float64\n",
      " 27  withheld_user         192115 non-null  object \n",
      "dtypes: bool(1), float64(2), int64(2), object(23)\n",
      "memory usage: 41.2+ MB\n"
     ]
    }
   ],
   "source": [
    "tudf.drop_duplicates(inplace=True)\n",
    "tudf.info()"
   ]
  },
  {
   "cell_type": "code",
   "execution_count": 21,
   "id": "5b900f59",
   "metadata": {},
   "outputs": [
    {
     "data": {
      "text/html": [
       "<div>\n",
       "<style scoped>\n",
       "    .dataframe tbody tr th:only-of-type {\n",
       "        vertical-align: middle;\n",
       "    }\n",
       "\n",
       "    .dataframe tbody tr th {\n",
       "        vertical-align: top;\n",
       "    }\n",
       "\n",
       "    .dataframe thead th {\n",
       "        text-align: right;\n",
       "    }\n",
       "</style>\n",
       "<table border=\"1\" class=\"dataframe\">\n",
       "  <thead>\n",
       "    <tr style=\"text-align: right;\">\n",
       "      <th></th>\n",
       "      <th>conversation_id</th>\n",
       "      <th>reply_settings</th>\n",
       "      <th>lang</th>\n",
       "      <th>entities_tweet</th>\n",
       "      <th>possibly_sensitive</th>\n",
       "      <th>source</th>\n",
       "      <th>public_metrics_tweet</th>\n",
       "      <th>text</th>\n",
       "      <th>context_annotations</th>\n",
       "      <th>author_id</th>\n",
       "      <th>...</th>\n",
       "      <th>url</th>\n",
       "      <th>description</th>\n",
       "      <th>profile_image_url</th>\n",
       "      <th>location</th>\n",
       "      <th>protected</th>\n",
       "      <th>username</th>\n",
       "      <th>verified</th>\n",
       "      <th>entities_user</th>\n",
       "      <th>pinned_tweet_id</th>\n",
       "      <th>withheld_user</th>\n",
       "    </tr>\n",
       "    <tr>\n",
       "      <th>tweet_id</th>\n",
       "      <th></th>\n",
       "      <th></th>\n",
       "      <th></th>\n",
       "      <th></th>\n",
       "      <th></th>\n",
       "      <th></th>\n",
       "      <th></th>\n",
       "      <th></th>\n",
       "      <th></th>\n",
       "      <th></th>\n",
       "      <th></th>\n",
       "      <th></th>\n",
       "      <th></th>\n",
       "      <th></th>\n",
       "      <th></th>\n",
       "      <th></th>\n",
       "      <th></th>\n",
       "      <th></th>\n",
       "      <th></th>\n",
       "      <th></th>\n",
       "      <th></th>\n",
       "    </tr>\n",
       "  </thead>\n",
       "  <tbody>\n",
       "    <tr>\n",
       "      <th>1520733413246144512</th>\n",
       "      <td>1520733413246144512</td>\n",
       "      <td>everyone</td>\n",
       "      <td>es</td>\n",
       "      <td>{'urls': [{'start': 118, 'end': 141, 'url': 'h...</td>\n",
       "      <td>False</td>\n",
       "      <td>Twitter for Android</td>\n",
       "      <td>{'retweet_count': 0, 'reply_count': 0, 'like_c...</td>\n",
       "      <td>Una de las malditas con montones de posibilida...</td>\n",
       "      <td>[{'domain': {'id': '30', 'name': 'Entities [En...</td>\n",
       "      <td>2568024265</td>\n",
       "      <td>...</td>\n",
       "      <td>0</td>\n",
       "      <td>0</td>\n",
       "      <td>0</td>\n",
       "      <td>0</td>\n",
       "      <td>0</td>\n",
       "      <td>0</td>\n",
       "      <td>0</td>\n",
       "      <td>0</td>\n",
       "      <td>0.0</td>\n",
       "      <td>0</td>\n",
       "    </tr>\n",
       "    <tr>\n",
       "      <th>1520733412725870592</th>\n",
       "      <td>1520733412725870592</td>\n",
       "      <td>everyone</td>\n",
       "      <td>und</td>\n",
       "      <td>{'hashtags': [{'start': 0, 'end': 7, 'tag': 'W...</td>\n",
       "      <td>False</td>\n",
       "      <td>Twitter for iPhone</td>\n",
       "      <td>{'retweet_count': 0, 'reply_count': 0, 'like_c...</td>\n",
       "      <td>#Wordle 316 4/6\\r\\n\\r\\n🟨⬛⬛⬛⬛\\r\\n⬛⬛🟨⬛🟨\\r\\n⬛⬛⬛⬛🟩...</td>\n",
       "      <td>[{'domain': {'id': '30', 'name': 'Entities [En...</td>\n",
       "      <td>91813530</td>\n",
       "      <td>...</td>\n",
       "      <td>https://t.co/s46eDxHM7n</td>\n",
       "      <td>0</td>\n",
       "      <td>https://pbs.twimg.com/profile_images/145343436...</td>\n",
       "      <td>Malta</td>\n",
       "      <td>False</td>\n",
       "      <td>kabo59</td>\n",
       "      <td>False</td>\n",
       "      <td>{'url': {'urls': [{'start': 0, 'end': 23, 'url...</td>\n",
       "      <td>0.0</td>\n",
       "      <td>0</td>\n",
       "    </tr>\n",
       "    <tr>\n",
       "      <th>1520733410947485702</th>\n",
       "      <td>1520733410947485702</td>\n",
       "      <td>everyone</td>\n",
       "      <td>en</td>\n",
       "      <td>0</td>\n",
       "      <td>False</td>\n",
       "      <td>Twitter for iPhone</td>\n",
       "      <td>{'retweet_count': 0, 'reply_count': 0, 'like_c...</td>\n",
       "      <td>Wordle 316 6/6\\r\\n\\r\\n🟨🟩⬛⬛⬛\\r\\n⬛🟩⬛⬛⬛\\r\\n⬛🟩⬛⬛⬛c...</td>\n",
       "      <td>[{'domain': {'id': '30', 'name': 'Entities [En...</td>\n",
       "      <td>19242429</td>\n",
       "      <td>...</td>\n",
       "      <td>https://t.co/p52lELGgR6</td>\n",
       "      <td>Toronto's Favorite Hot Shot / Bon Vivant / Pos...</td>\n",
       "      <td>https://pbs.twimg.com/profile_images/450450271...</td>\n",
       "      <td>Toronto</td>\n",
       "      <td>False</td>\n",
       "      <td>Jeremy__Kay</td>\n",
       "      <td>False</td>\n",
       "      <td>{'url': {'urls': [{'start': 0, 'end': 23, 'url...</td>\n",
       "      <td>0.0</td>\n",
       "      <td>0</td>\n",
       "    </tr>\n",
       "    <tr>\n",
       "      <th>1520733408607019008</th>\n",
       "      <td>1482287271697170432</td>\n",
       "      <td>everyone</td>\n",
       "      <td>en</td>\n",
       "      <td>0</td>\n",
       "      <td>False</td>\n",
       "      <td>Twitter for Android</td>\n",
       "      <td>{'retweet_count': 0, 'reply_count': 1, 'like_c...</td>\n",
       "      <td>Wordle (ES)  #115 4/6\\r\\n\\r\\n⬜⬜⬜⬜🟩\\r\\n🟨⬜⬜🟩🟩\\r\\...</td>\n",
       "      <td>[{'domain': {'id': '30', 'name': 'Entities [En...</td>\n",
       "      <td>2909723165</td>\n",
       "      <td>...</td>\n",
       "      <td>https://t.co/p9TNxd7TyP</td>\n",
       "      <td>Diseño de videojuegos \\n✨🌻🏞️😊💗☄️✨</td>\n",
       "      <td>https://pbs.twimg.com/profile_images/151907981...</td>\n",
       "      <td>Madrid</td>\n",
       "      <td>False</td>\n",
       "      <td>eliasmgo</td>\n",
       "      <td>False</td>\n",
       "      <td>{'url': {'urls': [{'start': 0, 'end': 23, 'url...</td>\n",
       "      <td>0.0</td>\n",
       "      <td>0</td>\n",
       "    </tr>\n",
       "    <tr>\n",
       "      <th>1520733408237916161</th>\n",
       "      <td>1520733408237916161</td>\n",
       "      <td>everyone</td>\n",
       "      <td>en</td>\n",
       "      <td>0</td>\n",
       "      <td>False</td>\n",
       "      <td>Twitter for iPhone</td>\n",
       "      <td>{'retweet_count': 0, 'reply_count': 0, 'like_c...</td>\n",
       "      <td>Wordle 316 3/6\\r\\n\\r\\n⬛⬛🟩⬛⬛\\r\\n⬛🟩🟩⬛⬛\\r\\n🟩🟩🟩🟩🟩</td>\n",
       "      <td>[{'domain': {'id': '30', 'name': 'Entities [En...</td>\n",
       "      <td>1069359838994550785</td>\n",
       "      <td>...</td>\n",
       "      <td>0</td>\n",
       "      <td>0</td>\n",
       "      <td>0</td>\n",
       "      <td>0</td>\n",
       "      <td>0</td>\n",
       "      <td>0</td>\n",
       "      <td>0</td>\n",
       "      <td>0</td>\n",
       "      <td>0.0</td>\n",
       "      <td>0</td>\n",
       "    </tr>\n",
       "  </tbody>\n",
       "</table>\n",
       "<p>5 rows × 28 columns</p>\n",
       "</div>"
      ],
      "text/plain": [
       "                         conversation_id reply_settings lang  \\\n",
       "tweet_id                                                       \n",
       "1520733413246144512  1520733413246144512       everyone   es   \n",
       "1520733412725870592  1520733412725870592       everyone  und   \n",
       "1520733410947485702  1520733410947485702       everyone   en   \n",
       "1520733408607019008  1482287271697170432       everyone   en   \n",
       "1520733408237916161  1520733408237916161       everyone   en   \n",
       "\n",
       "                                                        entities_tweet  \\\n",
       "tweet_id                                                                 \n",
       "1520733413246144512  {'urls': [{'start': 118, 'end': 141, 'url': 'h...   \n",
       "1520733412725870592  {'hashtags': [{'start': 0, 'end': 7, 'tag': 'W...   \n",
       "1520733410947485702                                                  0   \n",
       "1520733408607019008                                                  0   \n",
       "1520733408237916161                                                  0   \n",
       "\n",
       "                     possibly_sensitive               source  \\\n",
       "tweet_id                                                       \n",
       "1520733413246144512               False  Twitter for Android   \n",
       "1520733412725870592               False   Twitter for iPhone   \n",
       "1520733410947485702               False   Twitter for iPhone   \n",
       "1520733408607019008               False  Twitter for Android   \n",
       "1520733408237916161               False   Twitter for iPhone   \n",
       "\n",
       "                                                  public_metrics_tweet  \\\n",
       "tweet_id                                                                 \n",
       "1520733413246144512  {'retweet_count': 0, 'reply_count': 0, 'like_c...   \n",
       "1520733412725870592  {'retweet_count': 0, 'reply_count': 0, 'like_c...   \n",
       "1520733410947485702  {'retweet_count': 0, 'reply_count': 0, 'like_c...   \n",
       "1520733408607019008  {'retweet_count': 0, 'reply_count': 1, 'like_c...   \n",
       "1520733408237916161  {'retweet_count': 0, 'reply_count': 0, 'like_c...   \n",
       "\n",
       "                                                                  text  \\\n",
       "tweet_id                                                                 \n",
       "1520733413246144512  Una de las malditas con montones de posibilida...   \n",
       "1520733412725870592  #Wordle 316 4/6\\r\\n\\r\\n🟨⬛⬛⬛⬛\\r\\n⬛⬛🟨⬛🟨\\r\\n⬛⬛⬛⬛🟩...   \n",
       "1520733410947485702  Wordle 316 6/6\\r\\n\\r\\n🟨🟩⬛⬛⬛\\r\\n⬛🟩⬛⬛⬛\\r\\n⬛🟩⬛⬛⬛c...   \n",
       "1520733408607019008  Wordle (ES)  #115 4/6\\r\\n\\r\\n⬜⬜⬜⬜🟩\\r\\n🟨⬜⬜🟩🟩\\r\\...   \n",
       "1520733408237916161      Wordle 316 3/6\\r\\n\\r\\n⬛⬛🟩⬛⬛\\r\\n⬛🟩🟩⬛⬛\\r\\n🟩🟩🟩🟩🟩   \n",
       "\n",
       "                                                   context_annotations  \\\n",
       "tweet_id                                                                 \n",
       "1520733413246144512  [{'domain': {'id': '30', 'name': 'Entities [En...   \n",
       "1520733412725870592  [{'domain': {'id': '30', 'name': 'Entities [En...   \n",
       "1520733410947485702  [{'domain': {'id': '30', 'name': 'Entities [En...   \n",
       "1520733408607019008  [{'domain': {'id': '30', 'name': 'Entities [En...   \n",
       "1520733408237916161  [{'domain': {'id': '30', 'name': 'Entities [En...   \n",
       "\n",
       "                               author_id  ...                      url  \\\n",
       "tweet_id                                  ...                            \n",
       "1520733413246144512           2568024265  ...                        0   \n",
       "1520733412725870592             91813530  ...  https://t.co/s46eDxHM7n   \n",
       "1520733410947485702             19242429  ...  https://t.co/p52lELGgR6   \n",
       "1520733408607019008           2909723165  ...  https://t.co/p9TNxd7TyP   \n",
       "1520733408237916161  1069359838994550785  ...                        0   \n",
       "\n",
       "                                                           description  \\\n",
       "tweet_id                                                                 \n",
       "1520733413246144512                                                  0   \n",
       "1520733412725870592                                                  0   \n",
       "1520733410947485702  Toronto's Favorite Hot Shot / Bon Vivant / Pos...   \n",
       "1520733408607019008                  Diseño de videojuegos \\n✨🌻🏞️😊💗☄️✨   \n",
       "1520733408237916161                                                  0   \n",
       "\n",
       "                                                     profile_image_url  \\\n",
       "tweet_id                                                                 \n",
       "1520733413246144512                                                  0   \n",
       "1520733412725870592  https://pbs.twimg.com/profile_images/145343436...   \n",
       "1520733410947485702  https://pbs.twimg.com/profile_images/450450271...   \n",
       "1520733408607019008  https://pbs.twimg.com/profile_images/151907981...   \n",
       "1520733408237916161                                                  0   \n",
       "\n",
       "                    location protected     username verified  \\\n",
       "tweet_id                                                       \n",
       "1520733413246144512        0         0            0        0   \n",
       "1520733412725870592    Malta     False       kabo59    False   \n",
       "1520733410947485702  Toronto     False  Jeremy__Kay    False   \n",
       "1520733408607019008   Madrid     False     eliasmgo    False   \n",
       "1520733408237916161        0         0            0        0   \n",
       "\n",
       "                                                         entities_user  \\\n",
       "tweet_id                                                                 \n",
       "1520733413246144512                                                  0   \n",
       "1520733412725870592  {'url': {'urls': [{'start': 0, 'end': 23, 'url...   \n",
       "1520733410947485702  {'url': {'urls': [{'start': 0, 'end': 23, 'url...   \n",
       "1520733408607019008  {'url': {'urls': [{'start': 0, 'end': 23, 'url...   \n",
       "1520733408237916161                                                  0   \n",
       "\n",
       "                    pinned_tweet_id withheld_user  \n",
       "tweet_id                                           \n",
       "1520733413246144512             0.0             0  \n",
       "1520733412725870592             0.0             0  \n",
       "1520733410947485702             0.0             0  \n",
       "1520733408607019008             0.0             0  \n",
       "1520733408237916161             0.0             0  \n",
       "\n",
       "[5 rows x 28 columns]"
      ]
     },
     "execution_count": 21,
     "metadata": {},
     "output_type": "execute_result"
    }
   ],
   "source": [
    "tudf.tail()"
   ]
  },
  {
   "cell_type": "markdown",
   "id": "1f9e9528",
   "metadata": {},
   "source": [
    "---\n",
    "---\n",
    "## Basic EDA"
   ]
  },
  {
   "cell_type": "markdown",
   "id": "86011d62",
   "metadata": {},
   "source": [
    "---\n",
    "### Language `lang`\n",
    "\n",
    "A JSON converter for iso language codes to their proper english names was grabbed from [github/haliaeetus iso-639](https://github.com/haliaeetus/iso-639)"
   ]
  },
  {
   "cell_type": "code",
   "execution_count": 27,
   "id": "ff7fa544",
   "metadata": {
    "scrolled": true
   },
   "outputs": [],
   "source": [
    "with open('../iso_639-1.json', 'r', encoding='utf-8') as lang_file:\n",
    "    lang_dict = json.load(lang_file)\n",
    "lang_dict['und'] = {'name':'undefined'}\n",
    "lang_dict['in'] = {'name':'Indonesian'} #filling in some missing ones\n",
    "lang_dict['iw'] = {'name':'Hebrew'}"
   ]
  },
  {
   "cell_type": "code",
   "execution_count": 28,
   "id": "6fd81100",
   "metadata": {
    "scrolled": true
   },
   "outputs": [
    {
     "data": {
      "text/plain": [
       "{'639-1': 'aa',\n",
       " '639-2': 'aar',\n",
       " 'family': 'Afro-Asiatic',\n",
       " 'name': 'Afar',\n",
       " 'nativeName': 'Afaraf',\n",
       " 'wikiUrl': 'https://en.wikipedia.org/wiki/Afar_language'}"
      ]
     },
     "execution_count": 28,
     "metadata": {},
     "output_type": "execute_result"
    }
   ],
   "source": [
    "lang_dict['aa']"
   ]
  },
  {
   "cell_type": "code",
   "execution_count": 29,
   "id": "6c8056f7",
   "metadata": {
    "scrolled": false
   },
   "outputs": [
    {
     "data": {
      "image/png": "[encoded data removed]",
      "text/plain": [
       "<Figure size 864x1728 with 1 Axes>"
      ]
     },
     "metadata": {},
     "output_type": "display_data"
    }
   ],
   "source": [
    "#plot languages\n",
    "lang_vcs = tudf['lang'].value_counts()\n",
    "lang_vcs_names = [\n",
    "     lang_dict[lang]['name']\n",
    "     for lang in lang_vcs.index\n",
    "]\n",
    "plt.figure(figsize=(12,24))\n",
    "plt.barh(width=lang_vcs, y=lang_vcs_names, log = True)\n",
    "plt.title('Twitter Wordle languages (log)')\n",
    "plt.xlabel(\"number of tweets in data set\");"
   ]
  },
  {
   "cell_type": "markdown",
   "id": "47f06880",
   "metadata": {},
   "source": [
    "### conversation Id\n",
    "The `conversation_id` is the id of the \"base\" tweet. If it's different from the tweet id, then the tweet is a reply somewhere in a thread with the base tweet as the root."
   ]
  },
  {
   "cell_type": "code",
   "execution_count": 30,
   "id": "598068da",
   "metadata": {},
   "outputs": [
    {
     "data": {
      "text/plain": [
       "17635"
      ]
     },
     "execution_count": 30,
     "metadata": {},
     "output_type": "execute_result"
    }
   ],
   "source": [
    "# What tweets have the same conversation id as index (id)?\n",
    "is_reply = tudf['conversation_id'] != tudf.index\n",
    "is_reply.sum()"
   ]
  },
  {
   "cell_type": "code",
   "execution_count": 31,
   "id": "55d70d14",
   "metadata": {},
   "outputs": [
    {
     "data": {
      "text/plain": [
       "0.09179397756552066"
      ]
     },
     "execution_count": 31,
     "metadata": {},
     "output_type": "execute_result"
    }
   ],
   "source": [
    "is_reply.sum()/len(tudf)"
   ]
  },
  {
   "cell_type": "markdown",
   "id": "2a291797",
   "metadata": {},
   "source": [
    "about 9% of these tweets are in reply to another tweet."
   ]
  },
  {
   "cell_type": "markdown",
   "id": "1927b8ef",
   "metadata": {},
   "source": [
    "---\n",
    "###  reply_settings\n"
   ]
  },
  {
   "cell_type": "code",
   "execution_count": 32,
   "id": "e5b5a2d8",
   "metadata": {
    "scrolled": true
   },
   "outputs": [
    {
     "data": {
      "text/plain": [
       "everyone          191306\n",
       "following            461\n",
       "mentionedUsers       348\n",
       "Name: reply_settings, dtype: int64"
      ]
     },
     "execution_count": 32,
     "metadata": {},
     "output_type": "execute_result"
    }
   ],
   "source": [
    "tudf['reply_settings'].value_counts()"
   ]
  },
  {
   "cell_type": "markdown",
   "id": "6e12b6a1",
   "metadata": {},
   "source": [
    "### entities_tweet\n",
    "\n",
    "These were `entities` in the tweets data. Entities "
   ]
  },
  {
   "cell_type": "code",
   "execution_count": 33,
   "id": "395c3af1",
   "metadata": {},
   "outputs": [
    {
     "data": {
      "text/plain": [
       "tweet_id\n",
       "1521733018293084160    {'urls': [{'start': 54, 'end': 77, 'url': 'htt...\n",
       "1521733015738662913    {'urls': [{'start': 58, 'end': 81, 'url': 'htt...\n",
       "1521733011414257664                                                    0\n",
       "1521733010504445954                                                    0\n",
       "1521733001981444096    {'mentions': [{'start': 0, 'end': 12, 'usernam...\n",
       "                                             ...                        \n",
       "1520733413246144512    {'urls': [{'start': 118, 'end': 141, 'url': 'h...\n",
       "1520733412725870592    {'hashtags': [{'start': 0, 'end': 7, 'tag': 'W...\n",
       "1520733410947485702                                                    0\n",
       "1520733408607019008                                                    0\n",
       "1520733408237916161                                                    0\n",
       "Name: entities_tweet, Length: 192115, dtype: object"
      ]
     },
     "execution_count": 33,
     "metadata": {},
     "output_type": "execute_result"
    }
   ],
   "source": [
    "tudf['entities_tweet']"
   ]
  },
  {
   "cell_type": "code",
   "execution_count": 34,
   "id": "263ada6e",
   "metadata": {},
   "outputs": [
    {
     "ename": "JSONDecodeError",
     "evalue": "Expecting ',' delimiter: line 1 column 263 (char 262)",
     "output_type": "error",
     "traceback": [
      "\u001b[1;31m---------------------------------------------------------------------------\u001b[0m",
      "\u001b[1;31mJSONDecodeError\u001b[0m                           Traceback (most recent call last)",
      "\u001b[1;32m~\\AppData\\Local\\Temp/ipykernel_3288/1563149950.py\u001b[0m in \u001b[0;36m<module>\u001b[1;34m\u001b[0m\n\u001b[0;32m      1\u001b[0m \u001b[1;31m#what are the unique entities?\u001b[0m\u001b[1;33m\u001b[0m\u001b[1;33m\u001b[0m\u001b[0m\n\u001b[1;32m----> 2\u001b[1;33m [\n\u001b[0m\u001b[0;32m      3\u001b[0m     \u001b[0mjson\u001b[0m\u001b[1;33m.\u001b[0m\u001b[0mloads\u001b[0m\u001b[1;33m(\u001b[0m\u001b[0mentity\u001b[0m\u001b[1;33m.\u001b[0m\u001b[0mreplace\u001b[0m\u001b[1;33m(\u001b[0m\u001b[1;34m\"'\"\u001b[0m\u001b[1;33m,\u001b[0m \u001b[1;34m'\"'\u001b[0m\u001b[1;33m)\u001b[0m\u001b[1;33m)\u001b[0m\u001b[1;33m\u001b[0m\u001b[1;33m\u001b[0m\u001b[0m\n\u001b[0;32m      4\u001b[0m     \u001b[1;32mfor\u001b[0m \u001b[0mentity\u001b[0m \u001b[1;32min\u001b[0m \u001b[0mtudf\u001b[0m\u001b[1;33m[\u001b[0m\u001b[1;34m'entities_tweet'\u001b[0m\u001b[1;33m]\u001b[0m\u001b[1;33m\u001b[0m\u001b[1;33m\u001b[0m\u001b[0m\n\u001b[0;32m      5\u001b[0m     \u001b[1;32mif\u001b[0m \u001b[0mtype\u001b[0m\u001b[1;33m(\u001b[0m\u001b[0mentity\u001b[0m\u001b[1;33m)\u001b[0m \u001b[1;33m==\u001b[0m \u001b[0mstr\u001b[0m\u001b[1;33m\u001b[0m\u001b[1;33m\u001b[0m\u001b[0m\n",
      "\u001b[1;32m~\\AppData\\Local\\Temp/ipykernel_3288/1563149950.py\u001b[0m in \u001b[0;36m<listcomp>\u001b[1;34m(.0)\u001b[0m\n\u001b[0;32m      1\u001b[0m \u001b[1;31m#what are the unique entities?\u001b[0m\u001b[1;33m\u001b[0m\u001b[1;33m\u001b[0m\u001b[0m\n\u001b[0;32m      2\u001b[0m [\n\u001b[1;32m----> 3\u001b[1;33m     \u001b[0mjson\u001b[0m\u001b[1;33m.\u001b[0m\u001b[0mloads\u001b[0m\u001b[1;33m(\u001b[0m\u001b[0mentity\u001b[0m\u001b[1;33m.\u001b[0m\u001b[0mreplace\u001b[0m\u001b[1;33m(\u001b[0m\u001b[1;34m\"'\"\u001b[0m\u001b[1;33m,\u001b[0m \u001b[1;34m'\"'\u001b[0m\u001b[1;33m)\u001b[0m\u001b[1;33m)\u001b[0m\u001b[1;33m\u001b[0m\u001b[1;33m\u001b[0m\u001b[0m\n\u001b[0m\u001b[0;32m      4\u001b[0m     \u001b[1;32mfor\u001b[0m \u001b[0mentity\u001b[0m \u001b[1;32min\u001b[0m \u001b[0mtudf\u001b[0m\u001b[1;33m[\u001b[0m\u001b[1;34m'entities_tweet'\u001b[0m\u001b[1;33m]\u001b[0m\u001b[1;33m\u001b[0m\u001b[1;33m\u001b[0m\u001b[0m\n\u001b[0;32m      5\u001b[0m     \u001b[1;32mif\u001b[0m \u001b[0mtype\u001b[0m\u001b[1;33m(\u001b[0m\u001b[0mentity\u001b[0m\u001b[1;33m)\u001b[0m \u001b[1;33m==\u001b[0m \u001b[0mstr\u001b[0m\u001b[1;33m\u001b[0m\u001b[1;33m\u001b[0m\u001b[0m\n",
      "\u001b[1;32mC:\\ProgramData\\Anaconda3\\lib\\json\\__init__.py\u001b[0m in \u001b[0;36mloads\u001b[1;34m(s, cls, object_hook, parse_float, parse_int, parse_constant, object_pairs_hook, **kw)\u001b[0m\n\u001b[0;32m    344\u001b[0m             \u001b[0mparse_int\u001b[0m \u001b[1;32mis\u001b[0m \u001b[1;32mNone\u001b[0m \u001b[1;32mand\u001b[0m \u001b[0mparse_float\u001b[0m \u001b[1;32mis\u001b[0m \u001b[1;32mNone\u001b[0m \u001b[1;32mand\u001b[0m\u001b[1;33m\u001b[0m\u001b[1;33m\u001b[0m\u001b[0m\n\u001b[0;32m    345\u001b[0m             parse_constant is None and object_pairs_hook is None and not kw):\n\u001b[1;32m--> 346\u001b[1;33m         \u001b[1;32mreturn\u001b[0m \u001b[0m_default_decoder\u001b[0m\u001b[1;33m.\u001b[0m\u001b[0mdecode\u001b[0m\u001b[1;33m(\u001b[0m\u001b[0ms\u001b[0m\u001b[1;33m)\u001b[0m\u001b[1;33m\u001b[0m\u001b[1;33m\u001b[0m\u001b[0m\n\u001b[0m\u001b[0;32m    347\u001b[0m     \u001b[1;32mif\u001b[0m \u001b[0mcls\u001b[0m \u001b[1;32mis\u001b[0m \u001b[1;32mNone\u001b[0m\u001b[1;33m:\u001b[0m\u001b[1;33m\u001b[0m\u001b[1;33m\u001b[0m\u001b[0m\n\u001b[0;32m    348\u001b[0m         \u001b[0mcls\u001b[0m \u001b[1;33m=\u001b[0m \u001b[0mJSONDecoder\u001b[0m\u001b[1;33m\u001b[0m\u001b[1;33m\u001b[0m\u001b[0m\n",
      "\u001b[1;32mC:\\ProgramData\\Anaconda3\\lib\\json\\decoder.py\u001b[0m in \u001b[0;36mdecode\u001b[1;34m(self, s, _w)\u001b[0m\n\u001b[0;32m    335\u001b[0m \u001b[1;33m\u001b[0m\u001b[0m\n\u001b[0;32m    336\u001b[0m         \"\"\"\n\u001b[1;32m--> 337\u001b[1;33m         \u001b[0mobj\u001b[0m\u001b[1;33m,\u001b[0m \u001b[0mend\u001b[0m \u001b[1;33m=\u001b[0m \u001b[0mself\u001b[0m\u001b[1;33m.\u001b[0m\u001b[0mraw_decode\u001b[0m\u001b[1;33m(\u001b[0m\u001b[0ms\u001b[0m\u001b[1;33m,\u001b[0m \u001b[0midx\u001b[0m\u001b[1;33m=\u001b[0m\u001b[0m_w\u001b[0m\u001b[1;33m(\u001b[0m\u001b[0ms\u001b[0m\u001b[1;33m,\u001b[0m \u001b[1;36m0\u001b[0m\u001b[1;33m)\u001b[0m\u001b[1;33m.\u001b[0m\u001b[0mend\u001b[0m\u001b[1;33m(\u001b[0m\u001b[1;33m)\u001b[0m\u001b[1;33m)\u001b[0m\u001b[1;33m\u001b[0m\u001b[1;33m\u001b[0m\u001b[0m\n\u001b[0m\u001b[0;32m    338\u001b[0m         \u001b[0mend\u001b[0m \u001b[1;33m=\u001b[0m \u001b[0m_w\u001b[0m\u001b[1;33m(\u001b[0m\u001b[0ms\u001b[0m\u001b[1;33m,\u001b[0m \u001b[0mend\u001b[0m\u001b[1;33m)\u001b[0m\u001b[1;33m.\u001b[0m\u001b[0mend\u001b[0m\u001b[1;33m(\u001b[0m\u001b[1;33m)\u001b[0m\u001b[1;33m\u001b[0m\u001b[1;33m\u001b[0m\u001b[0m\n\u001b[0;32m    339\u001b[0m         \u001b[1;32mif\u001b[0m \u001b[0mend\u001b[0m \u001b[1;33m!=\u001b[0m \u001b[0mlen\u001b[0m\u001b[1;33m(\u001b[0m\u001b[0ms\u001b[0m\u001b[1;33m)\u001b[0m\u001b[1;33m:\u001b[0m\u001b[1;33m\u001b[0m\u001b[1;33m\u001b[0m\u001b[0m\n",
      "\u001b[1;32mC:\\ProgramData\\Anaconda3\\lib\\json\\decoder.py\u001b[0m in \u001b[0;36mraw_decode\u001b[1;34m(self, s, idx)\u001b[0m\n\u001b[0;32m    351\u001b[0m         \"\"\"\n\u001b[0;32m    352\u001b[0m         \u001b[1;32mtry\u001b[0m\u001b[1;33m:\u001b[0m\u001b[1;33m\u001b[0m\u001b[1;33m\u001b[0m\u001b[0m\n\u001b[1;32m--> 353\u001b[1;33m             \u001b[0mobj\u001b[0m\u001b[1;33m,\u001b[0m \u001b[0mend\u001b[0m \u001b[1;33m=\u001b[0m \u001b[0mself\u001b[0m\u001b[1;33m.\u001b[0m\u001b[0mscan_once\u001b[0m\u001b[1;33m(\u001b[0m\u001b[0ms\u001b[0m\u001b[1;33m,\u001b[0m \u001b[0midx\u001b[0m\u001b[1;33m)\u001b[0m\u001b[1;33m\u001b[0m\u001b[1;33m\u001b[0m\u001b[0m\n\u001b[0m\u001b[0;32m    354\u001b[0m         \u001b[1;32mexcept\u001b[0m \u001b[0mStopIteration\u001b[0m \u001b[1;32mas\u001b[0m \u001b[0merr\u001b[0m\u001b[1;33m:\u001b[0m\u001b[1;33m\u001b[0m\u001b[1;33m\u001b[0m\u001b[0m\n\u001b[0;32m    355\u001b[0m             \u001b[1;32mraise\u001b[0m \u001b[0mJSONDecodeError\u001b[0m\u001b[1;33m(\u001b[0m\u001b[1;34m\"Expecting value\"\u001b[0m\u001b[1;33m,\u001b[0m \u001b[0ms\u001b[0m\u001b[1;33m,\u001b[0m \u001b[0merr\u001b[0m\u001b[1;33m.\u001b[0m\u001b[0mvalue\u001b[0m\u001b[1;33m)\u001b[0m \u001b[1;32mfrom\u001b[0m \u001b[1;32mNone\u001b[0m\u001b[1;33m\u001b[0m\u001b[1;33m\u001b[0m\u001b[0m\n",
      "\u001b[1;31mJSONDecodeError\u001b[0m: Expecting ',' delimiter: line 1 column 263 (char 262)"
     ]
    }
   ],
   "source": [
    "#what are the unique entities?\n",
    "[\n",
    "    json.loads(entity.replace(\"'\", '\"'))\n",
    "    for entity in tudf['entities_tweet']\n",
    "    if type(entity) == str\n",
    "]"
   ]
  },
  {
   "cell_type": "code",
   "execution_count": null,
   "id": "c4fdd023",
   "metadata": {},
   "outputs": [],
   "source": [
    "json.loads(tudf.iloc[1]['entities_tweet'].replace(\"'\", '\"'))"
   ]
  },
  {
   "cell_type": "code",
   "execution_count": null,
   "id": "8f16433c",
   "metadata": {},
   "outputs": [],
   "source": [
    "ok =\"{'urls':[{'start': 58, 'end': 81, 'url': 'https://t.co/ifnVQsE6bO', 'expanded_url': 'https://wordle.danielfrg.com/ciencia/index.html', 'display_url': 'wordle.danielfrg.com/ciencia/index.…', 'images': [{'url': 'https://pbs.twimg.com/news_img/1521711979752136704/Qr2DllcV?format=jpg&name=orig', 'width': 1200, 'height': 630}, {'url': 'https://pbs.twimg.com/news_img/1521711979752136704/Qr2DllcV?format=jpg&name=150x150', 'width': 150, 'height': 150}], 'status': 200, 'title': 'Un juego de palabras diario', 'description': 'Adivina la palabra oculta en 6 intentos. Un nuevo puzzle cada día.', 'unwound_url': 'https://wordle.danielfrg.com/ciencia/index.html'}]}\""
   ]
  },
  {
   "cell_type": "code",
   "execution_count": null,
   "id": "f11f543e",
   "metadata": {},
   "outputs": [],
   "source": [
    "json.loads(ok.replace(\"'\", '\"'))"
   ]
  },
  {
   "cell_type": "markdown",
   "id": "28acb3d7",
   "metadata": {},
   "source": [
    "# Tweet Rates, time."
   ]
  },
  {
   "cell_type": "code",
   "execution_count": 22,
   "id": "9bfa3fce",
   "metadata": {},
   "outputs": [],
   "source": [
    "tudf['created_at'] = pd.to_datetime(tudf['created_at'])"
   ]
  },
  {
   "cell_type": "code",
   "execution_count": 40,
   "id": "398e5a94",
   "metadata": {},
   "outputs": [],
   "source": [
    "tudf.sort_values(by = 'created_at', inplace= True)"
   ]
  },
  {
   "cell_type": "code",
   "execution_count": 42,
   "id": "a55c398c",
   "metadata": {},
   "outputs": [],
   "source": [
    "tudf['wordle_tweet_number'] = range(len(tudf))"
   ]
  },
  {
   "cell_type": "code",
   "execution_count": 70,
   "id": "84deea09",
   "metadata": {},
   "outputs": [],
   "source": [
    "tudf['ones'] = np.ones(len(tudf))"
   ]
  },
  {
   "cell_type": "code",
   "execution_count": 71,
   "id": "fc4c4008",
   "metadata": {},
   "outputs": [
    {
     "data": {
      "text/plain": [
       "21757"
      ]
     },
     "execution_count": 71,
     "metadata": {},
     "output_type": "execute_result"
    }
   ],
   "source": [
    "time_diff = tudf['created_at'].max() -  tudf['created_at'].min()\n",
    "time_diff.seconds"
   ]
  },
  {
   "cell_type": "code",
   "execution_count": 82,
   "id": "2238e4d9",
   "metadata": {},
   "outputs": [],
   "source": [
    "tudf['wordle_tweet_rate'] = tudf['ones'][:-1]/list(map(lambda time: time.seconds,np.diff(tudf['created_at'])))"
   ]
  },
  {
   "cell_type": "code",
   "execution_count": 84,
   "id": "524c7c91",
   "metadata": {
    "scrolled": true
   },
   "outputs": [
    {
     "data": {
      "text/plain": [
       "[<matplotlib.lines.Line2D at 0x21a6777e760>]"
      ]
     },
     "execution_count": 84,
     "metadata": {},
     "output_type": "execute_result"
    },
    {
     "data": {
      "image/png": "[encoded data removed]",
      "text/plain": [
       "<Figure size 864x432 with 1 Axes>"
      ]
     },
     "metadata": {},
     "output_type": "display_data"
    }
   ],
   "source": [
    "accumulated_tweets = np.linspace(0,len(tudf), len(tudf))\n",
    "tweet_rate = [\n",
    "    1/timespan.seconds\n",
    "    for timespan in np.diff(tudf['created_at'].sort_values(ascending = True))\n",
    "    if timespan.seconds != 0\n",
    "]\n",
    "\n",
    "# plt.figure(figsize = (12,6))\n",
    "# plt.plot(tudf['created_at'].sort_values(ascending = True)[:-1], tweet_rate)\n",
    "# # k= 2e7\n",
    "# # plt.ylim(-k,k)\n",
    "# plt.show()\n",
    "\n",
    "\n",
    "plt.figure(figsize = (12,6))\n",
    "plt.plot(tudf['created_at'], tudf['wordle_tweet_rate'])\n",
    "plt.show()\n",
    "plt.plot(tudf['created_at'], tudf['ones'] - tudf['wordle_tweet_rate'])"
   ]
  },
  {
   "cell_type": "code",
   "execution_count": 102,
   "id": "44de75d4",
   "metadata": {},
   "outputs": [
    {
     "data": {
      "text/plain": [
       "(0.0, 25.0)"
      ]
     },
     "execution_count": 102,
     "metadata": {},
     "output_type": "execute_result"
    },
    {
     "data": {
      "image/png": "[encoded data removed]",
      "text/plain": [
       "<Figure size 864x432 with 1 Axes>"
      ]
     },
     "metadata": {},
     "output_type": "display_data"
    }
   ],
   "source": [
    "plt.figure(figsize = (12,6))\n",
    "for fivepeeem in tudf[tudf['created_at'].apply(lambda x: x.hour == 21)]['created_at']:\n",
    "    plt.axvline(fivepeeem)\n",
    "for lunchtime in tudf[tudf['created_at'].apply(lambda x: x.hour == 16)]['created_at']:\n",
    "    plt.axvline(lunchtime, color = 'orange')    \n",
    "plt.plot(tudf['created_at'][:-1],np.diff(tudf['created_at'].apply(lambda x: x.second)) )\n",
    "plt.ylim(0,25)"
   ]
  },
  {
   "cell_type": "markdown",
   "id": "fcf4f9da",
   "metadata": {},
   "source": [
    "# location"
   ]
  },
  {
   "cell_type": "code",
   "execution_count": 85,
   "id": "83fb69d9",
   "metadata": {},
   "outputs": [
    {
     "data": {
      "text/plain": [
       "Index(['conversation_id', 'reply_settings', 'lang', 'entities_tweet',\n",
       "       'possibly_sensitive', 'source', 'public_metrics_tweet', 'text',\n",
       "       'context_annotations', 'author_id', 'created_at', 'referenced_tweets',\n",
       "       'in_reply_to_user_id', 'attachments', 'geo', 'withheld_tweet', 'name',\n",
       "       'public_metrics_user', 'url', 'description', 'profile_image_url',\n",
       "       'location', 'protected', 'username', 'verified', 'entities_user',\n",
       "       'pinned_tweet_id', 'withheld_user', 'wordle_tweet_number',\n",
       "       'wordle_tweet_rate', 'ones'],\n",
       "      dtype='object')"
      ]
     },
     "execution_count": 85,
     "metadata": {},
     "output_type": "execute_result"
    }
   ],
   "source": [
    "\n",
    "tudf.columns"
   ]
  },
  {
   "cell_type": "code",
   "execution_count": 87,
   "id": "d975b90f",
   "metadata": {},
   "outputs": [
    {
     "data": {
      "text/plain": [
       "0                                   189164\n",
       "{'place_id': '206c436ce43a43a3'}        69\n",
       "{'place_id': '018f1cde6bad9747'}        46\n",
       "{'place_id': '3797791ff9c0e4c6'}        32\n",
       "{'place_id': '0161be1b3f98d6c3'}        27\n",
       "                                     ...  \n",
       "{'place_id': '5524b796309058b5'}         1\n",
       "{'place_id': '534d44fc60f378ec'}         1\n",
       "{'place_id': '3b19e4995834dd32'}         1\n",
       "{'place_id': '776bc3a7f14c1999'}         1\n",
       "{'place_id': '966210afcb797b90'}         1\n",
       "Name: geo, Length: 1293, dtype: int64"
      ]
     },
     "execution_count": 87,
     "metadata": {},
     "output_type": "execute_result"
    }
   ],
   "source": [
    "tudf['geo'].value_counts()"
   ]
  },
  {
   "cell_type": "code",
   "execution_count": null,
   "id": "a4b76343",
   "metadata": {},
   "outputs": [],
   "source": []
  }
 ],
 "metadata": {
  "kernelspec": {
   "display_name": "Python 3 (ipykernel)",
   "language": "python",
   "name": "python3"
  },
  "language_info": {
   "codemirror_mode": {
    "name": "ipython",
    "version": 3
   },
   "file_extension": ".py",
   "mimetype": "text/x-python",
   "name": "python",
   "nbconvert_exporter": "python",
   "pygments_lexer": "ipython3",
   "version": "3.9.7"
  }
 },
 "nbformat": 4,
 "nbformat_minor": 5
}
