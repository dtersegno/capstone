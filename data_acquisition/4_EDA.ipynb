{
 "cells": [
  {
   "cell_type": "markdown",
   "id": "94cb446f",
   "metadata": {},
   "source": [
    "# 4 EDA\n",
    "\n",
    "5/4/22\n",
    "\n",
    "\n",
    "\n",
    "- [setup](#setup)\n",
    "    - [Import libraries](#Import-libraries)\n",
    "    - [import data](#import-data)"
   ]
  },
  {
   "cell_type": "markdown",
   "id": "64ff218c",
   "metadata": {},
   "source": [
    "## setup"
   ]
  },
  {
   "cell_type": "markdown",
   "id": "86152448",
   "metadata": {},
   "source": [
    "### Import libraries"
   ]
  },
  {
   "cell_type": "code",
   "execution_count": 1,
   "id": "f1e43deb",
   "metadata": {},
   "outputs": [],
   "source": [
    "import pandas as pd\n",
    "import numpy as np\n",
    "import os\n",
    "import json\n",
    "\n",
    "#plotting\n",
    "import matplotlib.pyplot as plt\n",
    "import seaborn as sns\n",
    "\n",
    "plt.style.use('dark_background')\n",
    "\n",
    "merged_data_path = '../merged_data/'\n"
   ]
  },
  {
   "cell_type": "markdown",
   "id": "b2e5cda1",
   "metadata": {},
   "source": [
    "### import data"
   ]
  },
  {
   "cell_type": "code",
   "execution_count": 4,
   "id": "4b7180ae",
   "metadata": {},
   "outputs": [
    {
     "data": {
      "text/plain": [
       "['merged_tweets.csv',\n",
       " 'merged_users.csv',\n",
       " 'wordle_games.csv',\n",
       " 'wordle_games.pkl']"
      ]
     },
     "execution_count": 4,
     "metadata": {},
     "output_type": "execute_result"
    }
   ],
   "source": [
    "os.listdir(merged_data_path)"
   ]
  },
  {
   "cell_type": "code",
   "execution_count": 5,
   "id": "f05ce96a",
   "metadata": {
    "scrolled": true
   },
   "outputs": [],
   "source": [
    "#low_memory = False is to deal with mixed column types. check these\n",
    "tweets = pd.read_csv(merged_data_path + 'merged_tweets.csv', low_memory = False)\n",
    "users = pd.read_csv(merged_data_path + 'merged_users.csv', low_memory = False)"
   ]
  },
  {
   "cell_type": "code",
   "execution_count": 6,
   "id": "20510485",
   "metadata": {
    "scrolled": true
   },
   "outputs": [
    {
     "data": {
      "text/html": [
       "<div>\n",
       "<style scoped>\n",
       "    .dataframe tbody tr th:only-of-type {\n",
       "        vertical-align: middle;\n",
       "    }\n",
       "\n",
       "    .dataframe tbody tr th {\n",
       "        vertical-align: top;\n",
       "    }\n",
       "\n",
       "    .dataframe thead th {\n",
       "        text-align: right;\n",
       "    }\n",
       "</style>\n",
       "<table border=\"1\" class=\"dataframe\">\n",
       "  <thead>\n",
       "    <tr style=\"text-align: right;\">\n",
       "      <th></th>\n",
       "      <th>conversation_id</th>\n",
       "      <th>reply_settings</th>\n",
       "      <th>lang</th>\n",
       "      <th>entities</th>\n",
       "      <th>possibly_sensitive</th>\n",
       "      <th>source</th>\n",
       "      <th>public_metrics</th>\n",
       "      <th>text</th>\n",
       "      <th>context_annotations</th>\n",
       "      <th>author_id</th>\n",
       "      <th>created_at</th>\n",
       "      <th>referenced_tweets</th>\n",
       "      <th>in_reply_to_user_id</th>\n",
       "      <th>attachments</th>\n",
       "      <th>geo</th>\n",
       "      <th>withheld</th>\n",
       "    </tr>\n",
       "    <tr>\n",
       "      <th>id</th>\n",
       "      <th></th>\n",
       "      <th></th>\n",
       "      <th></th>\n",
       "      <th></th>\n",
       "      <th></th>\n",
       "      <th></th>\n",
       "      <th></th>\n",
       "      <th></th>\n",
       "      <th></th>\n",
       "      <th></th>\n",
       "      <th></th>\n",
       "      <th></th>\n",
       "      <th></th>\n",
       "      <th></th>\n",
       "      <th></th>\n",
       "      <th></th>\n",
       "    </tr>\n",
       "  </thead>\n",
       "  <tbody>\n",
       "    <tr>\n",
       "      <th>1521733018293084160</th>\n",
       "      <td>1521733018293084160</td>\n",
       "      <td>everyone</td>\n",
       "      <td>en</td>\n",
       "      <td>{'urls': [{'start': 54, 'end': 77, 'url': 'htt...</td>\n",
       "      <td>False</td>\n",
       "      <td>Twitter Web App</td>\n",
       "      <td>{'retweet_count': 0, 'reply_count': 0, 'like_c...</td>\n",
       "      <td>Wordle (ES)  #118 5/6\\n\\n⬜⬜🟨🟩⬜\\n⬜⬜🟨🟩⬜\\n⬜⬜⬜🟩🟩\\n...</td>\n",
       "      <td>[{'domain': {'id': '30', 'name': 'Entities [En...</td>\n",
       "      <td>1006110502043471872</td>\n",
       "      <td>2022-05-04 06:06:38+00:00</td>\n",
       "      <td>NaN</td>\n",
       "      <td>NaN</td>\n",
       "      <td>NaN</td>\n",
       "      <td>NaN</td>\n",
       "      <td>NaN</td>\n",
       "    </tr>\n",
       "    <tr>\n",
       "      <th>1521733015738662913</th>\n",
       "      <td>1521733015738662913</td>\n",
       "      <td>everyone</td>\n",
       "      <td>es</td>\n",
       "      <td>{'urls': [{'start': 58, 'end': 81, 'url': 'htt...</td>\n",
       "      <td>False</td>\n",
       "      <td>Twitter for Android</td>\n",
       "      <td>{'retweet_count': 0, 'reply_count': 0, 'like_c...</td>\n",
       "      <td>Wordle Científico #52 5/6\\n\\n⬜⬜⬜⬜🟨\\n🟨⬜⬜⬜🟩\\n⬜🟩⬜...</td>\n",
       "      <td>[{'domain': {'id': '30', 'name': 'Entities [En...</td>\n",
       "      <td>360002014</td>\n",
       "      <td>2022-05-04 06:06:38+00:00</td>\n",
       "      <td>NaN</td>\n",
       "      <td>NaN</td>\n",
       "      <td>NaN</td>\n",
       "      <td>NaN</td>\n",
       "      <td>NaN</td>\n",
       "    </tr>\n",
       "    <tr>\n",
       "      <th>1521733011414257664</th>\n",
       "      <td>1521733011414257664</td>\n",
       "      <td>everyone</td>\n",
       "      <td>en</td>\n",
       "      <td>NaN</td>\n",
       "      <td>False</td>\n",
       "      <td>Twitter for Android</td>\n",
       "      <td>{'retweet_count': 0, 'reply_count': 0, 'like_c...</td>\n",
       "      <td>Wordle 319 4/6\\n\\n🟨🟨⬜⬜⬜\\n🟨⬜⬜🟩⬜\\n🟩🟨⬜🟩🟨\\n🟩🟩🟩🟩🟩</td>\n",
       "      <td>[{'domain': {'id': '30', 'name': 'Entities [En...</td>\n",
       "      <td>828818052892422148</td>\n",
       "      <td>2022-05-04 06:06:37+00:00</td>\n",
       "      <td>NaN</td>\n",
       "      <td>NaN</td>\n",
       "      <td>NaN</td>\n",
       "      <td>NaN</td>\n",
       "      <td>NaN</td>\n",
       "    </tr>\n",
       "  </tbody>\n",
       "</table>\n",
       "</div>"
      ],
      "text/plain": [
       "                         conversation_id reply_settings lang  \\\n",
       "id                                                             \n",
       "1521733018293084160  1521733018293084160       everyone   en   \n",
       "1521733015738662913  1521733015738662913       everyone   es   \n",
       "1521733011414257664  1521733011414257664       everyone   en   \n",
       "\n",
       "                                                              entities  \\\n",
       "id                                                                       \n",
       "1521733018293084160  {'urls': [{'start': 54, 'end': 77, 'url': 'htt...   \n",
       "1521733015738662913  {'urls': [{'start': 58, 'end': 81, 'url': 'htt...   \n",
       "1521733011414257664                                                NaN   \n",
       "\n",
       "                     possibly_sensitive               source  \\\n",
       "id                                                             \n",
       "1521733018293084160               False      Twitter Web App   \n",
       "1521733015738662913               False  Twitter for Android   \n",
       "1521733011414257664               False  Twitter for Android   \n",
       "\n",
       "                                                        public_metrics  \\\n",
       "id                                                                       \n",
       "1521733018293084160  {'retweet_count': 0, 'reply_count': 0, 'like_c...   \n",
       "1521733015738662913  {'retweet_count': 0, 'reply_count': 0, 'like_c...   \n",
       "1521733011414257664  {'retweet_count': 0, 'reply_count': 0, 'like_c...   \n",
       "\n",
       "                                                                  text  \\\n",
       "id                                                                       \n",
       "1521733018293084160  Wordle (ES)  #118 5/6\\n\\n⬜⬜🟨🟩⬜\\n⬜⬜🟨🟩⬜\\n⬜⬜⬜🟩🟩\\n...   \n",
       "1521733015738662913  Wordle Científico #52 5/6\\n\\n⬜⬜⬜⬜🟨\\n🟨⬜⬜⬜🟩\\n⬜🟩⬜...   \n",
       "1521733011414257664       Wordle 319 4/6\\n\\n🟨🟨⬜⬜⬜\\n🟨⬜⬜🟩⬜\\n🟩🟨⬜🟩🟨\\n🟩🟩🟩🟩🟩   \n",
       "\n",
       "                                                   context_annotations  \\\n",
       "id                                                                       \n",
       "1521733018293084160  [{'domain': {'id': '30', 'name': 'Entities [En...   \n",
       "1521733015738662913  [{'domain': {'id': '30', 'name': 'Entities [En...   \n",
       "1521733011414257664  [{'domain': {'id': '30', 'name': 'Entities [En...   \n",
       "\n",
       "                               author_id                 created_at  \\\n",
       "id                                                                    \n",
       "1521733018293084160  1006110502043471872  2022-05-04 06:06:38+00:00   \n",
       "1521733015738662913            360002014  2022-05-04 06:06:38+00:00   \n",
       "1521733011414257664   828818052892422148  2022-05-04 06:06:37+00:00   \n",
       "\n",
       "                    referenced_tweets  in_reply_to_user_id attachments  geo  \\\n",
       "id                                                                            \n",
       "1521733018293084160               NaN                  NaN         NaN  NaN   \n",
       "1521733015738662913               NaN                  NaN         NaN  NaN   \n",
       "1521733011414257664               NaN                  NaN         NaN  NaN   \n",
       "\n",
       "                    withheld  \n",
       "id                            \n",
       "1521733018293084160      NaN  \n",
       "1521733015738662913      NaN  \n",
       "1521733011414257664      NaN  "
      ]
     },
     "execution_count": 6,
     "metadata": {},
     "output_type": "execute_result"
    }
   ],
   "source": [
    "tweets.set_index('id', inplace = True)\n",
    "tweets.head(3)"
   ]
  },
  {
   "cell_type": "code",
   "execution_count": 7,
   "id": "bb6c09f6",
   "metadata": {},
   "outputs": [
    {
     "data": {
      "text/html": [
       "<div>\n",
       "<style scoped>\n",
       "    .dataframe tbody tr th:only-of-type {\n",
       "        vertical-align: middle;\n",
       "    }\n",
       "\n",
       "    .dataframe tbody tr th {\n",
       "        vertical-align: top;\n",
       "    }\n",
       "\n",
       "    .dataframe thead th {\n",
       "        text-align: right;\n",
       "    }\n",
       "</style>\n",
       "<table border=\"1\" class=\"dataframe\">\n",
       "  <thead>\n",
       "    <tr style=\"text-align: right;\">\n",
       "      <th></th>\n",
       "      <th>name</th>\n",
       "      <th>public_metrics</th>\n",
       "      <th>url</th>\n",
       "      <th>description</th>\n",
       "      <th>profile_image_url</th>\n",
       "      <th>location</th>\n",
       "      <th>protected</th>\n",
       "      <th>username</th>\n",
       "      <th>verified</th>\n",
       "      <th>entities</th>\n",
       "      <th>pinned_tweet_id</th>\n",
       "      <th>withheld</th>\n",
       "    </tr>\n",
       "    <tr>\n",
       "      <th>id</th>\n",
       "      <th></th>\n",
       "      <th></th>\n",
       "      <th></th>\n",
       "      <th></th>\n",
       "      <th></th>\n",
       "      <th></th>\n",
       "      <th></th>\n",
       "      <th></th>\n",
       "      <th></th>\n",
       "      <th></th>\n",
       "      <th></th>\n",
       "      <th></th>\n",
       "    </tr>\n",
       "  </thead>\n",
       "  <tbody>\n",
       "    <tr>\n",
       "      <th>1.006111e+18</th>\n",
       "      <td>Jose Antonio</td>\n",
       "      <td>{'followers_count': 147, 'following_count': 43...</td>\n",
       "      <td>NaN</td>\n",
       "      <td>Antiguo usuario bloqueado por error, pero he v...</td>\n",
       "      <td>https://pbs.twimg.com/profile_images/144681186...</td>\n",
       "      <td>Alcalá de Guadaíra, Spain</td>\n",
       "      <td>False</td>\n",
       "      <td>Joseamj_97</td>\n",
       "      <td>False</td>\n",
       "      <td>NaN</td>\n",
       "      <td>NaN</td>\n",
       "      <td>NaN</td>\n",
       "    </tr>\n",
       "    <tr>\n",
       "      <th>3.600020e+08</th>\n",
       "      <td>Ana V Garcia</td>\n",
       "      <td>{'followers_count': 41, 'following_count': 136...</td>\n",
       "      <td>https://t.co/uMfikCmd0I</td>\n",
       "      <td>NaN</td>\n",
       "      <td>https://pbs.twimg.com/profile_images/122215871...</td>\n",
       "      <td>Alcalá de Henares</td>\n",
       "      <td>False</td>\n",
       "      <td>AnaVGarciaG</td>\n",
       "      <td>False</td>\n",
       "      <td>{'url': {'urls': [{'start': 0, 'end': 23, 'url...</td>\n",
       "      <td>NaN</td>\n",
       "      <td>NaN</td>\n",
       "    </tr>\n",
       "    <tr>\n",
       "      <th>8.288181e+17</th>\n",
       "      <td>Braden Van't Hof</td>\n",
       "      <td>{'followers_count': 8, 'following_count': 282,...</td>\n",
       "      <td>NaN</td>\n",
       "      <td>LoL Head Coach/Manager/Mid Laner/4x Positional...</td>\n",
       "      <td>https://pbs.twimg.com/profile_images/149527273...</td>\n",
       "      <td>Grand Rapids, MI</td>\n",
       "      <td>False</td>\n",
       "      <td>CLVRockmelon</td>\n",
       "      <td>False</td>\n",
       "      <td>NaN</td>\n",
       "      <td>NaN</td>\n",
       "      <td>NaN</td>\n",
       "    </tr>\n",
       "  </tbody>\n",
       "</table>\n",
       "</div>"
      ],
      "text/plain": [
       "                          name  \\\n",
       "id                               \n",
       "1.006111e+18      Jose Antonio   \n",
       "3.600020e+08      Ana V Garcia   \n",
       "8.288181e+17  Braden Van't Hof   \n",
       "\n",
       "                                                 public_metrics  \\\n",
       "id                                                                \n",
       "1.006111e+18  {'followers_count': 147, 'following_count': 43...   \n",
       "3.600020e+08  {'followers_count': 41, 'following_count': 136...   \n",
       "8.288181e+17  {'followers_count': 8, 'following_count': 282,...   \n",
       "\n",
       "                                  url  \\\n",
       "id                                      \n",
       "1.006111e+18                      NaN   \n",
       "3.600020e+08  https://t.co/uMfikCmd0I   \n",
       "8.288181e+17                      NaN   \n",
       "\n",
       "                                                    description  \\\n",
       "id                                                                \n",
       "1.006111e+18  Antiguo usuario bloqueado por error, pero he v...   \n",
       "3.600020e+08                                                NaN   \n",
       "8.288181e+17  LoL Head Coach/Manager/Mid Laner/4x Positional...   \n",
       "\n",
       "                                              profile_image_url  \\\n",
       "id                                                                \n",
       "1.006111e+18  https://pbs.twimg.com/profile_images/144681186...   \n",
       "3.600020e+08  https://pbs.twimg.com/profile_images/122215871...   \n",
       "8.288181e+17  https://pbs.twimg.com/profile_images/149527273...   \n",
       "\n",
       "                               location  protected      username  verified  \\\n",
       "id                                                                           \n",
       "1.006111e+18  Alcalá de Guadaíra, Spain      False    Joseamj_97     False   \n",
       "3.600020e+08          Alcalá de Henares      False   AnaVGarciaG     False   \n",
       "8.288181e+17           Grand Rapids, MI      False  CLVRockmelon     False   \n",
       "\n",
       "                                                       entities  \\\n",
       "id                                                                \n",
       "1.006111e+18                                                NaN   \n",
       "3.600020e+08  {'url': {'urls': [{'start': 0, 'end': 23, 'url...   \n",
       "8.288181e+17                                                NaN   \n",
       "\n",
       "              pinned_tweet_id withheld  \n",
       "id                                      \n",
       "1.006111e+18              NaN      NaN  \n",
       "3.600020e+08              NaN      NaN  \n",
       "8.288181e+17              NaN      NaN  "
      ]
     },
     "execution_count": 7,
     "metadata": {},
     "output_type": "execute_result"
    }
   ],
   "source": [
    "users.set_index('id', inplace = True)\n",
    "users.head(3)"
   ]
  },
  {
   "cell_type": "code",
   "execution_count": 8,
   "id": "1ba2f168",
   "metadata": {
    "scrolled": true
   },
   "outputs": [
    {
     "data": {
      "text/plain": [
       "(243245, 168362)"
      ]
     },
     "execution_count": 8,
     "metadata": {},
     "output_type": "execute_result"
    }
   ],
   "source": [
    "#I want to left-merge onto tweets. Each tweet has user info tacked on. some users will be repeated.\n",
    "len(tweets), len(users)"
   ]
  },
  {
   "cell_type": "code",
   "execution_count": 9,
   "id": "f3330d31",
   "metadata": {
    "scrolled": false
   },
   "outputs": [
    {
     "data": {
      "text/html": [
       "<div>\n",
       "<style scoped>\n",
       "    .dataframe tbody tr th:only-of-type {\n",
       "        vertical-align: middle;\n",
       "    }\n",
       "\n",
       "    .dataframe tbody tr th {\n",
       "        vertical-align: top;\n",
       "    }\n",
       "\n",
       "    .dataframe thead th {\n",
       "        text-align: right;\n",
       "    }\n",
       "</style>\n",
       "<table border=\"1\" class=\"dataframe\">\n",
       "  <thead>\n",
       "    <tr style=\"text-align: right;\">\n",
       "      <th></th>\n",
       "      <th>conversation_id</th>\n",
       "      <th>reply_settings</th>\n",
       "      <th>lang</th>\n",
       "      <th>entities_tweet</th>\n",
       "      <th>possibly_sensitive</th>\n",
       "      <th>source</th>\n",
       "      <th>public_metrics_tweet</th>\n",
       "      <th>text</th>\n",
       "      <th>context_annotations</th>\n",
       "      <th>author_id</th>\n",
       "      <th>...</th>\n",
       "      <th>url</th>\n",
       "      <th>description</th>\n",
       "      <th>profile_image_url</th>\n",
       "      <th>location</th>\n",
       "      <th>protected</th>\n",
       "      <th>username</th>\n",
       "      <th>verified</th>\n",
       "      <th>entities_user</th>\n",
       "      <th>pinned_tweet_id</th>\n",
       "      <th>withheld_user</th>\n",
       "    </tr>\n",
       "    <tr>\n",
       "      <th>tweet_id</th>\n",
       "      <th></th>\n",
       "      <th></th>\n",
       "      <th></th>\n",
       "      <th></th>\n",
       "      <th></th>\n",
       "      <th></th>\n",
       "      <th></th>\n",
       "      <th></th>\n",
       "      <th></th>\n",
       "      <th></th>\n",
       "      <th></th>\n",
       "      <th></th>\n",
       "      <th></th>\n",
       "      <th></th>\n",
       "      <th></th>\n",
       "      <th></th>\n",
       "      <th></th>\n",
       "      <th></th>\n",
       "      <th></th>\n",
       "      <th></th>\n",
       "      <th></th>\n",
       "    </tr>\n",
       "  </thead>\n",
       "  <tbody>\n",
       "    <tr>\n",
       "      <th>1521733018293084160</th>\n",
       "      <td>1521733018293084160</td>\n",
       "      <td>everyone</td>\n",
       "      <td>en</td>\n",
       "      <td>{'urls': [{'start': 54, 'end': 77, 'url': 'htt...</td>\n",
       "      <td>False</td>\n",
       "      <td>Twitter Web App</td>\n",
       "      <td>{'retweet_count': 0, 'reply_count': 0, 'like_c...</td>\n",
       "      <td>Wordle (ES)  #118 5/6\\n\\n⬜⬜🟨🟩⬜\\n⬜⬜🟨🟩⬜\\n⬜⬜⬜🟩🟩\\n...</td>\n",
       "      <td>[{'domain': {'id': '30', 'name': 'Entities [En...</td>\n",
       "      <td>1006110502043471872</td>\n",
       "      <td>...</td>\n",
       "      <td>0</td>\n",
       "      <td>0</td>\n",
       "      <td>0</td>\n",
       "      <td>0</td>\n",
       "      <td>0</td>\n",
       "      <td>0</td>\n",
       "      <td>0</td>\n",
       "      <td>0</td>\n",
       "      <td>0.0</td>\n",
       "      <td>0</td>\n",
       "    </tr>\n",
       "    <tr>\n",
       "      <th>1521733015738662913</th>\n",
       "      <td>1521733015738662913</td>\n",
       "      <td>everyone</td>\n",
       "      <td>es</td>\n",
       "      <td>{'urls': [{'start': 58, 'end': 81, 'url': 'htt...</td>\n",
       "      <td>False</td>\n",
       "      <td>Twitter for Android</td>\n",
       "      <td>{'retweet_count': 0, 'reply_count': 0, 'like_c...</td>\n",
       "      <td>Wordle Científico #52 5/6\\n\\n⬜⬜⬜⬜🟨\\n🟨⬜⬜⬜🟩\\n⬜🟩⬜...</td>\n",
       "      <td>[{'domain': {'id': '30', 'name': 'Entities [En...</td>\n",
       "      <td>360002014</td>\n",
       "      <td>...</td>\n",
       "      <td>https://t.co/uMfikCmd0I</td>\n",
       "      <td>0</td>\n",
       "      <td>https://pbs.twimg.com/profile_images/122215871...</td>\n",
       "      <td>Alcalá de Henares</td>\n",
       "      <td>False</td>\n",
       "      <td>AnaVGarciaG</td>\n",
       "      <td>False</td>\n",
       "      <td>{'url': {'urls': [{'start': 0, 'end': 23, 'url...</td>\n",
       "      <td>0.0</td>\n",
       "      <td>0</td>\n",
       "    </tr>\n",
       "    <tr>\n",
       "      <th>1521733011414257664</th>\n",
       "      <td>1521733011414257664</td>\n",
       "      <td>everyone</td>\n",
       "      <td>en</td>\n",
       "      <td>0</td>\n",
       "      <td>False</td>\n",
       "      <td>Twitter for Android</td>\n",
       "      <td>{'retweet_count': 0, 'reply_count': 0, 'like_c...</td>\n",
       "      <td>Wordle 319 4/6\\n\\n🟨🟨⬜⬜⬜\\n🟨⬜⬜🟩⬜\\n🟩🟨⬜🟩🟨\\n🟩🟩🟩🟩🟩</td>\n",
       "      <td>[{'domain': {'id': '30', 'name': 'Entities [En...</td>\n",
       "      <td>828818052892422148</td>\n",
       "      <td>...</td>\n",
       "      <td>0</td>\n",
       "      <td>0</td>\n",
       "      <td>0</td>\n",
       "      <td>0</td>\n",
       "      <td>0</td>\n",
       "      <td>0</td>\n",
       "      <td>0</td>\n",
       "      <td>0</td>\n",
       "      <td>0.0</td>\n",
       "      <td>0</td>\n",
       "    </tr>\n",
       "    <tr>\n",
       "      <th>1521733010504445954</th>\n",
       "      <td>1521733010504445954</td>\n",
       "      <td>everyone</td>\n",
       "      <td>en</td>\n",
       "      <td>0</td>\n",
       "      <td>False</td>\n",
       "      <td>Twitter for Android</td>\n",
       "      <td>{'retweet_count': 0, 'reply_count': 0, 'like_c...</td>\n",
       "      <td>Back in the saddle.\\n\\nWordle 319 3/6\\n\\n⬜🟩⬜🟨⬜...</td>\n",
       "      <td>[{'domain': {'id': '30', 'name': 'Entities [En...</td>\n",
       "      <td>862077942</td>\n",
       "      <td>...</td>\n",
       "      <td>https://t.co/iOfRLxEru5</td>\n",
       "      <td>It's not criticism, it's just a different way ...</td>\n",
       "      <td>https://pbs.twimg.com/profile_images/150123920...</td>\n",
       "      <td>Spain</td>\n",
       "      <td>False</td>\n",
       "      <td>Geordioca</td>\n",
       "      <td>False</td>\n",
       "      <td>{'url': {'urls': [{'start': 0, 'end': 23, 'url...</td>\n",
       "      <td>0.0</td>\n",
       "      <td>0</td>\n",
       "    </tr>\n",
       "    <tr>\n",
       "      <th>1521733001981444096</th>\n",
       "      <td>1521731925559418880</td>\n",
       "      <td>everyone</td>\n",
       "      <td>en</td>\n",
       "      <td>{'mentions': [{'start': 0, 'end': 12, 'usernam...</td>\n",
       "      <td>False</td>\n",
       "      <td>Twitter for iPhone</td>\n",
       "      <td>{'retweet_count': 0, 'reply_count': 0, 'like_c...</td>\n",
       "      <td>@RwellsWells Same. Are we both spotters? Haha ...</td>\n",
       "      <td>[{'domain': {'id': '30', 'name': 'Entities [En...</td>\n",
       "      <td>53116513</td>\n",
       "      <td>...</td>\n",
       "      <td>0</td>\n",
       "      <td>I don't like cricket. oh no. i love it!</td>\n",
       "      <td>https://pbs.twimg.com/profile_images/110881711...</td>\n",
       "      <td>sheffield</td>\n",
       "      <td>False</td>\n",
       "      <td>chrisjones792</td>\n",
       "      <td>False</td>\n",
       "      <td>0</td>\n",
       "      <td>0.0</td>\n",
       "      <td>0</td>\n",
       "    </tr>\n",
       "    <tr>\n",
       "      <th>...</th>\n",
       "      <td>...</td>\n",
       "      <td>...</td>\n",
       "      <td>...</td>\n",
       "      <td>...</td>\n",
       "      <td>...</td>\n",
       "      <td>...</td>\n",
       "      <td>...</td>\n",
       "      <td>...</td>\n",
       "      <td>...</td>\n",
       "      <td>...</td>\n",
       "      <td>...</td>\n",
       "      <td>...</td>\n",
       "      <td>...</td>\n",
       "      <td>...</td>\n",
       "      <td>...</td>\n",
       "      <td>...</td>\n",
       "      <td>...</td>\n",
       "      <td>...</td>\n",
       "      <td>...</td>\n",
       "      <td>...</td>\n",
       "      <td>...</td>\n",
       "    </tr>\n",
       "    <tr>\n",
       "      <th>1520733413246144512</th>\n",
       "      <td>1520733413246144512</td>\n",
       "      <td>everyone</td>\n",
       "      <td>es</td>\n",
       "      <td>{'urls': [{'start': 118, 'end': 141, 'url': 'h...</td>\n",
       "      <td>False</td>\n",
       "      <td>Twitter for Android</td>\n",
       "      <td>{'retweet_count': 0, 'reply_count': 0, 'like_c...</td>\n",
       "      <td>Una de las malditas con montones de posibilida...</td>\n",
       "      <td>[{'domain': {'id': '30', 'name': 'Entities [En...</td>\n",
       "      <td>2568024265</td>\n",
       "      <td>...</td>\n",
       "      <td>0</td>\n",
       "      <td>0</td>\n",
       "      <td>0</td>\n",
       "      <td>0</td>\n",
       "      <td>0</td>\n",
       "      <td>0</td>\n",
       "      <td>0</td>\n",
       "      <td>0</td>\n",
       "      <td>0.0</td>\n",
       "      <td>0</td>\n",
       "    </tr>\n",
       "    <tr>\n",
       "      <th>1520733412725870592</th>\n",
       "      <td>1520733412725870592</td>\n",
       "      <td>everyone</td>\n",
       "      <td>und</td>\n",
       "      <td>{'hashtags': [{'start': 0, 'end': 7, 'tag': 'W...</td>\n",
       "      <td>False</td>\n",
       "      <td>Twitter for iPhone</td>\n",
       "      <td>{'retweet_count': 0, 'reply_count': 0, 'like_c...</td>\n",
       "      <td>#Wordle 316 4/6\\r\\n\\r\\n🟨⬛⬛⬛⬛\\r\\n⬛⬛🟨⬛🟨\\r\\n⬛⬛⬛⬛🟩...</td>\n",
       "      <td>[{'domain': {'id': '30', 'name': 'Entities [En...</td>\n",
       "      <td>91813530</td>\n",
       "      <td>...</td>\n",
       "      <td>https://t.co/s46eDxHM7n</td>\n",
       "      <td>0</td>\n",
       "      <td>https://pbs.twimg.com/profile_images/145343436...</td>\n",
       "      <td>Malta</td>\n",
       "      <td>False</td>\n",
       "      <td>kabo59</td>\n",
       "      <td>False</td>\n",
       "      <td>{'url': {'urls': [{'start': 0, 'end': 23, 'url...</td>\n",
       "      <td>0.0</td>\n",
       "      <td>0</td>\n",
       "    </tr>\n",
       "    <tr>\n",
       "      <th>1520733410947485702</th>\n",
       "      <td>1520733410947485702</td>\n",
       "      <td>everyone</td>\n",
       "      <td>en</td>\n",
       "      <td>0</td>\n",
       "      <td>False</td>\n",
       "      <td>Twitter for iPhone</td>\n",
       "      <td>{'retweet_count': 0, 'reply_count': 0, 'like_c...</td>\n",
       "      <td>Wordle 316 6/6\\r\\n\\r\\n🟨🟩⬛⬛⬛\\r\\n⬛🟩⬛⬛⬛\\r\\n⬛🟩⬛⬛⬛c...</td>\n",
       "      <td>[{'domain': {'id': '30', 'name': 'Entities [En...</td>\n",
       "      <td>19242429</td>\n",
       "      <td>...</td>\n",
       "      <td>https://t.co/p52lELGgR6</td>\n",
       "      <td>Toronto's Favorite Hot Shot / Bon Vivant / Pos...</td>\n",
       "      <td>https://pbs.twimg.com/profile_images/450450271...</td>\n",
       "      <td>Toronto</td>\n",
       "      <td>False</td>\n",
       "      <td>Jeremy__Kay</td>\n",
       "      <td>False</td>\n",
       "      <td>{'url': {'urls': [{'start': 0, 'end': 23, 'url...</td>\n",
       "      <td>0.0</td>\n",
       "      <td>0</td>\n",
       "    </tr>\n",
       "    <tr>\n",
       "      <th>1520733408607019008</th>\n",
       "      <td>1482287271697170432</td>\n",
       "      <td>everyone</td>\n",
       "      <td>en</td>\n",
       "      <td>0</td>\n",
       "      <td>False</td>\n",
       "      <td>Twitter for Android</td>\n",
       "      <td>{'retweet_count': 0, 'reply_count': 1, 'like_c...</td>\n",
       "      <td>Wordle (ES)  #115 4/6\\r\\n\\r\\n⬜⬜⬜⬜🟩\\r\\n🟨⬜⬜🟩🟩\\r\\...</td>\n",
       "      <td>[{'domain': {'id': '30', 'name': 'Entities [En...</td>\n",
       "      <td>2909723165</td>\n",
       "      <td>...</td>\n",
       "      <td>https://t.co/p9TNxd7TyP</td>\n",
       "      <td>Diseño de videojuegos \\n✨🌻🏞️😊💗☄️✨</td>\n",
       "      <td>https://pbs.twimg.com/profile_images/151907981...</td>\n",
       "      <td>Madrid</td>\n",
       "      <td>False</td>\n",
       "      <td>eliasmgo</td>\n",
       "      <td>False</td>\n",
       "      <td>{'url': {'urls': [{'start': 0, 'end': 23, 'url...</td>\n",
       "      <td>0.0</td>\n",
       "      <td>0</td>\n",
       "    </tr>\n",
       "    <tr>\n",
       "      <th>1520733408237916161</th>\n",
       "      <td>1520733408237916161</td>\n",
       "      <td>everyone</td>\n",
       "      <td>en</td>\n",
       "      <td>0</td>\n",
       "      <td>False</td>\n",
       "      <td>Twitter for iPhone</td>\n",
       "      <td>{'retweet_count': 0, 'reply_count': 0, 'like_c...</td>\n",
       "      <td>Wordle 316 3/6\\r\\n\\r\\n⬛⬛🟩⬛⬛\\r\\n⬛🟩🟩⬛⬛\\r\\n🟩🟩🟩🟩🟩</td>\n",
       "      <td>[{'domain': {'id': '30', 'name': 'Entities [En...</td>\n",
       "      <td>1069359838994550785</td>\n",
       "      <td>...</td>\n",
       "      <td>0</td>\n",
       "      <td>0</td>\n",
       "      <td>0</td>\n",
       "      <td>0</td>\n",
       "      <td>0</td>\n",
       "      <td>0</td>\n",
       "      <td>0</td>\n",
       "      <td>0</td>\n",
       "      <td>0.0</td>\n",
       "      <td>0</td>\n",
       "    </tr>\n",
       "  </tbody>\n",
       "</table>\n",
       "<p>192115 rows × 28 columns</p>\n",
       "</div>"
      ],
      "text/plain": [
       "                         conversation_id reply_settings lang  \\\n",
       "tweet_id                                                       \n",
       "1521733018293084160  1521733018293084160       everyone   en   \n",
       "1521733015738662913  1521733015738662913       everyone   es   \n",
       "1521733011414257664  1521733011414257664       everyone   en   \n",
       "1521733010504445954  1521733010504445954       everyone   en   \n",
       "1521733001981444096  1521731925559418880       everyone   en   \n",
       "...                                  ...            ...  ...   \n",
       "1520733413246144512  1520733413246144512       everyone   es   \n",
       "1520733412725870592  1520733412725870592       everyone  und   \n",
       "1520733410947485702  1520733410947485702       everyone   en   \n",
       "1520733408607019008  1482287271697170432       everyone   en   \n",
       "1520733408237916161  1520733408237916161       everyone   en   \n",
       "\n",
       "                                                        entities_tweet  \\\n",
       "tweet_id                                                                 \n",
       "1521733018293084160  {'urls': [{'start': 54, 'end': 77, 'url': 'htt...   \n",
       "1521733015738662913  {'urls': [{'start': 58, 'end': 81, 'url': 'htt...   \n",
       "1521733011414257664                                                  0   \n",
       "1521733010504445954                                                  0   \n",
       "1521733001981444096  {'mentions': [{'start': 0, 'end': 12, 'usernam...   \n",
       "...                                                                ...   \n",
       "1520733413246144512  {'urls': [{'start': 118, 'end': 141, 'url': 'h...   \n",
       "1520733412725870592  {'hashtags': [{'start': 0, 'end': 7, 'tag': 'W...   \n",
       "1520733410947485702                                                  0   \n",
       "1520733408607019008                                                  0   \n",
       "1520733408237916161                                                  0   \n",
       "\n",
       "                     possibly_sensitive               source  \\\n",
       "tweet_id                                                       \n",
       "1521733018293084160               False      Twitter Web App   \n",
       "1521733015738662913               False  Twitter for Android   \n",
       "1521733011414257664               False  Twitter for Android   \n",
       "1521733010504445954               False  Twitter for Android   \n",
       "1521733001981444096               False   Twitter for iPhone   \n",
       "...                                 ...                  ...   \n",
       "1520733413246144512               False  Twitter for Android   \n",
       "1520733412725870592               False   Twitter for iPhone   \n",
       "1520733410947485702               False   Twitter for iPhone   \n",
       "1520733408607019008               False  Twitter for Android   \n",
       "1520733408237916161               False   Twitter for iPhone   \n",
       "\n",
       "                                                  public_metrics_tweet  \\\n",
       "tweet_id                                                                 \n",
       "1521733018293084160  {'retweet_count': 0, 'reply_count': 0, 'like_c...   \n",
       "1521733015738662913  {'retweet_count': 0, 'reply_count': 0, 'like_c...   \n",
       "1521733011414257664  {'retweet_count': 0, 'reply_count': 0, 'like_c...   \n",
       "1521733010504445954  {'retweet_count': 0, 'reply_count': 0, 'like_c...   \n",
       "1521733001981444096  {'retweet_count': 0, 'reply_count': 0, 'like_c...   \n",
       "...                                                                ...   \n",
       "1520733413246144512  {'retweet_count': 0, 'reply_count': 0, 'like_c...   \n",
       "1520733412725870592  {'retweet_count': 0, 'reply_count': 0, 'like_c...   \n",
       "1520733410947485702  {'retweet_count': 0, 'reply_count': 0, 'like_c...   \n",
       "1520733408607019008  {'retweet_count': 0, 'reply_count': 1, 'like_c...   \n",
       "1520733408237916161  {'retweet_count': 0, 'reply_count': 0, 'like_c...   \n",
       "\n",
       "                                                                  text  \\\n",
       "tweet_id                                                                 \n",
       "1521733018293084160  Wordle (ES)  #118 5/6\\n\\n⬜⬜🟨🟩⬜\\n⬜⬜🟨🟩⬜\\n⬜⬜⬜🟩🟩\\n...   \n",
       "1521733015738662913  Wordle Científico #52 5/6\\n\\n⬜⬜⬜⬜🟨\\n🟨⬜⬜⬜🟩\\n⬜🟩⬜...   \n",
       "1521733011414257664       Wordle 319 4/6\\n\\n🟨🟨⬜⬜⬜\\n🟨⬜⬜🟩⬜\\n🟩🟨⬜🟩🟨\\n🟩🟩🟩🟩🟩   \n",
       "1521733010504445954  Back in the saddle.\\n\\nWordle 319 3/6\\n\\n⬜🟩⬜🟨⬜...   \n",
       "1521733001981444096  @RwellsWells Same. Are we both spotters? Haha ...   \n",
       "...                                                                ...   \n",
       "1520733413246144512  Una de las malditas con montones de posibilida...   \n",
       "1520733412725870592  #Wordle 316 4/6\\r\\n\\r\\n🟨⬛⬛⬛⬛\\r\\n⬛⬛🟨⬛🟨\\r\\n⬛⬛⬛⬛🟩...   \n",
       "1520733410947485702  Wordle 316 6/6\\r\\n\\r\\n🟨🟩⬛⬛⬛\\r\\n⬛🟩⬛⬛⬛\\r\\n⬛🟩⬛⬛⬛c...   \n",
       "1520733408607019008  Wordle (ES)  #115 4/6\\r\\n\\r\\n⬜⬜⬜⬜🟩\\r\\n🟨⬜⬜🟩🟩\\r\\...   \n",
       "1520733408237916161      Wordle 316 3/6\\r\\n\\r\\n⬛⬛🟩⬛⬛\\r\\n⬛🟩🟩⬛⬛\\r\\n🟩🟩🟩🟩🟩   \n",
       "\n",
       "                                                   context_annotations  \\\n",
       "tweet_id                                                                 \n",
       "1521733018293084160  [{'domain': {'id': '30', 'name': 'Entities [En...   \n",
       "1521733015738662913  [{'domain': {'id': '30', 'name': 'Entities [En...   \n",
       "1521733011414257664  [{'domain': {'id': '30', 'name': 'Entities [En...   \n",
       "1521733010504445954  [{'domain': {'id': '30', 'name': 'Entities [En...   \n",
       "1521733001981444096  [{'domain': {'id': '30', 'name': 'Entities [En...   \n",
       "...                                                                ...   \n",
       "1520733413246144512  [{'domain': {'id': '30', 'name': 'Entities [En...   \n",
       "1520733412725870592  [{'domain': {'id': '30', 'name': 'Entities [En...   \n",
       "1520733410947485702  [{'domain': {'id': '30', 'name': 'Entities [En...   \n",
       "1520733408607019008  [{'domain': {'id': '30', 'name': 'Entities [En...   \n",
       "1520733408237916161  [{'domain': {'id': '30', 'name': 'Entities [En...   \n",
       "\n",
       "                               author_id  ...                      url  \\\n",
       "tweet_id                                  ...                            \n",
       "1521733018293084160  1006110502043471872  ...                        0   \n",
       "1521733015738662913            360002014  ...  https://t.co/uMfikCmd0I   \n",
       "1521733011414257664   828818052892422148  ...                        0   \n",
       "1521733010504445954            862077942  ...  https://t.co/iOfRLxEru5   \n",
       "1521733001981444096             53116513  ...                        0   \n",
       "...                                  ...  ...                      ...   \n",
       "1520733413246144512           2568024265  ...                        0   \n",
       "1520733412725870592             91813530  ...  https://t.co/s46eDxHM7n   \n",
       "1520733410947485702             19242429  ...  https://t.co/p52lELGgR6   \n",
       "1520733408607019008           2909723165  ...  https://t.co/p9TNxd7TyP   \n",
       "1520733408237916161  1069359838994550785  ...                        0   \n",
       "\n",
       "                                                           description  \\\n",
       "tweet_id                                                                 \n",
       "1521733018293084160                                                  0   \n",
       "1521733015738662913                                                  0   \n",
       "1521733011414257664                                                  0   \n",
       "1521733010504445954  It's not criticism, it's just a different way ...   \n",
       "1521733001981444096            I don't like cricket. oh no. i love it!   \n",
       "...                                                                ...   \n",
       "1520733413246144512                                                  0   \n",
       "1520733412725870592                                                  0   \n",
       "1520733410947485702  Toronto's Favorite Hot Shot / Bon Vivant / Pos...   \n",
       "1520733408607019008                  Diseño de videojuegos \\n✨🌻🏞️😊💗☄️✨   \n",
       "1520733408237916161                                                  0   \n",
       "\n",
       "                                                     profile_image_url  \\\n",
       "tweet_id                                                                 \n",
       "1521733018293084160                                                  0   \n",
       "1521733015738662913  https://pbs.twimg.com/profile_images/122215871...   \n",
       "1521733011414257664                                                  0   \n",
       "1521733010504445954  https://pbs.twimg.com/profile_images/150123920...   \n",
       "1521733001981444096  https://pbs.twimg.com/profile_images/110881711...   \n",
       "...                                                                ...   \n",
       "1520733413246144512                                                  0   \n",
       "1520733412725870592  https://pbs.twimg.com/profile_images/145343436...   \n",
       "1520733410947485702  https://pbs.twimg.com/profile_images/450450271...   \n",
       "1520733408607019008  https://pbs.twimg.com/profile_images/151907981...   \n",
       "1520733408237916161                                                  0   \n",
       "\n",
       "                              location protected       username verified  \\\n",
       "tweet_id                                                                   \n",
       "1521733018293084160                  0         0              0        0   \n",
       "1521733015738662913  Alcalá de Henares     False    AnaVGarciaG    False   \n",
       "1521733011414257664                  0         0              0        0   \n",
       "1521733010504445954              Spain     False      Geordioca    False   \n",
       "1521733001981444096          sheffield     False  chrisjones792    False   \n",
       "...                                ...       ...            ...      ...   \n",
       "1520733413246144512                  0         0              0        0   \n",
       "1520733412725870592              Malta     False         kabo59    False   \n",
       "1520733410947485702            Toronto     False    Jeremy__Kay    False   \n",
       "1520733408607019008             Madrid     False       eliasmgo    False   \n",
       "1520733408237916161                  0         0              0        0   \n",
       "\n",
       "                                                         entities_user  \\\n",
       "tweet_id                                                                 \n",
       "1521733018293084160                                                  0   \n",
       "1521733015738662913  {'url': {'urls': [{'start': 0, 'end': 23, 'url...   \n",
       "1521733011414257664                                                  0   \n",
       "1521733010504445954  {'url': {'urls': [{'start': 0, 'end': 23, 'url...   \n",
       "1521733001981444096                                                  0   \n",
       "...                                                                ...   \n",
       "1520733413246144512                                                  0   \n",
       "1520733412725870592  {'url': {'urls': [{'start': 0, 'end': 23, 'url...   \n",
       "1520733410947485702  {'url': {'urls': [{'start': 0, 'end': 23, 'url...   \n",
       "1520733408607019008  {'url': {'urls': [{'start': 0, 'end': 23, 'url...   \n",
       "1520733408237916161                                                  0   \n",
       "\n",
       "                    pinned_tweet_id withheld_user  \n",
       "tweet_id                                           \n",
       "1521733018293084160             0.0             0  \n",
       "1521733015738662913             0.0             0  \n",
       "1521733011414257664             0.0             0  \n",
       "1521733010504445954             0.0             0  \n",
       "1521733001981444096             0.0             0  \n",
       "...                             ...           ...  \n",
       "1520733413246144512             0.0             0  \n",
       "1520733412725870592             0.0             0  \n",
       "1520733410947485702             0.0             0  \n",
       "1520733408607019008             0.0             0  \n",
       "1520733408237916161             0.0             0  \n",
       "\n",
       "[192115 rows x 28 columns]"
      ]
     },
     "execution_count": 9,
     "metadata": {},
     "output_type": "execute_result"
    }
   ],
   "source": [
    "#the merged df should have as many records as tweets.\n",
    "\n",
    "#tweets-users dataframe\n",
    "tweets['id_tweets_copy'] = tweets.index\n",
    "tudf = pd.merge(tweets, users, how = 'left', left_on = 'author_id', right_on = 'id', suffixes = ('_tweet', '_user') )\n",
    "tudf.fillna(0, inplace = True)\n",
    "tudf.drop_duplicates(subset = 'id_tweets_copy', inplace = True)\n",
    "tudf.set_index('id_tweets_copy', inplace=True)\n",
    "tudf.index.rename('tweet_id', inplace = True)\n",
    "tudf\n"
   ]
  },
  {
   "cell_type": "code",
   "execution_count": 10,
   "id": "02d38e15",
   "metadata": {
    "scrolled": true
   },
   "outputs": [
    {
     "data": {
      "text/plain": [
       "'Wordle (ES)  #118 5/6\\n\\n⬜⬜🟨🟩⬜\\n⬜⬜🟨🟩⬜\\n⬜⬜⬜🟩🟩\\n⬜🟩⬜🟩🟩\\n🟩🟩🟩🟩🟩\\n https://t.co/oJCukg4JnD'"
      ]
     },
     "execution_count": 10,
     "metadata": {},
     "output_type": "execute_result"
    }
   ],
   "source": [
    "tudf.iloc[0]['text']"
   ]
  },
  {
   "cell_type": "code",
   "execution_count": 11,
   "id": "e083243c",
   "metadata": {},
   "outputs": [
    {
     "name": "stdout",
     "output_type": "stream",
     "text": [
      "\n",
      "⬜⬜🟨🟩⬜\n",
      "⬜⬜🟨🟩⬜\n",
      "⬜⬜⬜🟩🟩\n",
      "⬜🟩⬜🟩🟩\n",
      "🟩🟩🟩🟩🟩\n",
      "\n"
     ]
    }
   ],
   "source": [
    "print('\\n⬜⬜🟨🟩⬜\\n⬜⬜🟨🟩⬜\\n⬜⬜⬜🟩🟩\\n⬜🟩⬜🟩🟩\\n🟩🟩🟩🟩🟩\\n')"
   ]
  },
  {
   "cell_type": "code",
   "execution_count": 12,
   "id": "671a3a26",
   "metadata": {
    "scrolled": true
   },
   "outputs": [
    {
     "name": "stdout",
     "output_type": "stream",
     "text": [
      "<class 'pandas.core.frame.DataFrame'>\n",
      "Int64Index: 192115 entries, 1521733018293084160 to 1520733408237916161\n",
      "Data columns (total 28 columns):\n",
      " #   Column                Non-Null Count   Dtype  \n",
      "---  ------                --------------   -----  \n",
      " 0   conversation_id       192115 non-null  int64  \n",
      " 1   reply_settings        192115 non-null  object \n",
      " 2   lang                  192115 non-null  object \n",
      " 3   entities_tweet        192115 non-null  object \n",
      " 4   possibly_sensitive    192115 non-null  bool   \n",
      " 5   source                192115 non-null  object \n",
      " 6   public_metrics_tweet  192115 non-null  object \n",
      " 7   text                  192115 non-null  object \n",
      " 8   context_annotations   192115 non-null  object \n",
      " 9   author_id             192115 non-null  int64  \n",
      " 10  created_at            192115 non-null  object \n",
      " 11  referenced_tweets     192115 non-null  object \n",
      " 12  in_reply_to_user_id   192115 non-null  float64\n",
      " 13  attachments           192115 non-null  object \n",
      " 14  geo                   192115 non-null  object \n",
      " 15  withheld_tweet        192115 non-null  object \n",
      " 16  name                  192115 non-null  object \n",
      " 17  public_metrics_user   192115 non-null  object \n",
      " 18  url                   192115 non-null  object \n",
      " 19  description           192115 non-null  object \n",
      " 20  profile_image_url     192115 non-null  object \n",
      " 21  location              192115 non-null  object \n",
      " 22  protected             192115 non-null  object \n",
      " 23  username              192115 non-null  object \n",
      " 24  verified              192115 non-null  object \n",
      " 25  entities_user         192115 non-null  object \n",
      " 26  pinned_tweet_id       192115 non-null  float64\n",
      " 27  withheld_user         192115 non-null  object \n",
      "dtypes: bool(1), float64(2), int64(2), object(23)\n",
      "memory usage: 41.2+ MB\n"
     ]
    }
   ],
   "source": [
    "tudf.info()"
   ]
  },
  {
   "cell_type": "code",
   "execution_count": 13,
   "id": "cf3b5ac0",
   "metadata": {
    "scrolled": true
   },
   "outputs": [
    {
     "data": {
      "text/plain": [
       "Index(['conversation_id', 'reply_settings', 'lang', 'entities_tweet',\n",
       "       'possibly_sensitive', 'source', 'public_metrics_tweet', 'text',\n",
       "       'context_annotations', 'author_id', 'created_at', 'referenced_tweets',\n",
       "       'in_reply_to_user_id', 'attachments', 'geo', 'withheld_tweet', 'name',\n",
       "       'public_metrics_user', 'url', 'description', 'profile_image_url',\n",
       "       'location', 'protected', 'username', 'verified', 'entities_user',\n",
       "       'pinned_tweet_id', 'withheld_user'],\n",
       "      dtype='object')"
      ]
     },
     "execution_count": 13,
     "metadata": {},
     "output_type": "execute_result"
    }
   ],
   "source": [
    "tudf.columns"
   ]
  },
  {
   "cell_type": "code",
   "execution_count": 14,
   "id": "590b790c",
   "metadata": {},
   "outputs": [
    {
     "data": {
      "text/plain": [
       "conversation_id                                       1520733408237916161\n",
       "reply_settings                                                   everyone\n",
       "lang                                                                   en\n",
       "entities_tweet                                                          0\n",
       "possibly_sensitive                                                  False\n",
       "source                                                 Twitter for iPhone\n",
       "public_metrics_tweet    {'retweet_count': 0, 'reply_count': 0, 'like_c...\n",
       "text                        Wordle 316 3/6\\r\\n\\r\\n⬛⬛🟩⬛⬛\\r\\n⬛🟩🟩⬛⬛\\r\\n🟩🟩🟩🟩🟩\n",
       "context_annotations     [{'domain': {'id': '30', 'name': 'Entities [En...\n",
       "author_id                                             1069359838994550785\n",
       "created_at                                      2022-05-01 11:54:33+00:00\n",
       "referenced_tweets                                                       0\n",
       "in_reply_to_user_id                                                   0.0\n",
       "attachments                                                             0\n",
       "geo                                                                     0\n",
       "withheld_tweet                                                          0\n",
       "name                                                                    0\n",
       "public_metrics_user                                                     0\n",
       "url                                                                     0\n",
       "description                                                             0\n",
       "profile_image_url                                                       0\n",
       "location                                                                0\n",
       "protected                                                               0\n",
       "username                                                                0\n",
       "verified                                                                0\n",
       "entities_user                                                           0\n",
       "pinned_tweet_id                                                       0.0\n",
       "withheld_user                                                           0\n",
       "Name: 1520733408237916161, dtype: object"
      ]
     },
     "execution_count": 14,
     "metadata": {},
     "output_type": "execute_result"
    }
   ],
   "source": [
    "tudf.iloc[-1]"
   ]
  },
  {
   "cell_type": "code",
   "execution_count": 15,
   "id": "982a18cc",
   "metadata": {
    "scrolled": true
   },
   "outputs": [
    {
     "data": {
      "text/plain": [
       "conversation_id                                       1482287271697170432\n",
       "reply_settings                                                   everyone\n",
       "lang                                                                   en\n",
       "entities_tweet                                                          0\n",
       "possibly_sensitive                                                  False\n",
       "source                                                Twitter for Android\n",
       "public_metrics_tweet    {'retweet_count': 0, 'reply_count': 1, 'like_c...\n",
       "text                    Wordle (ES)  #115 4/6\\r\\n\\r\\n⬜⬜⬜⬜🟩\\r\\n🟨⬜⬜🟩🟩\\r\\...\n",
       "context_annotations     [{'domain': {'id': '30', 'name': 'Entities [En...\n",
       "author_id                                                      2909723165\n",
       "created_at                                      2022-05-01 11:54:33+00:00\n",
       "referenced_tweets       [{'type': 'replied_to', 'id': '152030925309287...\n",
       "in_reply_to_user_id                                          2909723165.0\n",
       "attachments                                                             0\n",
       "geo                                                                     0\n",
       "withheld_tweet                                                          0\n",
       "name                                                              eliazzz\n",
       "public_metrics_user     {'followers_count': 354, 'following_count': 12...\n",
       "url                                               https://t.co/p9TNxd7TyP\n",
       "description                             Diseño de videojuegos \\n✨🌻🏞️😊💗☄️✨\n",
       "profile_image_url       https://pbs.twimg.com/profile_images/151907981...\n",
       "location                                                           Madrid\n",
       "protected                                                           False\n",
       "username                                                         eliasmgo\n",
       "verified                                                            False\n",
       "entities_user           {'url': {'urls': [{'start': 0, 'end': 23, 'url...\n",
       "pinned_tweet_id                                                       0.0\n",
       "withheld_user                                                           0\n",
       "Name: 1520733408607019008, dtype: object"
      ]
     },
     "execution_count": 15,
     "metadata": {},
     "output_type": "execute_result"
    }
   ],
   "source": [
    "tudf.iloc[-2]"
   ]
  },
  {
   "cell_type": "code",
   "execution_count": 16,
   "id": "3d6e4bf4",
   "metadata": {},
   "outputs": [
    {
     "data": {
      "text/plain": [
       "0"
      ]
     },
     "execution_count": 16,
     "metadata": {},
     "output_type": "execute_result"
    }
   ],
   "source": [
    "tudf.iloc[-1]['withheld_tweet']"
   ]
  },
  {
   "cell_type": "code",
   "execution_count": 17,
   "id": "b10d3875",
   "metadata": {
    "scrolled": true
   },
   "outputs": [
    {
     "data": {
      "text/plain": [
       "0"
      ]
     },
     "execution_count": 17,
     "metadata": {},
     "output_type": "execute_result"
    }
   ],
   "source": [
    "tudf.iloc[-2]['withheld_tweet']"
   ]
  },
  {
   "cell_type": "code",
   "execution_count": 18,
   "id": "90f2fb90",
   "metadata": {},
   "outputs": [
    {
     "data": {
      "text/plain": [
       "True"
      ]
     },
     "execution_count": 18,
     "metadata": {},
     "output_type": "execute_result"
    }
   ],
   "source": [
    "tudf.iloc[-1]['withheld_tweet'] == tudf.iloc[-2]['withheld_tweet']"
   ]
  },
  {
   "cell_type": "markdown",
   "id": "83c6c915",
   "metadata": {},
   "source": [
    "It looks like a lot of the tweets are duplicated because merges and drop_duplicates don't consider NaN == NaN. For example, `tudf.iloc[-1, 'withheld_tweet']` and `tudf.iloc[-2, 'withheld_tweet]` are both null, but they are not considered equal to each other."
   ]
  },
  {
   "cell_type": "code",
   "execution_count": 19,
   "id": "06c448c5",
   "metadata": {},
   "outputs": [],
   "source": [
    "#fast and loose fillna for dropping duplicates\n",
    "tudf.fillna(0, inplace=True)"
   ]
  },
  {
   "cell_type": "code",
   "execution_count": 20,
   "id": "3b0743e1",
   "metadata": {},
   "outputs": [
    {
     "name": "stdout",
     "output_type": "stream",
     "text": [
      "<class 'pandas.core.frame.DataFrame'>\n",
      "Int64Index: 192115 entries, 1521733018293084160 to 1520733408237916161\n",
      "Data columns (total 28 columns):\n",
      " #   Column                Non-Null Count   Dtype  \n",
      "---  ------                --------------   -----  \n",
      " 0   conversation_id       192115 non-null  int64  \n",
      " 1   reply_settings        192115 non-null  object \n",
      " 2   lang                  192115 non-null  object \n",
      " 3   entities_tweet        192115 non-null  object \n",
      " 4   possibly_sensitive    192115 non-null  bool   \n",
      " 5   source                192115 non-null  object \n",
      " 6   public_metrics_tweet  192115 non-null  object \n",
      " 7   text                  192115 non-null  object \n",
      " 8   context_annotations   192115 non-null  object \n",
      " 9   author_id             192115 non-null  int64  \n",
      " 10  created_at            192115 non-null  object \n",
      " 11  referenced_tweets     192115 non-null  object \n",
      " 12  in_reply_to_user_id   192115 non-null  float64\n",
      " 13  attachments           192115 non-null  object \n",
      " 14  geo                   192115 non-null  object \n",
      " 15  withheld_tweet        192115 non-null  object \n",
      " 16  name                  192115 non-null  object \n",
      " 17  public_metrics_user   192115 non-null  object \n",
      " 18  url                   192115 non-null  object \n",
      " 19  description           192115 non-null  object \n",
      " 20  profile_image_url     192115 non-null  object \n",
      " 21  location              192115 non-null  object \n",
      " 22  protected             192115 non-null  object \n",
      " 23  username              192115 non-null  object \n",
      " 24  verified              192115 non-null  object \n",
      " 25  entities_user         192115 non-null  object \n",
      " 26  pinned_tweet_id       192115 non-null  float64\n",
      " 27  withheld_user         192115 non-null  object \n",
      "dtypes: bool(1), float64(2), int64(2), object(23)\n",
      "memory usage: 41.2+ MB\n"
     ]
    }
   ],
   "source": [
    "tudf.drop_duplicates(inplace=True)\n",
    "tudf.info()"
   ]
  },
  {
   "cell_type": "code",
   "execution_count": 21,
   "id": "5b900f59",
   "metadata": {},
   "outputs": [
    {
     "data": {
      "text/html": [
       "<div>\n",
       "<style scoped>\n",
       "    .dataframe tbody tr th:only-of-type {\n",
       "        vertical-align: middle;\n",
       "    }\n",
       "\n",
       "    .dataframe tbody tr th {\n",
       "        vertical-align: top;\n",
       "    }\n",
       "\n",
       "    .dataframe thead th {\n",
       "        text-align: right;\n",
       "    }\n",
       "</style>\n",
       "<table border=\"1\" class=\"dataframe\">\n",
       "  <thead>\n",
       "    <tr style=\"text-align: right;\">\n",
       "      <th></th>\n",
       "      <th>conversation_id</th>\n",
       "      <th>reply_settings</th>\n",
       "      <th>lang</th>\n",
       "      <th>entities_tweet</th>\n",
       "      <th>possibly_sensitive</th>\n",
       "      <th>source</th>\n",
       "      <th>public_metrics_tweet</th>\n",
       "      <th>text</th>\n",
       "      <th>context_annotations</th>\n",
       "      <th>author_id</th>\n",
       "      <th>...</th>\n",
       "      <th>url</th>\n",
       "      <th>description</th>\n",
       "      <th>profile_image_url</th>\n",
       "      <th>location</th>\n",
       "      <th>protected</th>\n",
       "      <th>username</th>\n",
       "      <th>verified</th>\n",
       "      <th>entities_user</th>\n",
       "      <th>pinned_tweet_id</th>\n",
       "      <th>withheld_user</th>\n",
       "    </tr>\n",
       "    <tr>\n",
       "      <th>tweet_id</th>\n",
       "      <th></th>\n",
       "      <th></th>\n",
       "      <th></th>\n",
       "      <th></th>\n",
       "      <th></th>\n",
       "      <th></th>\n",
       "      <th></th>\n",
       "      <th></th>\n",
       "      <th></th>\n",
       "      <th></th>\n",
       "      <th></th>\n",
       "      <th></th>\n",
       "      <th></th>\n",
       "      <th></th>\n",
       "      <th></th>\n",
       "      <th></th>\n",
       "      <th></th>\n",
       "      <th></th>\n",
       "      <th></th>\n",
       "      <th></th>\n",
       "      <th></th>\n",
       "    </tr>\n",
       "  </thead>\n",
       "  <tbody>\n",
       "    <tr>\n",
       "      <th>1520733413246144512</th>\n",
       "      <td>1520733413246144512</td>\n",
       "      <td>everyone</td>\n",
       "      <td>es</td>\n",
       "      <td>{'urls': [{'start': 118, 'end': 141, 'url': 'h...</td>\n",
       "      <td>False</td>\n",
       "      <td>Twitter for Android</td>\n",
       "      <td>{'retweet_count': 0, 'reply_count': 0, 'like_c...</td>\n",
       "      <td>Una de las malditas con montones de posibilida...</td>\n",
       "      <td>[{'domain': {'id': '30', 'name': 'Entities [En...</td>\n",
       "      <td>2568024265</td>\n",
       "      <td>...</td>\n",
       "      <td>0</td>\n",
       "      <td>0</td>\n",
       "      <td>0</td>\n",
       "      <td>0</td>\n",
       "      <td>0</td>\n",
       "      <td>0</td>\n",
       "      <td>0</td>\n",
       "      <td>0</td>\n",
       "      <td>0.0</td>\n",
       "      <td>0</td>\n",
       "    </tr>\n",
       "    <tr>\n",
       "      <th>1520733412725870592</th>\n",
       "      <td>1520733412725870592</td>\n",
       "      <td>everyone</td>\n",
       "      <td>und</td>\n",
       "      <td>{'hashtags': [{'start': 0, 'end': 7, 'tag': 'W...</td>\n",
       "      <td>False</td>\n",
       "      <td>Twitter for iPhone</td>\n",
       "      <td>{'retweet_count': 0, 'reply_count': 0, 'like_c...</td>\n",
       "      <td>#Wordle 316 4/6\\r\\n\\r\\n🟨⬛⬛⬛⬛\\r\\n⬛⬛🟨⬛🟨\\r\\n⬛⬛⬛⬛🟩...</td>\n",
       "      <td>[{'domain': {'id': '30', 'name': 'Entities [En...</td>\n",
       "      <td>91813530</td>\n",
       "      <td>...</td>\n",
       "      <td>https://t.co/s46eDxHM7n</td>\n",
       "      <td>0</td>\n",
       "      <td>https://pbs.twimg.com/profile_images/145343436...</td>\n",
       "      <td>Malta</td>\n",
       "      <td>False</td>\n",
       "      <td>kabo59</td>\n",
       "      <td>False</td>\n",
       "      <td>{'url': {'urls': [{'start': 0, 'end': 23, 'url...</td>\n",
       "      <td>0.0</td>\n",
       "      <td>0</td>\n",
       "    </tr>\n",
       "    <tr>\n",
       "      <th>1520733410947485702</th>\n",
       "      <td>1520733410947485702</td>\n",
       "      <td>everyone</td>\n",
       "      <td>en</td>\n",
       "      <td>0</td>\n",
       "      <td>False</td>\n",
       "      <td>Twitter for iPhone</td>\n",
       "      <td>{'retweet_count': 0, 'reply_count': 0, 'like_c...</td>\n",
       "      <td>Wordle 316 6/6\\r\\n\\r\\n🟨🟩⬛⬛⬛\\r\\n⬛🟩⬛⬛⬛\\r\\n⬛🟩⬛⬛⬛c...</td>\n",
       "      <td>[{'domain': {'id': '30', 'name': 'Entities [En...</td>\n",
       "      <td>19242429</td>\n",
       "      <td>...</td>\n",
       "      <td>https://t.co/p52lELGgR6</td>\n",
       "      <td>Toronto's Favorite Hot Shot / Bon Vivant / Pos...</td>\n",
       "      <td>https://pbs.twimg.com/profile_images/450450271...</td>\n",
       "      <td>Toronto</td>\n",
       "      <td>False</td>\n",
       "      <td>Jeremy__Kay</td>\n",
       "      <td>False</td>\n",
       "      <td>{'url': {'urls': [{'start': 0, 'end': 23, 'url...</td>\n",
       "      <td>0.0</td>\n",
       "      <td>0</td>\n",
       "    </tr>\n",
       "    <tr>\n",
       "      <th>1520733408607019008</th>\n",
       "      <td>1482287271697170432</td>\n",
       "      <td>everyone</td>\n",
       "      <td>en</td>\n",
       "      <td>0</td>\n",
       "      <td>False</td>\n",
       "      <td>Twitter for Android</td>\n",
       "      <td>{'retweet_count': 0, 'reply_count': 1, 'like_c...</td>\n",
       "      <td>Wordle (ES)  #115 4/6\\r\\n\\r\\n⬜⬜⬜⬜🟩\\r\\n🟨⬜⬜🟩🟩\\r\\...</td>\n",
       "      <td>[{'domain': {'id': '30', 'name': 'Entities [En...</td>\n",
       "      <td>2909723165</td>\n",
       "      <td>...</td>\n",
       "      <td>https://t.co/p9TNxd7TyP</td>\n",
       "      <td>Diseño de videojuegos \\n✨🌻🏞️😊💗☄️✨</td>\n",
       "      <td>https://pbs.twimg.com/profile_images/151907981...</td>\n",
       "      <td>Madrid</td>\n",
       "      <td>False</td>\n",
       "      <td>eliasmgo</td>\n",
       "      <td>False</td>\n",
       "      <td>{'url': {'urls': [{'start': 0, 'end': 23, 'url...</td>\n",
       "      <td>0.0</td>\n",
       "      <td>0</td>\n",
       "    </tr>\n",
       "    <tr>\n",
       "      <th>1520733408237916161</th>\n",
       "      <td>1520733408237916161</td>\n",
       "      <td>everyone</td>\n",
       "      <td>en</td>\n",
       "      <td>0</td>\n",
       "      <td>False</td>\n",
       "      <td>Twitter for iPhone</td>\n",
       "      <td>{'retweet_count': 0, 'reply_count': 0, 'like_c...</td>\n",
       "      <td>Wordle 316 3/6\\r\\n\\r\\n⬛⬛🟩⬛⬛\\r\\n⬛🟩🟩⬛⬛\\r\\n🟩🟩🟩🟩🟩</td>\n",
       "      <td>[{'domain': {'id': '30', 'name': 'Entities [En...</td>\n",
       "      <td>1069359838994550785</td>\n",
       "      <td>...</td>\n",
       "      <td>0</td>\n",
       "      <td>0</td>\n",
       "      <td>0</td>\n",
       "      <td>0</td>\n",
       "      <td>0</td>\n",
       "      <td>0</td>\n",
       "      <td>0</td>\n",
       "      <td>0</td>\n",
       "      <td>0.0</td>\n",
       "      <td>0</td>\n",
       "    </tr>\n",
       "  </tbody>\n",
       "</table>\n",
       "<p>5 rows × 28 columns</p>\n",
       "</div>"
      ],
      "text/plain": [
       "                         conversation_id reply_settings lang  \\\n",
       "tweet_id                                                       \n",
       "1520733413246144512  1520733413246144512       everyone   es   \n",
       "1520733412725870592  1520733412725870592       everyone  und   \n",
       "1520733410947485702  1520733410947485702       everyone   en   \n",
       "1520733408607019008  1482287271697170432       everyone   en   \n",
       "1520733408237916161  1520733408237916161       everyone   en   \n",
       "\n",
       "                                                        entities_tweet  \\\n",
       "tweet_id                                                                 \n",
       "1520733413246144512  {'urls': [{'start': 118, 'end': 141, 'url': 'h...   \n",
       "1520733412725870592  {'hashtags': [{'start': 0, 'end': 7, 'tag': 'W...   \n",
       "1520733410947485702                                                  0   \n",
       "1520733408607019008                                                  0   \n",
       "1520733408237916161                                                  0   \n",
       "\n",
       "                     possibly_sensitive               source  \\\n",
       "tweet_id                                                       \n",
       "1520733413246144512               False  Twitter for Android   \n",
       "1520733412725870592               False   Twitter for iPhone   \n",
       "1520733410947485702               False   Twitter for iPhone   \n",
       "1520733408607019008               False  Twitter for Android   \n",
       "1520733408237916161               False   Twitter for iPhone   \n",
       "\n",
       "                                                  public_metrics_tweet  \\\n",
       "tweet_id                                                                 \n",
       "1520733413246144512  {'retweet_count': 0, 'reply_count': 0, 'like_c...   \n",
       "1520733412725870592  {'retweet_count': 0, 'reply_count': 0, 'like_c...   \n",
       "1520733410947485702  {'retweet_count': 0, 'reply_count': 0, 'like_c...   \n",
       "1520733408607019008  {'retweet_count': 0, 'reply_count': 1, 'like_c...   \n",
       "1520733408237916161  {'retweet_count': 0, 'reply_count': 0, 'like_c...   \n",
       "\n",
       "                                                                  text  \\\n",
       "tweet_id                                                                 \n",
       "1520733413246144512  Una de las malditas con montones de posibilida...   \n",
       "1520733412725870592  #Wordle 316 4/6\\r\\n\\r\\n🟨⬛⬛⬛⬛\\r\\n⬛⬛🟨⬛🟨\\r\\n⬛⬛⬛⬛🟩...   \n",
       "1520733410947485702  Wordle 316 6/6\\r\\n\\r\\n🟨🟩⬛⬛⬛\\r\\n⬛🟩⬛⬛⬛\\r\\n⬛🟩⬛⬛⬛c...   \n",
       "1520733408607019008  Wordle (ES)  #115 4/6\\r\\n\\r\\n⬜⬜⬜⬜🟩\\r\\n🟨⬜⬜🟩🟩\\r\\...   \n",
       "1520733408237916161      Wordle 316 3/6\\r\\n\\r\\n⬛⬛🟩⬛⬛\\r\\n⬛🟩🟩⬛⬛\\r\\n🟩🟩🟩🟩🟩   \n",
       "\n",
       "                                                   context_annotations  \\\n",
       "tweet_id                                                                 \n",
       "1520733413246144512  [{'domain': {'id': '30', 'name': 'Entities [En...   \n",
       "1520733412725870592  [{'domain': {'id': '30', 'name': 'Entities [En...   \n",
       "1520733410947485702  [{'domain': {'id': '30', 'name': 'Entities [En...   \n",
       "1520733408607019008  [{'domain': {'id': '30', 'name': 'Entities [En...   \n",
       "1520733408237916161  [{'domain': {'id': '30', 'name': 'Entities [En...   \n",
       "\n",
       "                               author_id  ...                      url  \\\n",
       "tweet_id                                  ...                            \n",
       "1520733413246144512           2568024265  ...                        0   \n",
       "1520733412725870592             91813530  ...  https://t.co/s46eDxHM7n   \n",
       "1520733410947485702             19242429  ...  https://t.co/p52lELGgR6   \n",
       "1520733408607019008           2909723165  ...  https://t.co/p9TNxd7TyP   \n",
       "1520733408237916161  1069359838994550785  ...                        0   \n",
       "\n",
       "                                                           description  \\\n",
       "tweet_id                                                                 \n",
       "1520733413246144512                                                  0   \n",
       "1520733412725870592                                                  0   \n",
       "1520733410947485702  Toronto's Favorite Hot Shot / Bon Vivant / Pos...   \n",
       "1520733408607019008                  Diseño de videojuegos \\n✨🌻🏞️😊💗☄️✨   \n",
       "1520733408237916161                                                  0   \n",
       "\n",
       "                                                     profile_image_url  \\\n",
       "tweet_id                                                                 \n",
       "1520733413246144512                                                  0   \n",
       "1520733412725870592  https://pbs.twimg.com/profile_images/145343436...   \n",
       "1520733410947485702  https://pbs.twimg.com/profile_images/450450271...   \n",
       "1520733408607019008  https://pbs.twimg.com/profile_images/151907981...   \n",
       "1520733408237916161                                                  0   \n",
       "\n",
       "                    location protected     username verified  \\\n",
       "tweet_id                                                       \n",
       "1520733413246144512        0         0            0        0   \n",
       "1520733412725870592    Malta     False       kabo59    False   \n",
       "1520733410947485702  Toronto     False  Jeremy__Kay    False   \n",
       "1520733408607019008   Madrid     False     eliasmgo    False   \n",
       "1520733408237916161        0         0            0        0   \n",
       "\n",
       "                                                         entities_user  \\\n",
       "tweet_id                                                                 \n",
       "1520733413246144512                                                  0   \n",
       "1520733412725870592  {'url': {'urls': [{'start': 0, 'end': 23, 'url...   \n",
       "1520733410947485702  {'url': {'urls': [{'start': 0, 'end': 23, 'url...   \n",
       "1520733408607019008  {'url': {'urls': [{'start': 0, 'end': 23, 'url...   \n",
       "1520733408237916161                                                  0   \n",
       "\n",
       "                    pinned_tweet_id withheld_user  \n",
       "tweet_id                                           \n",
       "1520733413246144512             0.0             0  \n",
       "1520733412725870592             0.0             0  \n",
       "1520733410947485702             0.0             0  \n",
       "1520733408607019008             0.0             0  \n",
       "1520733408237916161             0.0             0  \n",
       "\n",
       "[5 rows x 28 columns]"
      ]
     },
     "execution_count": 21,
     "metadata": {},
     "output_type": "execute_result"
    }
   ],
   "source": [
    "tudf.tail()"
   ]
  },
  {
   "cell_type": "markdown",
   "id": "1f9e9528",
   "metadata": {},
   "source": [
    "---\n",
    "---\n",
    "## Basic EDA"
   ]
  },
  {
   "cell_type": "markdown",
   "id": "86011d62",
   "metadata": {},
   "source": [
    "---\n",
    "### Language `lang`\n",
    "\n",
    "A JSON converter for iso language codes to their proper english names was grabbed from [github/haliaeetus iso-639](https://github.com/haliaeetus/iso-639)"
   ]
  },
  {
   "cell_type": "code",
   "execution_count": 27,
   "id": "ff7fa544",
   "metadata": {
    "scrolled": true
   },
   "outputs": [],
   "source": [
    "with open('../iso_639-1.json', 'r', encoding='utf-8') as lang_file:\n",
    "    lang_dict = json.load(lang_file)\n",
    "lang_dict['und'] = {'name':'undefined'}\n",
    "lang_dict['in'] = {'name':'Indonesian'} #filling in some missing ones\n",
    "lang_dict['iw'] = {'name':'Hebrew'}"
   ]
  },
  {
   "cell_type": "code",
   "execution_count": 28,
   "id": "6fd81100",
   "metadata": {
    "scrolled": true
   },
   "outputs": [
    {
     "data": {
      "text/plain": [
       "{'639-1': 'aa',\n",
       " '639-2': 'aar',\n",
       " 'family': 'Afro-Asiatic',\n",
       " 'name': 'Afar',\n",
       " 'nativeName': 'Afaraf',\n",
       " 'wikiUrl': 'https://en.wikipedia.org/wiki/Afar_language'}"
      ]
     },
     "execution_count": 28,
     "metadata": {},
     "output_type": "execute_result"
    }
   ],
   "source": [
    "lang_dict['aa']"
   ]
  },
  {
   "cell_type": "code",
   "execution_count": 29,
   "id": "6c8056f7",
   "metadata": {
    "scrolled": false
   },
   "outputs": [
    {
     "data": {
      "image/png": "[encoded data removed]",
      "text/plain": [
       "<Figure size 864x1728 with 1 Axes>"
      ]
     },
     "metadata": {},
     "output_type": "display_data"
    }
   ],
   "source": [
    "#plot languages\n",
    "lang_vcs = tudf['lang'].value_counts()\n",
    "lang_vcs_names = [\n",
    "     lang_dict[lang]['name']\n",
    "     for lang in lang_vcs.index\n",
    "]\n",
    "plt.figure(figsize=(12,24))\n",
    "plt.barh(width=lang_vcs, y=lang_vcs_names, log = True)\n",
    "plt.title('Twitter Wordle languages (log)')\n",
    "plt.xlabel(\"number of tweets in data set\");"
   ]
  },
  {
   "cell_type": "markdown",
   "id": "47f06880",
   "metadata": {},
   "source": [
    "### conversation Id\n",
    "The `conversation_id` is the id of the \"base\" tweet. If it's different from the tweet id, then the tweet is a reply somewhere in a thread with the base tweet as the root."
   ]
  },
  {
   "cell_type": "code",
   "execution_count": 30,
   "id": "598068da",
   "metadata": {},
   "outputs": [
    {
     "data": {
      "text/plain": [
       "17635"
      ]
     },
     "execution_count": 30,
     "metadata": {},
     "output_type": "execute_result"
    }
   ],
   "source": [
    "# What tweets have the same conversation id as index (id)?\n",
    "is_reply = tudf['conversation_id'] != tudf.index\n",
    "is_reply.sum()"
   ]
  },
  {
   "cell_type": "code",
   "execution_count": 31,
   "id": "55d70d14",
   "metadata": {},
   "outputs": [
    {
     "data": {
      "text/plain": [
       "0.09179397756552066"
      ]
     },
     "execution_count": 31,
     "metadata": {},
     "output_type": "execute_result"
    }
   ],
   "source": [
    "is_reply.sum()/len(tudf)"
   ]
  },
  {
   "cell_type": "markdown",
   "id": "2a291797",
   "metadata": {},
   "source": [
    "about 9% of these tweets are in reply to another tweet."
   ]
  },
  {
   "cell_type": "markdown",
   "id": "1927b8ef",
   "metadata": {},
   "source": [
    "---\n",
    "###  reply_settings\n"
   ]
  },
  {
   "cell_type": "code",
   "execution_count": 32,
   "id": "e5b5a2d8",
   "metadata": {
    "scrolled": true
   },
   "outputs": [
    {
     "data": {
      "text/plain": [
       "everyone          191306\n",
       "following            461\n",
       "mentionedUsers       348\n",
       "Name: reply_settings, dtype: int64"
      ]
     },
     "execution_count": 32,
     "metadata": {},
     "output_type": "execute_result"
    }
   ],
   "source": [
    "tudf['reply_settings'].value_counts()"
   ]
  },
  {
   "cell_type": "markdown",
   "id": "6e12b6a1",
   "metadata": {},
   "source": [
    "### entities_tweet\n",
    "\n",
    "These were `entities` in the tweets data. Entities "
   ]
  },
  {
   "cell_type": "code",
   "execution_count": 33,
   "id": "395c3af1",
   "metadata": {},
   "outputs": [
    {
     "data": {
      "text/plain": [
       "tweet_id\n",
       "1521733018293084160    {'urls': [{'start': 54, 'end': 77, 'url': 'htt...\n",
       "1521733015738662913    {'urls': [{'start': 58, 'end': 81, 'url': 'htt...\n",
       "1521733011414257664                                                    0\n",
       "1521733010504445954                                                    0\n",
       "1521733001981444096    {'mentions': [{'start': 0, 'end': 12, 'usernam...\n",
       "                                             ...                        \n",
       "1520733413246144512    {'urls': [{'start': 118, 'end': 141, 'url': 'h...\n",
       "1520733412725870592    {'hashtags': [{'start': 0, 'end': 7, 'tag': 'W...\n",
       "1520733410947485702                                                    0\n",
       "1520733408607019008                                                    0\n",
       "1520733408237916161                                                    0\n",
       "Name: entities_tweet, Length: 192115, dtype: object"
      ]
     },
     "execution_count": 33,
     "metadata": {},
     "output_type": "execute_result"
    }
   ],
   "source": [
    "tudf['entities_tweet']"
   ]
  },
  {
   "cell_type": "code",
   "execution_count": 34,
   "id": "263ada6e",
   "metadata": {},
   "outputs": [
    {
     "ename": "JSONDecodeError",
     "evalue": "Expecting ',' delimiter: line 1 column 263 (char 262)",
     "output_type": "error",
     "traceback": [
      "\u001b[1;31m---------------------------------------------------------------------------\u001b[0m",
      "\u001b[1;31mJSONDecodeError\u001b[0m                           Traceback (most recent call last)",
      "\u001b[1;32m~\\AppData\\Local\\Temp/ipykernel_3288/1563149950.py\u001b[0m in \u001b[0;36m<module>\u001b[1;34m\u001b[0m\n\u001b[0;32m      1\u001b[0m \u001b[1;31m#what are the unique entities?\u001b[0m\u001b[1;33m\u001b[0m\u001b[1;33m\u001b[0m\u001b[0m\n\u001b[1;32m----> 2\u001b[1;33m [\n\u001b[0m\u001b[0;32m      3\u001b[0m     \u001b[0mjson\u001b[0m\u001b[1;33m.\u001b[0m\u001b[0mloads\u001b[0m\u001b[1;33m(\u001b[0m\u001b[0mentity\u001b[0m\u001b[1;33m.\u001b[0m\u001b[0mreplace\u001b[0m\u001b[1;33m(\u001b[0m\u001b[1;34m\"'\"\u001b[0m\u001b[1;33m,\u001b[0m \u001b[1;34m'\"'\u001b[0m\u001b[1;33m)\u001b[0m\u001b[1;33m)\u001b[0m\u001b[1;33m\u001b[0m\u001b[1;33m\u001b[0m\u001b[0m\n\u001b[0;32m      4\u001b[0m     \u001b[1;32mfor\u001b[0m \u001b[0mentity\u001b[0m \u001b[1;32min\u001b[0m \u001b[0mtudf\u001b[0m\u001b[1;33m[\u001b[0m\u001b[1;34m'entities_tweet'\u001b[0m\u001b[1;33m]\u001b[0m\u001b[1;33m\u001b[0m\u001b[1;33m\u001b[0m\u001b[0m\n\u001b[0;32m      5\u001b[0m     \u001b[1;32mif\u001b[0m \u001b[0mtype\u001b[0m\u001b[1;33m(\u001b[0m\u001b[0mentity\u001b[0m\u001b[1;33m)\u001b[0m \u001b[1;33m==\u001b[0m \u001b[0mstr\u001b[0m\u001b[1;33m\u001b[0m\u001b[1;33m\u001b[0m\u001b[0m\n",
      "\u001b[1;32m~\\AppData\\Local\\Temp/ipykernel_3288/1563149950.py\u001b[0m in \u001b[0;36m<listcomp>\u001b[1;34m(.0)\u001b[0m\n\u001b[0;32m      1\u001b[0m \u001b[1;31m#what are the unique entities?\u001b[0m\u001b[1;33m\u001b[0m\u001b[1;33m\u001b[0m\u001b[0m\n\u001b[0;32m      2\u001b[0m [\n\u001b[1;32m----> 3\u001b[1;33m     \u001b[0mjson\u001b[0m\u001b[1;33m.\u001b[0m\u001b[0mloads\u001b[0m\u001b[1;33m(\u001b[0m\u001b[0mentity\u001b[0m\u001b[1;33m.\u001b[0m\u001b[0mreplace\u001b[0m\u001b[1;33m(\u001b[0m\u001b[1;34m\"'\"\u001b[0m\u001b[1;33m,\u001b[0m \u001b[1;34m'\"'\u001b[0m\u001b[1;33m)\u001b[0m\u001b[1;33m)\u001b[0m\u001b[1;33m\u001b[0m\u001b[1;33m\u001b[0m\u001b[0m\n\u001b[0m\u001b[0;32m      4\u001b[0m     \u001b[1;32mfor\u001b[0m \u001b[0mentity\u001b[0m \u001b[1;32min\u001b[0m \u001b[0mtudf\u001b[0m\u001b[1;33m[\u001b[0m\u001b[1;34m'entities_tweet'\u001b[0m\u001b[1;33m]\u001b[0m\u001b[1;33m\u001b[0m\u001b[1;33m\u001b[0m\u001b[0m\n\u001b[0;32m      5\u001b[0m     \u001b[1;32mif\u001b[0m \u001b[0mtype\u001b[0m\u001b[1;33m(\u001b[0m\u001b[0mentity\u001b[0m\u001b[1;33m)\u001b[0m \u001b[1;33m==\u001b[0m \u001b[0mstr\u001b[0m\u001b[1;33m\u001b[0m\u001b[1;33m\u001b[0m\u001b[0m\n",
      "\u001b[1;32mC:\\ProgramData\\Anaconda3\\lib\\json\\__init__.py\u001b[0m in \u001b[0;36mloads\u001b[1;34m(s, cls, object_hook, parse_float, parse_int, parse_constant, object_pairs_hook, **kw)\u001b[0m\n\u001b[0;32m    344\u001b[0m             \u001b[0mparse_int\u001b[0m \u001b[1;32mis\u001b[0m \u001b[1;32mNone\u001b[0m \u001b[1;32mand\u001b[0m \u001b[0mparse_float\u001b[0m \u001b[1;32mis\u001b[0m \u001b[1;32mNone\u001b[0m \u001b[1;32mand\u001b[0m\u001b[1;33m\u001b[0m\u001b[1;33m\u001b[0m\u001b[0m\n\u001b[0;32m    345\u001b[0m             parse_constant is None and object_pairs_hook is None and not kw):\n\u001b[1;32m--> 346\u001b[1;33m         \u001b[1;32mreturn\u001b[0m \u001b[0m_default_decoder\u001b[0m\u001b[1;33m.\u001b[0m\u001b[0mdecode\u001b[0m\u001b[1;33m(\u001b[0m\u001b[0ms\u001b[0m\u001b[1;33m)\u001b[0m\u001b[1;33m\u001b[0m\u001b[1;33m\u001b[0m\u001b[0m\n\u001b[0m\u001b[0;32m    347\u001b[0m     \u001b[1;32mif\u001b[0m \u001b[0mcls\u001b[0m \u001b[1;32mis\u001b[0m \u001b[1;32mNone\u001b[0m\u001b[1;33m:\u001b[0m\u001b[1;33m\u001b[0m\u001b[1;33m\u001b[0m\u001b[0m\n\u001b[0;32m    348\u001b[0m         \u001b[0mcls\u001b[0m \u001b[1;33m=\u001b[0m \u001b[0mJSONDecoder\u001b[0m\u001b[1;33m\u001b[0m\u001b[1;33m\u001b[0m\u001b[0m\n",
      "\u001b[1;32mC:\\ProgramData\\Anaconda3\\lib\\json\\decoder.py\u001b[0m in \u001b[0;36mdecode\u001b[1;34m(self, s, _w)\u001b[0m\n\u001b[0;32m    335\u001b[0m \u001b[1;33m\u001b[0m\u001b[0m\n\u001b[0;32m    336\u001b[0m         \"\"\"\n\u001b[1;32m--> 337\u001b[1;33m         \u001b[0mobj\u001b[0m\u001b[1;33m,\u001b[0m \u001b[0mend\u001b[0m \u001b[1;33m=\u001b[0m \u001b[0mself\u001b[0m\u001b[1;33m.\u001b[0m\u001b[0mraw_decode\u001b[0m\u001b[1;33m(\u001b[0m\u001b[0ms\u001b[0m\u001b[1;33m,\u001b[0m \u001b[0midx\u001b[0m\u001b[1;33m=\u001b[0m\u001b[0m_w\u001b[0m\u001b[1;33m(\u001b[0m\u001b[0ms\u001b[0m\u001b[1;33m,\u001b[0m \u001b[1;36m0\u001b[0m\u001b[1;33m)\u001b[0m\u001b[1;33m.\u001b[0m\u001b[0mend\u001b[0m\u001b[1;33m(\u001b[0m\u001b[1;33m)\u001b[0m\u001b[1;33m)\u001b[0m\u001b[1;33m\u001b[0m\u001b[1;33m\u001b[0m\u001b[0m\n\u001b[0m\u001b[0;32m    338\u001b[0m         \u001b[0mend\u001b[0m \u001b[1;33m=\u001b[0m \u001b[0m_w\u001b[0m\u001b[1;33m(\u001b[0m\u001b[0ms\u001b[0m\u001b[1;33m,\u001b[0m \u001b[0mend\u001b[0m\u001b[1;33m)\u001b[0m\u001b[1;33m.\u001b[0m\u001b[0mend\u001b[0m\u001b[1;33m(\u001b[0m\u001b[1;33m)\u001b[0m\u001b[1;33m\u001b[0m\u001b[1;33m\u001b[0m\u001b[0m\n\u001b[0;32m    339\u001b[0m         \u001b[1;32mif\u001b[0m \u001b[0mend\u001b[0m \u001b[1;33m!=\u001b[0m \u001b[0mlen\u001b[0m\u001b[1;33m(\u001b[0m\u001b[0ms\u001b[0m\u001b[1;33m)\u001b[0m\u001b[1;33m:\u001b[0m\u001b[1;33m\u001b[0m\u001b[1;33m\u001b[0m\u001b[0m\n",
      "\u001b[1;32mC:\\ProgramData\\Anaconda3\\lib\\json\\decoder.py\u001b[0m in \u001b[0;36mraw_decode\u001b[1;34m(self, s, idx)\u001b[0m\n\u001b[0;32m    351\u001b[0m         \"\"\"\n\u001b[0;32m    352\u001b[0m         \u001b[1;32mtry\u001b[0m\u001b[1;33m:\u001b[0m\u001b[1;33m\u001b[0m\u001b[1;33m\u001b[0m\u001b[0m\n\u001b[1;32m--> 353\u001b[1;33m             \u001b[0mobj\u001b[0m\u001b[1;33m,\u001b[0m \u001b[0mend\u001b[0m \u001b[1;33m=\u001b[0m \u001b[0mself\u001b[0m\u001b[1;33m.\u001b[0m\u001b[0mscan_once\u001b[0m\u001b[1;33m(\u001b[0m\u001b[0ms\u001b[0m\u001b[1;33m,\u001b[0m \u001b[0midx\u001b[0m\u001b[1;33m)\u001b[0m\u001b[1;33m\u001b[0m\u001b[1;33m\u001b[0m\u001b[0m\n\u001b[0m\u001b[0;32m    354\u001b[0m         \u001b[1;32mexcept\u001b[0m \u001b[0mStopIteration\u001b[0m \u001b[1;32mas\u001b[0m \u001b[0merr\u001b[0m\u001b[1;33m:\u001b[0m\u001b[1;33m\u001b[0m\u001b[1;33m\u001b[0m\u001b[0m\n\u001b[0;32m    355\u001b[0m             \u001b[1;32mraise\u001b[0m \u001b[0mJSONDecodeError\u001b[0m\u001b[1;33m(\u001b[0m\u001b[1;34m\"Expecting value\"\u001b[0m\u001b[1;33m,\u001b[0m \u001b[0ms\u001b[0m\u001b[1;33m,\u001b[0m \u001b[0merr\u001b[0m\u001b[1;33m.\u001b[0m\u001b[0mvalue\u001b[0m\u001b[1;33m)\u001b[0m \u001b[1;32mfrom\u001b[0m \u001b[1;32mNone\u001b[0m\u001b[1;33m\u001b[0m\u001b[1;33m\u001b[0m\u001b[0m\n",
      "\u001b[1;31mJSONDecodeError\u001b[0m: Expecting ',' delimiter: line 1 column 263 (char 262)"
     ]
    }
   ],
   "source": [
    "#what are the unique entities?\n",
    "[\n",
    "    json.loads(entity.replace(\"'\", '\"'))\n",
    "    for entity in tudf['entities_tweet']\n",
    "    if type(entity) == str\n",
    "]"
   ]
  },
  {
   "cell_type": "code",
   "execution_count": null,
   "id": "c4fdd023",
   "metadata": {},
   "outputs": [],
   "source": [
    "json.loads(tudf.iloc[1]['entities_tweet'].replace(\"'\", '\"'))"
   ]
  },
  {
   "cell_type": "code",
   "execution_count": null,
   "id": "8f16433c",
   "metadata": {},
   "outputs": [],
   "source": [
    "ok =\"{'urls':[{'start': 58, 'end': 81, 'url': 'https://t.co/ifnVQsE6bO', 'expanded_url': 'https://wordle.danielfrg.com/ciencia/index.html', 'display_url': 'wordle.danielfrg.com/ciencia/index.…', 'images': [{'url': 'https://pbs.twimg.com/news_img/1521711979752136704/Qr2DllcV?format=jpg&name=orig', 'width': 1200, 'height': 630}, {'url': 'https://pbs.twimg.com/news_img/1521711979752136704/Qr2DllcV?format=jpg&name=150x150', 'width': 150, 'height': 150}], 'status': 200, 'title': 'Un juego de palabras diario', 'description': 'Adivina la palabra oculta en 6 intentos. Un nuevo puzzle cada día.', 'unwound_url': 'https://wordle.danielfrg.com/ciencia/index.html'}]}\""
   ]
  },
  {
   "cell_type": "code",
   "execution_count": null,
   "id": "f11f543e",
   "metadata": {},
   "outputs": [],
   "source": [
    "json.loads(ok.replace(\"'\", '\"'))"
   ]
  },
  {
   "cell_type": "markdown",
   "id": "28acb3d7",
   "metadata": {},
   "source": [
    "# Tweet Rates, time."
   ]
  },
  {
   "cell_type": "code",
   "execution_count": 22,
   "id": "9bfa3fce",
   "metadata": {},
   "outputs": [],
   "source": [
    "tudf['created_at'] = pd.to_datetime(tudf['created_at'])"
   ]
  },
  {
   "cell_type": "code",
   "execution_count": 40,
   "id": "398e5a94",
   "metadata": {},
   "outputs": [],
   "source": [
    "tudf.sort_values(by = 'created_at', inplace= True)"
   ]
  },
  {
   "cell_type": "code",
   "execution_count": 42,
   "id": "da362297",
   "metadata": {},
   "outputs": [],
   "source": [
    "tudf['wordle_tweet_number'] = range(len(tudf))"
   ]
  },
  {
   "cell_type": "code",
   "execution_count": 70,
   "id": "827c35c4",
   "metadata": {},
   "outputs": [],
   "source": [
    "tudf['ones'] = np.ones(len(tudf))"
   ]
  },
  {
   "cell_type": "code",
   "execution_count": 71,
   "id": "e06c1900",
   "metadata": {},
   "outputs": [
    {
     "data": {
      "text/plain": [
       "21757"
      ]
     },
     "execution_count": 71,
     "metadata": {},
     "output_type": "execute_result"
    }
   ],
   "source": [
    "time_diff = tudf['created_at'].max() -  tudf['created_at'].min()\n",
    "time_diff.seconds"
   ]
  },
  {
   "cell_type": "code",
   "execution_count": 82,
   "id": "445fde45",
   "metadata": {},
   "outputs": [],
   "source": [
    "tudf['wordle_tweet_rate'] = tudf['ones'][:-1]/list(map(lambda time: time.seconds,np.diff(tudf['created_at'])))"
   ]
  },
  {
   "cell_type": "code",
   "execution_count": 84,
   "id": "524c7c91",
   "metadata": {
    "scrolled": true
   },
   "outputs": [
    {
     "data": {
      "text/plain": [
       "[<matplotlib.lines.Line2D at 0x21a6777e760>]"
      ]
     },
     "execution_count": 84,
     "metadata": {},
     "output_type": "execute_result"
    },
    {
     "data": {
      "image/png": "[encoded data removed]",
      "text/plain": [
       "<Figure size 864x432 with 1 Axes>"
      ]
     },
     "metadata": {},
     "output_type": "display_data"
    }
   ],
   "source": [
    "accumulated_tweets = np.linspace(0,len(tudf), len(tudf))\n",
    "tweet_rate = [\n",
    "    1/timespan.seconds\n",
    "    for timespan in np.diff(tudf['created_at'].sort_values(ascending = True))\n",
    "    if timespan.seconds != 0\n",
    "]\n",
    "\n",
    "# plt.figure(figsize = (12,6))\n",
    "# plt.plot(tudf['created_at'].sort_values(ascending = True)[:-1], tweet_rate)\n",
    "# # k= 2e7\n",
    "# # plt.ylim(-k,k)\n",
    "# plt.show()\n",
    "\n",
    "\n",
    "plt.figure(figsize = (12,6))\n",
    "plt.plot(tudf['created_at'], tudf['wordle_tweet_rate'])\n",
    "plt.show()\n",
    "plt.plot(tudf['created_at'], tudf['ones'] - tudf['wordle_tweet_rate'])"
   ]
  },
  {
   "cell_type": "code",
   "execution_count": 102,
   "id": "0ac59788",
   "metadata": {
    "scrolled": false
   },
   "outputs": [
    {
     "data": {
      "text/plain": [
       "(0.0, 25.0)"
      ]
     },
     "execution_count": 102,
     "metadata": {},
     "output_type": "execute_result"
    },
    {
     "data": {
      "image/png": "[encoded data removed]",
      "text/plain": [
       "<Figure size 864x432 with 1 Axes>"
      ]
     },
     "metadata": {},
     "output_type": "display_data"
    }
   ],
   "source": [
    "plt.figure(figsize = (12,6))\n",
    "for fivepeeem in tudf[tudf['created_at'].apply(lambda x: x.hour == 21)]['created_at']:\n",
    "    plt.axvline(fivepeeem)\n",
    "for lunchtime in tudf[tudf['created_at'].apply(lambda x: x.hour == 16)]['created_at']:\n",
    "    plt.axvline(lunchtime, color = 'orange')    \n",
    "plt.plot(tudf['created_at'][:-1],np.diff(tudf['created_at'].apply(lambda x: x.second)) )\n",
    "plt.ylim(0,25)"
   ]
  },
  {
   "cell_type": "code",
   "execution_count": 142,
   "id": "542c7025",
   "metadata": {},
   "outputs": [],
   "source": [
    "import datetime as dt"
   ]
  },
  {
   "cell_type": "code",
   "execution_count": 149,
   "id": "648b91eb",
   "metadata": {},
   "outputs": [],
   "source": [
    "tudf['time_since_last_tweet'] = tudf['created_at'].diff().dt.total_seconds()"
   ]
  },
  {
   "cell_type": "code",
   "execution_count": 150,
   "id": "f66daf80",
   "metadata": {
    "scrolled": true
   },
   "outputs": [
    {
     "data": {
      "text/plain": [
       "tweet_id\n",
       "1520733408237916161    NaN\n",
       "1520733408607019008    0.0\n",
       "1520733410947485702    0.0\n",
       "1520733414999138310    1.0\n",
       "1520733412725870592    0.0\n",
       "                      ... \n",
       "1521911808176451586    1.0\n",
       "1521911810563190785    1.0\n",
       "1521911819077505026    2.0\n",
       "1521911830817521664    2.0\n",
       "1521911829244440577    0.0\n",
       "Name: time_since_last_tweet, Length: 192115, dtype: float64"
      ]
     },
     "execution_count": 150,
     "metadata": {},
     "output_type": "execute_result"
    }
   ],
   "source": [
    "tudf['time_since_last_tweet']"
   ]
  },
  {
   "cell_type": "code",
   "execution_count": 154,
   "id": "3ab39470",
   "metadata": {
    "scrolled": false
   },
   "outputs": [
    {
     "data": {
      "text/plain": [
       "(0.0, 25.0)"
      ]
     },
     "execution_count": 154,
     "metadata": {},
     "output_type": "execute_result"
    },
    {
     "data": {
      "image/png": "[encoded data removed]",
      "text/plain": [
       "<Figure size 864x432 with 1 Axes>"
      ]
     },
     "metadata": {},
     "output_type": "display_data"
    }
   ],
   "source": [
    "plt.figure(figsize = (12,6))\n",
    "#make a line at UTC = 9pm, which is 6pm EDT.\n",
    "for fivepeeem in tudf[tudf['created_at'].apply(lambda x: x.hour == 21)]['created_at']:\n",
    "    plt.axvline(fivepeeem)\n",
    "#make a line at UTC = 4pm, which is noon EDT.\n",
    "for lunchtime in tudf[tudf['created_at'].apply(lambda x: x.hour == 16)]['created_at']:\n",
    "    plt.axvline(lunchtime, color = 'orange')    \n",
    "plt.plot(tudf['created_at'],tudf['time_since_last_tweet'] )\n",
    "plt.ylim(0,25)"
   ]
  },
  {
   "cell_type": "code",
   "execution_count": 161,
   "id": "f636a210",
   "metadata": {},
   "outputs": [],
   "source": [
    "tudf['time_since_last_tweet_mean60'] = tudf['time_since_last_tweet'].rolling(60).mean() "
   ]
  },
  {
   "cell_type": "code",
   "execution_count": 160,
   "id": "7430a3f6",
   "metadata": {},
   "outputs": [
    {
     "data": {
      "text/plain": [
       "Text(0, 0.5, 'average wait time (s)')"
      ]
     },
     "execution_count": 160,
     "metadata": {},
     "output_type": "execute_result"
    },
    {
     "data": {
      "image/png": "[encoded data removed]",
      "text/plain": [
       "<Figure size 864x432 with 1 Axes>"
      ]
     },
     "metadata": {},
     "output_type": "display_data"
    }
   ],
   "source": [
    "#do the same with rolling averages.\n",
    "plt.figure(figsize = (12,6))\n",
    "#make a line at UTC = 9pm, which is 6pm EDT.\n",
    "for fivepeeem in tudf[tudf['created_at'].apply(lambda x: x.hour == 21)]['created_at']:\n",
    "    plt.axvline(fivepeeem)\n",
    "#make a line at UTC = 4pm, which is noon EDT.\n",
    "for lunchtime in tudf[tudf['created_at'].apply(lambda x: x.hour == 16)]['created_at']:\n",
    "    plt.axvline(lunchtime, color = 'orange')    \n",
    "plt.plot(tudf['created_at'],)\n",
    "plt.ylim(0,5)\n",
    "plt.title(\"time since last tweet (rolling average --- 60 tweets)\")\n",
    "plt.xlabel(\"date\")\n",
    "plt.ylabel(\"average wait time (s)\")"
   ]
  },
  {
   "cell_type": "markdown",
   "id": "976a84dd",
   "metadata": {},
   "source": [
    "# making the time series regular\n",
    "\n",
    "The time data is irregular. Follow [this stack overflow](https://stackoverflow.com/questions/25234941/python-regularise-irregular-time-series-with-linear-interpolation) answer to use `traces` to make a regular time series.\n",
    "\n",
    "> You can do this with traces. First, create a TimeSeries with your irregular measurements like you would a dictionary:\n",
    "```python\n",
    "    ts = traces.TimeSeries([\n",
    "    (datetime(1992, 8, 27, 7, 46, 48), 28.0),\n",
    "    (datetime(1992, 8, 27, 8, 0, 48), 28.2),\n",
    "    ...\n",
    "    (datetime(1992, 8, 27, 9, 3, 48), 30.0),\n",
    "])\n",
    "```\n",
    "\n",
    "Then regularize using the sample method:\n",
    "\n",
    "```python\n",
    "    ts.sample(\n",
    "    sampling_period=timedelta(minutes=15),\n",
    "    start=datetime(1992, 8, 27, 8),\n",
    "    end=datetime(1992, 8, 27, 9),\n",
    "    interpolate='linear',\n",
    "```\n",
    "> This results in the following regularized version, where the gray dots are the original data and the orange is the regularized version with linear interpolation."
   ]
  },
  {
   "cell_type": "code",
   "execution_count": 167,
   "id": "5808362f",
   "metadata": {
    "scrolled": true
   },
   "outputs": [
    {
     "name": "stdout",
     "output_type": "stream",
     "text": [
      "Collecting traces\n",
      "  Downloading traces-0.6.0-py2.py3-none-any.whl (18 kB)\n",
      "Collecting infinity\n",
      "  Downloading infinity-1.5.tar.gz (5.4 kB)\n"
     ]
    },
    {
     "name": "stderr",
     "output_type": "stream",
     "text": [
      "WARNING: Ignoring invalid distribution -ackaging (c:\\programdata\\anaconda3\\lib\\site-packages)\n",
      "WARNING: Ignoring invalid distribution -ackaging (c:\\programdata\\anaconda3\\lib\\site-packages)\n",
      "WARNING: Ignoring invalid distribution -ackaging (c:\\programdata\\anaconda3\\lib\\site-packages)\n",
      "WARNING: Ignoring invalid distribution -ackaging (c:\\programdata\\anaconda3\\lib\\site-packages)\n",
      "WARNING: Ignoring invalid distribution -ackaging (c:\\programdata\\anaconda3\\lib\\site-packages)\n",
      "WARNING: Ignoring invalid distribution -ackaging (c:\\programdata\\anaconda3\\lib\\site-packages)\n",
      "WARNING: Ignoring invalid distribution -ackaging (c:\\programdata\\anaconda3\\lib\\site-packages)\n",
      "WARNING: Ignoring invalid distribution -ackaging (c:\\programdata\\anaconda3\\lib\\site-packages)\n"
     ]
    },
    {
     "name": "stdout",
     "output_type": "stream",
     "text": [
      "Requirement already satisfied: python-dateutil in c:\\programdata\\anaconda3\\lib\\site-packages (from traces) (2.8.2)\n",
      "Requirement already satisfied: sortedcontainers in c:\\programdata\\anaconda3\\lib\\site-packages (from traces) (2.4.0)\n",
      "Requirement already satisfied: six>=1.5 in c:\\programdata\\anaconda3\\lib\\site-packages (from python-dateutil->traces) (1.16.0)\n",
      "Building wheels for collected packages: infinity\n",
      "  Building wheel for infinity (setup.py): started\n",
      "  Building wheel for infinity (setup.py): finished with status 'done'\n",
      "  Created wheel for infinity: filename=infinity-1.5-py3-none-any.whl size=3095 sha256=070325350b0c9a9d9a2d802960c4c68e6ebf41dd1a24c4531e2697f74b364659\n",
      "  Stored in directory: c:\\users\\david\\appdata\\local\\pip\\cache\\wheels\\1e\\88\\76\\5045a7c50b29a2e55ee8a73a8c8d0215f84ee54e9355492d82\n",
      "Successfully built infinity\n",
      "Installing collected packages: infinity, traces\n",
      "Successfully installed infinity-1.5 traces-0.6.0\n"
     ]
    }
   ],
   "source": [
    "# Install a pip package in the current Jupyter kernel\n",
    "import sys\n",
    "!{sys.executable} -m pip install traces"
   ]
  },
  {
   "cell_type": "markdown",
   "id": "9438bf52",
   "metadata": {},
   "source": [
    "[traces is pretty cool](https://traces.readthedocs.io/en/latest/#:~:text=The%20main%20object%20in%20traces,%3A45%3A56am%2C%20etc.&text=What%20if%20you%20want%20to,one%20of%20the%20measurement%20times.). It makes TimeSeries objects that interpolate between the data points by default. You can put any datetime in."
   ]
  },
  {
   "cell_type": "code",
   "execution_count": 191,
   "id": "e24c32e9",
   "metadata": {},
   "outputs": [
    {
     "data": {
      "text/plain": [
       "tweet_id\n",
       "1520733408237916161   2022-05-01 11:54:33+00:00\n",
       "1520733408607019008   2022-05-01 11:54:33+00:00\n",
       "1520733410947485702   2022-05-01 11:54:33+00:00\n",
       "1520733414999138310   2022-05-01 11:54:34+00:00\n",
       "1520733412725870592   2022-05-01 11:54:34+00:00\n",
       "                                 ...           \n",
       "1521911808176451586   2022-05-04 17:57:05+00:00\n",
       "1521911810563190785   2022-05-04 17:57:06+00:00\n",
       "1521911819077505026   2022-05-04 17:57:08+00:00\n",
       "1521911830817521664   2022-05-04 17:57:10+00:00\n",
       "1521911829244440577   2022-05-04 17:57:10+00:00\n",
       "Name: created_at, Length: 192115, dtype: datetime64[ns, UTC]"
      ]
     },
     "execution_count": 191,
     "metadata": {},
     "output_type": "execute_result"
    }
   ],
   "source": [
    "tudf['created_at']"
   ]
  },
  {
   "cell_type": "code",
   "execution_count": 200,
   "id": "441de6c4",
   "metadata": {},
   "outputs": [],
   "source": [
    "import traces\n",
    "\n",
    "from datetime import datetime\n",
    "\n",
    "from dateutil import tz"
   ]
  },
  {
   "cell_type": "code",
   "execution_count": 201,
   "id": "7be9f503",
   "metadata": {},
   "outputs": [
    {
     "data": {
      "text/plain": [
       "Timestamp('2022-05-01 11:54:33+0000', tz='UTC')"
      ]
     },
     "execution_count": 201,
     "metadata": {},
     "output_type": "execute_result"
    }
   ],
   "source": [
    "#make a time series\n",
    "ts = traces.TimeSeries(\n",
    "        zip( tudf['created_at'],\n",
    "            tudf['time_since_last_tweet_mean60']\n",
    "        )\n",
    "    )\n",
    "\n",
    "tudf.iloc[0]['created_at']"
   ]
  },
  {
   "cell_type": "code",
   "execution_count": 207,
   "id": "134347af",
   "metadata": {
    "scrolled": true
   },
   "outputs": [
    {
     "data": {
      "text/plain": [
       "2.85"
      ]
     },
     "execution_count": 207,
     "metadata": {},
     "output_type": "execute_result"
    }
   ],
   "source": [
    "#Give the time series tz awareness when making values.\n",
    "\n",
    "UTC = tz.gettz('UTC')\n",
    "ts[datetime(2042, 2, 1,  6,  0,  0, tzinfo = UTC)]"
   ]
  },
  {
   "cell_type": "code",
   "execution_count": 218,
   "id": "7b8ecf08",
   "metadata": {
    "scrolled": true
   },
   "outputs": [
    {
     "data": {
      "text/plain": [
       "1.5333333333333334"
      ]
     },
     "execution_count": 218,
     "metadata": {},
     "output_type": "execute_result"
    }
   ],
   "source": [
    "#make a histogram of the time series.\n",
    "histogram = ts.distribution(\n",
    "start=tudf['created_at'].min(),\n",
    "end=tudf['created_at'].max()\n",
    ")\n",
    "histogram.median()"
   ]
  },
  {
   "cell_type": "code",
   "execution_count": 219,
   "id": "3451c779",
   "metadata": {},
   "outputs": [
    {
     "data": {
      "text/plain": [
       "(nan, nan, 3.9, nan)"
      ]
     },
     "execution_count": 219,
     "metadata": {},
     "output_type": "execute_result"
    }
   ],
   "source": [
    "histogram.standard_deviation(), histogram.mean(), histogram.max(), histogram.min()"
   ]
  },
  {
   "cell_type": "markdown",
   "id": "3417f2fa",
   "metadata": {},
   "source": [
    "\n",
    "## seasonal decomposing\n",
    "\n",
    "I may not be able to do this without some conversion between the `traces` timeseries and however statsmodels works"
   ]
  },
  {
   "cell_type": "code",
   "execution_count": 183,
   "id": "e23c2344",
   "metadata": {},
   "outputs": [
    {
     "ename": "TypeError",
     "evalue": "'<' not supported between instances of 'int' and 'Timestamp'",
     "output_type": "error",
     "traceback": [
      "\u001b[1;31m---------------------------------------------------------------------------\u001b[0m",
      "\u001b[1;31mTypeError\u001b[0m                                 Traceback (most recent call last)",
      "\u001b[1;32m~\\AppData\\Local\\Temp/ipykernel_11808/4108791374.py\u001b[0m in \u001b[0;36m<module>\u001b[1;34m\u001b[0m\n\u001b[1;32m----> 1\u001b[1;33m \u001b[0mts\u001b[0m\u001b[1;33m[\u001b[0m\u001b[1;36m1\u001b[0m\u001b[1;33m]\u001b[0m\u001b[1;33m\u001b[0m\u001b[1;33m\u001b[0m\u001b[0m\n\u001b[0m",
      "\u001b[1;32mC:\\ProgramData\\Anaconda3\\lib\\site-packages\\traces\\timeseries.py\u001b[0m in \u001b[0;36m__getitem__\u001b[1;34m(self, time)\u001b[0m\n\u001b[0;32m    920\u001b[0m             \u001b[1;32mraise\u001b[0m \u001b[0mValueError\u001b[0m\u001b[1;33m(\u001b[0m\u001b[1;34m\"Syntax a[start:end] not allowed\"\u001b[0m\u001b[1;33m)\u001b[0m\u001b[1;33m\u001b[0m\u001b[1;33m\u001b[0m\u001b[0m\n\u001b[0;32m    921\u001b[0m         \u001b[1;32melse\u001b[0m\u001b[1;33m:\u001b[0m\u001b[1;33m\u001b[0m\u001b[1;33m\u001b[0m\u001b[0m\n\u001b[1;32m--> 922\u001b[1;33m             \u001b[1;32mreturn\u001b[0m \u001b[0mself\u001b[0m\u001b[1;33m.\u001b[0m\u001b[0mget\u001b[0m\u001b[1;33m(\u001b[0m\u001b[0mtime\u001b[0m\u001b[1;33m)\u001b[0m\u001b[1;33m\u001b[0m\u001b[1;33m\u001b[0m\u001b[0m\n\u001b[0m\u001b[0;32m    923\u001b[0m \u001b[1;33m\u001b[0m\u001b[0m\n\u001b[0;32m    924\u001b[0m     \u001b[1;32mdef\u001b[0m \u001b[0m__delitem__\u001b[0m\u001b[1;33m(\u001b[0m\u001b[0mself\u001b[0m\u001b[1;33m,\u001b[0m \u001b[0mtime\u001b[0m\u001b[1;33m)\u001b[0m\u001b[1;33m:\u001b[0m\u001b[1;33m\u001b[0m\u001b[1;33m\u001b[0m\u001b[0m\n",
      "\u001b[1;32mC:\\ProgramData\\Anaconda3\\lib\\site-packages\\traces\\timeseries.py\u001b[0m in \u001b[0;36mget\u001b[1;34m(self, time, interpolate)\u001b[0m\n\u001b[0;32m    132\u001b[0m             \u001b[1;32mraise\u001b[0m \u001b[0mValueError\u001b[0m\u001b[1;33m(\u001b[0m\u001b[0mmsg\u001b[0m\u001b[1;33m)\u001b[0m\u001b[1;33m\u001b[0m\u001b[1;33m\u001b[0m\u001b[0m\n\u001b[0;32m    133\u001b[0m         \u001b[1;32melse\u001b[0m\u001b[1;33m:\u001b[0m\u001b[1;33m\u001b[0m\u001b[1;33m\u001b[0m\u001b[0m\n\u001b[1;32m--> 134\u001b[1;33m             \u001b[1;32mreturn\u001b[0m \u001b[0mgetter\u001b[0m\u001b[1;33m(\u001b[0m\u001b[0mtime\u001b[0m\u001b[1;33m)\u001b[0m\u001b[1;33m\u001b[0m\u001b[1;33m\u001b[0m\u001b[0m\n\u001b[0m\u001b[0;32m    135\u001b[0m \u001b[1;33m\u001b[0m\u001b[0m\n\u001b[0;32m    136\u001b[0m     \u001b[1;32mdef\u001b[0m \u001b[0mget_item_by_index\u001b[0m\u001b[1;33m(\u001b[0m\u001b[0mself\u001b[0m\u001b[1;33m,\u001b[0m \u001b[0mindex\u001b[0m\u001b[1;33m)\u001b[0m\u001b[1;33m:\u001b[0m\u001b[1;33m\u001b[0m\u001b[1;33m\u001b[0m\u001b[0m\n",
      "\u001b[1;32mC:\\ProgramData\\Anaconda3\\lib\\site-packages\\traces\\timeseries.py\u001b[0m in \u001b[0;36m_get_previous\u001b[1;34m(self, time)\u001b[0m\n\u001b[0;32m    104\u001b[0m \u001b[1;33m\u001b[0m\u001b[0m\n\u001b[0;32m    105\u001b[0m     \u001b[1;32mdef\u001b[0m \u001b[0m_get_previous\u001b[0m\u001b[1;33m(\u001b[0m\u001b[0mself\u001b[0m\u001b[1;33m,\u001b[0m \u001b[0mtime\u001b[0m\u001b[1;33m)\u001b[0m\u001b[1;33m:\u001b[0m\u001b[1;33m\u001b[0m\u001b[1;33m\u001b[0m\u001b[0m\n\u001b[1;32m--> 106\u001b[1;33m         \u001b[0mright_index\u001b[0m \u001b[1;33m=\u001b[0m \u001b[0mself\u001b[0m\u001b[1;33m.\u001b[0m\u001b[0m_d\u001b[0m\u001b[1;33m.\u001b[0m\u001b[0mbisect_right\u001b[0m\u001b[1;33m(\u001b[0m\u001b[0mtime\u001b[0m\u001b[1;33m)\u001b[0m\u001b[1;33m\u001b[0m\u001b[1;33m\u001b[0m\u001b[0m\n\u001b[0m\u001b[0;32m    107\u001b[0m         \u001b[0mleft_index\u001b[0m \u001b[1;33m=\u001b[0m \u001b[0mright_index\u001b[0m \u001b[1;33m-\u001b[0m \u001b[1;36m1\u001b[0m\u001b[1;33m\u001b[0m\u001b[1;33m\u001b[0m\u001b[0m\n\u001b[0;32m    108\u001b[0m         \u001b[1;32mif\u001b[0m \u001b[0mright_index\u001b[0m \u001b[1;33m>\u001b[0m \u001b[1;36m0\u001b[0m\u001b[1;33m:\u001b[0m\u001b[1;33m\u001b[0m\u001b[1;33m\u001b[0m\u001b[0m\n",
      "\u001b[1;32mC:\\ProgramData\\Anaconda3\\lib\\site-packages\\sortedcontainers\\sortedlist.py\u001b[0m in \u001b[0;36mbisect_right\u001b[1;34m(self, value)\u001b[0m\n\u001b[0;32m   1219\u001b[0m             \u001b[1;32mreturn\u001b[0m \u001b[1;36m0\u001b[0m\u001b[1;33m\u001b[0m\u001b[1;33m\u001b[0m\u001b[0m\n\u001b[0;32m   1220\u001b[0m \u001b[1;33m\u001b[0m\u001b[0m\n\u001b[1;32m-> 1221\u001b[1;33m         \u001b[0mpos\u001b[0m \u001b[1;33m=\u001b[0m \u001b[0mbisect_right\u001b[0m\u001b[1;33m(\u001b[0m\u001b[0m_maxes\u001b[0m\u001b[1;33m,\u001b[0m \u001b[0mvalue\u001b[0m\u001b[1;33m)\u001b[0m\u001b[1;33m\u001b[0m\u001b[1;33m\u001b[0m\u001b[0m\n\u001b[0m\u001b[0;32m   1222\u001b[0m \u001b[1;33m\u001b[0m\u001b[0m\n\u001b[0;32m   1223\u001b[0m         \u001b[1;32mif\u001b[0m \u001b[0mpos\u001b[0m \u001b[1;33m==\u001b[0m \u001b[0mlen\u001b[0m\u001b[1;33m(\u001b[0m\u001b[0m_maxes\u001b[0m\u001b[1;33m)\u001b[0m\u001b[1;33m:\u001b[0m\u001b[1;33m\u001b[0m\u001b[1;33m\u001b[0m\u001b[0m\n",
      "\u001b[1;31mTypeError\u001b[0m: '<' not supported between instances of 'int' and 'Timestamp'"
     ]
    }
   ],
   "source": [
    "ts[1]"
   ]
  },
  {
   "cell_type": "code",
   "execution_count": 173,
   "id": "55c34bce",
   "metadata": {},
   "outputs": [
    {
     "ename": "TypeError",
     "evalue": "float() argument must be a string or a number, not 'Timestamp'",
     "output_type": "error",
     "traceback": [
      "\u001b[1;31m---------------------------------------------------------------------------\u001b[0m",
      "\u001b[1;31mTypeError\u001b[0m                                 Traceback (most recent call last)",
      "\u001b[1;32m~\\AppData\\Local\\Temp/ipykernel_11808/1471018536.py\u001b[0m in \u001b[0;36m<module>\u001b[1;34m\u001b[0m\n\u001b[0;32m      1\u001b[0m \u001b[1;32mfrom\u001b[0m \u001b[0mstatsmodels\u001b[0m\u001b[1;33m.\u001b[0m\u001b[0mtsa\u001b[0m\u001b[1;33m.\u001b[0m\u001b[0mseasonal\u001b[0m \u001b[1;32mimport\u001b[0m \u001b[0mseasonal_decompose\u001b[0m\u001b[1;33m\u001b[0m\u001b[1;33m\u001b[0m\u001b[0m\n\u001b[0;32m      2\u001b[0m \u001b[1;33m\u001b[0m\u001b[0m\n\u001b[1;32m----> 3\u001b[1;33m \u001b[0mdecomp\u001b[0m \u001b[1;33m=\u001b[0m \u001b[0mseasonal_decompose\u001b[0m\u001b[1;33m(\u001b[0m\u001b[0mts\u001b[0m\u001b[1;33m)\u001b[0m\u001b[1;33m\u001b[0m\u001b[1;33m\u001b[0m\u001b[0m\n\u001b[0m\u001b[0;32m      4\u001b[0m \u001b[1;33m\u001b[0m\u001b[0m\n\u001b[0;32m      5\u001b[0m \u001b[0mplt\u001b[0m\u001b[1;33m.\u001b[0m\u001b[0mrc\u001b[0m\u001b[1;33m(\u001b[0m\u001b[1;34m'figure'\u001b[0m\u001b[1;33m,\u001b[0m \u001b[0mfigsize\u001b[0m\u001b[1;33m(\u001b[0m\u001b[1;36m12\u001b[0m\u001b[1;33m,\u001b[0m\u001b[1;36m6\u001b[0m\u001b[1;33m)\u001b[0m\u001b[1;33m)\u001b[0m\u001b[1;33m\u001b[0m\u001b[1;33m\u001b[0m\u001b[0m\n",
      "\u001b[1;32mC:\\ProgramData\\Anaconda3\\lib\\site-packages\\pandas\\util\\_decorators.py\u001b[0m in \u001b[0;36mwrapper\u001b[1;34m(*args, **kwargs)\u001b[0m\n\u001b[0;32m    205\u001b[0m                 \u001b[1;32melse\u001b[0m\u001b[1;33m:\u001b[0m\u001b[1;33m\u001b[0m\u001b[1;33m\u001b[0m\u001b[0m\n\u001b[0;32m    206\u001b[0m                     \u001b[0mkwargs\u001b[0m\u001b[1;33m[\u001b[0m\u001b[0mnew_arg_name\u001b[0m\u001b[1;33m]\u001b[0m \u001b[1;33m=\u001b[0m \u001b[0mnew_arg_value\u001b[0m\u001b[1;33m\u001b[0m\u001b[1;33m\u001b[0m\u001b[0m\n\u001b[1;32m--> 207\u001b[1;33m             \u001b[1;32mreturn\u001b[0m \u001b[0mfunc\u001b[0m\u001b[1;33m(\u001b[0m\u001b[1;33m*\u001b[0m\u001b[0margs\u001b[0m\u001b[1;33m,\u001b[0m \u001b[1;33m**\u001b[0m\u001b[0mkwargs\u001b[0m\u001b[1;33m)\u001b[0m\u001b[1;33m\u001b[0m\u001b[1;33m\u001b[0m\u001b[0m\n\u001b[0m\u001b[0;32m    208\u001b[0m \u001b[1;33m\u001b[0m\u001b[0m\n\u001b[0;32m    209\u001b[0m         \u001b[1;32mreturn\u001b[0m \u001b[0mcast\u001b[0m\u001b[1;33m(\u001b[0m\u001b[0mF\u001b[0m\u001b[1;33m,\u001b[0m \u001b[0mwrapper\u001b[0m\u001b[1;33m)\u001b[0m\u001b[1;33m\u001b[0m\u001b[1;33m\u001b[0m\u001b[0m\n",
      "\u001b[1;32mC:\\ProgramData\\Anaconda3\\lib\\site-packages\\statsmodels\\tsa\\seasonal.py\u001b[0m in \u001b[0;36mseasonal_decompose\u001b[1;34m(x, model, filt, period, two_sided, extrapolate_trend)\u001b[0m\n\u001b[0;32m    126\u001b[0m         \u001b[0mpfreq\u001b[0m \u001b[1;33m=\u001b[0m \u001b[0mgetattr\u001b[0m\u001b[1;33m(\u001b[0m\u001b[0mgetattr\u001b[0m\u001b[1;33m(\u001b[0m\u001b[0mx\u001b[0m\u001b[1;33m,\u001b[0m \u001b[1;34m'index'\u001b[0m\u001b[1;33m,\u001b[0m \u001b[1;32mNone\u001b[0m\u001b[1;33m)\u001b[0m\u001b[1;33m,\u001b[0m \u001b[1;34m'inferred_freq'\u001b[0m\u001b[1;33m,\u001b[0m \u001b[1;32mNone\u001b[0m\u001b[1;33m)\u001b[0m\u001b[1;33m\u001b[0m\u001b[1;33m\u001b[0m\u001b[0m\n\u001b[0;32m    127\u001b[0m \u001b[1;33m\u001b[0m\u001b[0m\n\u001b[1;32m--> 128\u001b[1;33m     \u001b[0mx\u001b[0m \u001b[1;33m=\u001b[0m \u001b[0marray_like\u001b[0m\u001b[1;33m(\u001b[0m\u001b[0mx\u001b[0m\u001b[1;33m,\u001b[0m \u001b[1;34m'x'\u001b[0m\u001b[1;33m,\u001b[0m \u001b[0mmaxdim\u001b[0m\u001b[1;33m=\u001b[0m\u001b[1;36m2\u001b[0m\u001b[1;33m)\u001b[0m\u001b[1;33m\u001b[0m\u001b[1;33m\u001b[0m\u001b[0m\n\u001b[0m\u001b[0;32m    129\u001b[0m     \u001b[0mnobs\u001b[0m \u001b[1;33m=\u001b[0m \u001b[0mlen\u001b[0m\u001b[1;33m(\u001b[0m\u001b[0mx\u001b[0m\u001b[1;33m)\u001b[0m\u001b[1;33m\u001b[0m\u001b[1;33m\u001b[0m\u001b[0m\n\u001b[0;32m    130\u001b[0m \u001b[1;33m\u001b[0m\u001b[0m\n",
      "\u001b[1;32mC:\\ProgramData\\Anaconda3\\lib\\site-packages\\statsmodels\\tools\\validation\\validation.py\u001b[0m in \u001b[0;36marray_like\u001b[1;34m(obj, name, dtype, ndim, maxdim, shape, order, contiguous, optional)\u001b[0m\n\u001b[0;32m    133\u001b[0m     \u001b[1;32mif\u001b[0m \u001b[0moptional\u001b[0m \u001b[1;32mand\u001b[0m \u001b[0mobj\u001b[0m \u001b[1;32mis\u001b[0m \u001b[1;32mNone\u001b[0m\u001b[1;33m:\u001b[0m\u001b[1;33m\u001b[0m\u001b[1;33m\u001b[0m\u001b[0m\n\u001b[0;32m    134\u001b[0m         \u001b[1;32mreturn\u001b[0m \u001b[1;32mNone\u001b[0m\u001b[1;33m\u001b[0m\u001b[1;33m\u001b[0m\u001b[0m\n\u001b[1;32m--> 135\u001b[1;33m     \u001b[0marr\u001b[0m \u001b[1;33m=\u001b[0m \u001b[0mnp\u001b[0m\u001b[1;33m.\u001b[0m\u001b[0masarray\u001b[0m\u001b[1;33m(\u001b[0m\u001b[0mobj\u001b[0m\u001b[1;33m,\u001b[0m \u001b[0mdtype\u001b[0m\u001b[1;33m=\u001b[0m\u001b[0mdtype\u001b[0m\u001b[1;33m,\u001b[0m \u001b[0morder\u001b[0m\u001b[1;33m=\u001b[0m\u001b[0morder\u001b[0m\u001b[1;33m)\u001b[0m\u001b[1;33m\u001b[0m\u001b[1;33m\u001b[0m\u001b[0m\n\u001b[0m\u001b[0;32m    136\u001b[0m     \u001b[1;32mif\u001b[0m \u001b[0mmaxdim\u001b[0m \u001b[1;32mis\u001b[0m \u001b[1;32mnot\u001b[0m \u001b[1;32mNone\u001b[0m\u001b[1;33m:\u001b[0m\u001b[1;33m\u001b[0m\u001b[1;33m\u001b[0m\u001b[0m\n\u001b[0;32m    137\u001b[0m         \u001b[1;32mif\u001b[0m \u001b[0marr\u001b[0m\u001b[1;33m.\u001b[0m\u001b[0mndim\u001b[0m \u001b[1;33m>\u001b[0m \u001b[0mmaxdim\u001b[0m\u001b[1;33m:\u001b[0m\u001b[1;33m\u001b[0m\u001b[1;33m\u001b[0m\u001b[0m\n",
      "\u001b[1;32mC:\\ProgramData\\Anaconda3\\lib\\site-packages\\numpy\\core\\_asarray.py\u001b[0m in \u001b[0;36masarray\u001b[1;34m(a, dtype, order, like)\u001b[0m\n\u001b[0;32m    100\u001b[0m         \u001b[1;32mreturn\u001b[0m \u001b[0m_asarray_with_like\u001b[0m\u001b[1;33m(\u001b[0m\u001b[0ma\u001b[0m\u001b[1;33m,\u001b[0m \u001b[0mdtype\u001b[0m\u001b[1;33m=\u001b[0m\u001b[0mdtype\u001b[0m\u001b[1;33m,\u001b[0m \u001b[0morder\u001b[0m\u001b[1;33m=\u001b[0m\u001b[0morder\u001b[0m\u001b[1;33m,\u001b[0m \u001b[0mlike\u001b[0m\u001b[1;33m=\u001b[0m\u001b[0mlike\u001b[0m\u001b[1;33m)\u001b[0m\u001b[1;33m\u001b[0m\u001b[1;33m\u001b[0m\u001b[0m\n\u001b[0;32m    101\u001b[0m \u001b[1;33m\u001b[0m\u001b[0m\n\u001b[1;32m--> 102\u001b[1;33m     \u001b[1;32mreturn\u001b[0m \u001b[0marray\u001b[0m\u001b[1;33m(\u001b[0m\u001b[0ma\u001b[0m\u001b[1;33m,\u001b[0m \u001b[0mdtype\u001b[0m\u001b[1;33m,\u001b[0m \u001b[0mcopy\u001b[0m\u001b[1;33m=\u001b[0m\u001b[1;32mFalse\u001b[0m\u001b[1;33m,\u001b[0m \u001b[0morder\u001b[0m\u001b[1;33m=\u001b[0m\u001b[0morder\u001b[0m\u001b[1;33m)\u001b[0m\u001b[1;33m\u001b[0m\u001b[1;33m\u001b[0m\u001b[0m\n\u001b[0m\u001b[0;32m    103\u001b[0m \u001b[1;33m\u001b[0m\u001b[0m\n\u001b[0;32m    104\u001b[0m \u001b[1;33m\u001b[0m\u001b[0m\n",
      "\u001b[1;31mTypeError\u001b[0m: float() argument must be a string or a number, not 'Timestamp'"
     ]
    }
   ],
   "source": [
    "from statsmodels.tsa.seasonal import seasonal_decompose\n",
    "\n",
    "decomp = seasonal_decompose(ts)\n",
    "\n",
    "plt.rc('figure', figsize(12,6))\n",
    "decomp.plot();\n",
    "\n"
   ]
  },
  {
   "cell_type": "code",
   "execution_count": null,
   "id": "55a404cf",
   "metadata": {},
   "outputs": [],
   "source": [
    "tudf['time_since_last_tweet']"
   ]
  },
  {
   "cell_type": "code",
   "execution_count": 136,
   "id": "9e34ad8f",
   "metadata": {
    "scrolled": true
   },
   "outputs": [
    {
     "data": {
      "text/plain": [
       "tweet_id\n",
       "1520733408237916161    33\n",
       "1520733408607019008    33\n",
       "1520733410947485702    33\n",
       "1520733414999138310    34\n",
       "1520733412725870592    34\n",
       "                       ..\n",
       "1521911808176451586     5\n",
       "1521911810563190785     6\n",
       "1521911819077505026     8\n",
       "1521911830817521664    10\n",
       "1521911829244440577    10\n",
       "Name: created_at, Length: 192115, dtype: int64"
      ]
     },
     "execution_count": 136,
     "metadata": {},
     "output_type": "execute_result"
    }
   ],
   "source": [
    "tudf['created_at'].apply(lambda x: x.second)"
   ]
  },
  {
   "cell_type": "markdown",
   "id": "dc661150",
   "metadata": {},
   "source": [
    "# geo and location\n",
    "\n",
    "`geo` is a geocode corresponding to a location. They are also called `place_id`. The great majority of tweets do not have a geo code, but perhaps location could be gathered by the user, rather than the tweet itself.\n",
    "\n",
    "According to [Get information about a place](https://developer.twitter.com/en/docs/twitter-api/v1/geo/place-information/api-reference/get-geo-id-place_id) in the Twitter docs,\n",
    "> These IDs can be retrieved from geo/reverse_geocode.\n",
    "\n",
    "`location` is a very general string."
   ]
  },
  {
   "cell_type": "code",
   "execution_count": 85,
   "id": "a367831d",
   "metadata": {},
   "outputs": [
    {
     "data": {
      "text/plain": [
       "Index(['conversation_id', 'reply_settings', 'lang', 'entities_tweet',\n",
       "       'possibly_sensitive', 'source', 'public_metrics_tweet', 'text',\n",
       "       'context_annotations', 'author_id', 'created_at', 'referenced_tweets',\n",
       "       'in_reply_to_user_id', 'attachments', 'geo', 'withheld_tweet', 'name',\n",
       "       'public_metrics_user', 'url', 'description', 'profile_image_url',\n",
       "       'location', 'protected', 'username', 'verified', 'entities_user',\n",
       "       'pinned_tweet_id', 'withheld_user', 'wordle_tweet_number',\n",
       "       'wordle_tweet_rate', 'ones'],\n",
       "      dtype='object')"
      ]
     },
     "execution_count": 85,
     "metadata": {},
     "output_type": "execute_result"
    }
   ],
   "source": [
    "\n",
    "tudf.columns"
   ]
  },
  {
   "cell_type": "code",
   "execution_count": 87,
   "id": "ff2cac74",
   "metadata": {
    "scrolled": true
   },
   "outputs": [
    {
     "data": {
      "text/plain": [
       "0                                   189164\n",
       "{'place_id': '206c436ce43a43a3'}        69\n",
       "{'place_id': '018f1cde6bad9747'}        46\n",
       "{'place_id': '3797791ff9c0e4c6'}        32\n",
       "{'place_id': '0161be1b3f98d6c3'}        27\n",
       "                                     ...  \n",
       "{'place_id': '5524b796309058b5'}         1\n",
       "{'place_id': '534d44fc60f378ec'}         1\n",
       "{'place_id': '3b19e4995834dd32'}         1\n",
       "{'place_id': '776bc3a7f14c1999'}         1\n",
       "{'place_id': '966210afcb797b90'}         1\n",
       "Name: geo, Length: 1293, dtype: int64"
      ]
     },
     "execution_count": 87,
     "metadata": {},
     "output_type": "execute_result"
    }
   ],
   "source": [
    "tudf['geo'].value_counts()"
   ]
  },
  {
   "cell_type": "code",
   "execution_count": 103,
   "id": "995ec458",
   "metadata": {},
   "outputs": [
    {
     "data": {
      "text/plain": [
       "192115"
      ]
     },
     "execution_count": 103,
     "metadata": {},
     "output_type": "execute_result"
    }
   ],
   "source": [
    "len(tudf)"
   ]
  },
  {
   "cell_type": "code",
   "execution_count": null,
   "id": "ee9bd01e",
   "metadata": {},
   "outputs": [],
   "source": []
  },
  {
   "cell_type": "code",
   "execution_count": 108,
   "id": "51056685",
   "metadata": {},
   "outputs": [
    {
     "data": {
      "text/plain": [
       "0                              94269\n",
       "United States                    557\n",
       "Los Angeles, CA                  450\n",
       "Chicago, IL                      384\n",
       "London                           380\n",
       "日本                               369\n",
       "India                            355\n",
       "London, England                  349\n",
       "Madrid                           323\n",
       "Canada                           308\n",
       "España                           282\n",
       "New York, NY                     277\n",
       "California, USA                  253\n",
       "Japan                            253\n",
       "United Kingdom                   250\n",
       "Atlanta, GA                      245\n",
       "England, United Kingdom          241\n",
       "Tokyo                            241\n",
       "she/her                          239\n",
       "UK                               236\n",
       "Madrid, Comunidad de Madrid      235\n",
       "USA                              222\n",
       "Seattle, WA                      221\n",
       "Argentina                        218\n",
       "Washington, DC                   215\n",
       "Buenos Aires, Argentina          215\n",
       "Toronto, Ontario                 213\n",
       "Australia                        211\n",
       "東京都                              201\n",
       "東京                               201\n",
       "Name: location, dtype: int64"
      ]
     },
     "execution_count": 108,
     "metadata": {},
     "output_type": "execute_result"
    }
   ],
   "source": [
    "tudf['location'].value_counts().head(30)"
   ]
  },
  {
   "cell_type": "code",
   "execution_count": 112,
   "id": "ad376f8b",
   "metadata": {
    "scrolled": true
   },
   "outputs": [
    {
     "data": {
      "text/plain": [
       "\"{'url': {'urls': [{'start': 0, 'end': 23, 'url': 'https://t.co/p52lELGgR6', 'expanded_url': 'http://leonids.bandcamp.com', 'display_url': 'leonids.bandcamp.com'}]}}\""
      ]
     },
     "execution_count": 112,
     "metadata": {},
     "output_type": "execute_result"
    }
   ],
   "source": [
    "tudf['entities_user'].iloc[2]"
   ]
  },
  {
   "cell_type": "markdown",
   "id": "caeecb0c",
   "metadata": {},
   "source": [
    "# User `entities`\n",
    "\n",
    "I've called them `entities_user` in the merged df."
   ]
  },
  {
   "cell_type": "code",
   "execution_count": 134,
   "id": "71e95aad",
   "metadata": {
    "scrolled": true
   },
   "outputs": [],
   "source": [
    "json_list = tudf['entities_user'].head(100).apply(lambda this_entities: json.loads(this_entities.replace(\"'\", '\"')).keys() if type(this_entities) == str else np.nan)"
   ]
  },
  {
   "cell_type": "code",
   "execution_count": 135,
   "id": "55374f97",
   "metadata": {},
   "outputs": [
    {
     "data": {
      "text/plain": [
       "tweet_id\n",
       "1520733408237916161                   NaN\n",
       "1520733408607019008                 (url)\n",
       "1520733410947485702                 (url)\n",
       "1520733414999138310                   NaN\n",
       "1520733412725870592                 (url)\n",
       "                              ...        \n",
       "1520733846043570176                 (url)\n",
       "1520733847096242176                   NaN\n",
       "1520733851181584385                   NaN\n",
       "1520733853257809921    (url, description)\n",
       "1520733853929054208         (description)\n",
       "Name: entities_user, Length: 100, dtype: object"
      ]
     },
     "execution_count": 135,
     "metadata": {},
     "output_type": "execute_result"
    }
   ],
   "source": [
    "json_list"
   ]
  },
  {
   "cell_type": "code",
   "execution_count": 128,
   "id": "1a072979",
   "metadata": {},
   "outputs": [
    {
     "data": {
      "text/plain": [
       "{'url': {'urls': [{'start': 0,\n",
       "    'end': 23,\n",
       "    'url': 'https://t.co/p9TNxd7TyP',\n",
       "    'expanded_url': 'http://www.instagram.com/eli.azzz/',\n",
       "    'display_url': 'instagram.com/eli.azzz/'}]}}"
      ]
     },
     "execution_count": 128,
     "metadata": {},
     "output_type": "execute_result"
    }
   ],
   "source": [
    "#the .replace(\"'\", '\"')\n",
    "# must be done to replace single quotes with double quotes. otherwise it's not JSON.\n",
    "json.loads(tudf['entities_user'].iloc[1].replace(\"'\", '\"'))"
   ]
  },
  {
   "cell_type": "code",
   "execution_count": 121,
   "id": "7a780ffa",
   "metadata": {
    "scrolled": true
   },
   "outputs": [
    {
     "ename": "AttributeError",
     "evalue": "'str' object has no attribute 'read'",
     "output_type": "error",
     "traceback": [
      "\u001b[1;31m---------------------------------------------------------------------------\u001b[0m",
      "\u001b[1;31mAttributeError\u001b[0m                            Traceback (most recent call last)",
      "\u001b[1;32m~\\AppData\\Local\\Temp/ipykernel_11808/2288453793.py\u001b[0m in \u001b[0;36m<module>\u001b[1;34m\u001b[0m\n\u001b[1;32m----> 1\u001b[1;33m \u001b[0mjson\u001b[0m\u001b[1;33m.\u001b[0m\u001b[0mload\u001b[0m\u001b[1;33m(\u001b[0m\u001b[0mtudf\u001b[0m\u001b[1;33m[\u001b[0m\u001b[1;34m'entities_user'\u001b[0m\u001b[1;33m]\u001b[0m\u001b[1;33m.\u001b[0m\u001b[0miloc\u001b[0m\u001b[1;33m[\u001b[0m\u001b[1;36m1\u001b[0m\u001b[1;33m]\u001b[0m\u001b[1;33m)\u001b[0m\u001b[1;33m\u001b[0m\u001b[1;33m\u001b[0m\u001b[0m\n\u001b[0m",
      "\u001b[1;32mC:\\ProgramData\\Anaconda3\\lib\\json\\__init__.py\u001b[0m in \u001b[0;36mload\u001b[1;34m(fp, cls, object_hook, parse_float, parse_int, parse_constant, object_pairs_hook, **kw)\u001b[0m\n\u001b[0;32m    291\u001b[0m     \u001b[0mkwarg\u001b[0m\u001b[1;33m;\u001b[0m \u001b[0motherwise\u001b[0m\u001b[0;31m \u001b[0m\u001b[0;31m`\u001b[0m\u001b[0;31m`\u001b[0m\u001b[0mJSONDecoder\u001b[0m\u001b[0;31m`\u001b[0m\u001b[0;31m`\u001b[0m \u001b[1;32mis\u001b[0m \u001b[0mused\u001b[0m\u001b[1;33m.\u001b[0m\u001b[1;33m\u001b[0m\u001b[1;33m\u001b[0m\u001b[0m\n\u001b[0;32m    292\u001b[0m     \"\"\"\n\u001b[1;32m--> 293\u001b[1;33m     return loads(fp.read(),\n\u001b[0m\u001b[0;32m    294\u001b[0m         \u001b[0mcls\u001b[0m\u001b[1;33m=\u001b[0m\u001b[0mcls\u001b[0m\u001b[1;33m,\u001b[0m \u001b[0mobject_hook\u001b[0m\u001b[1;33m=\u001b[0m\u001b[0mobject_hook\u001b[0m\u001b[1;33m,\u001b[0m\u001b[1;33m\u001b[0m\u001b[1;33m\u001b[0m\u001b[0m\n\u001b[0;32m    295\u001b[0m         \u001b[0mparse_float\u001b[0m\u001b[1;33m=\u001b[0m\u001b[0mparse_float\u001b[0m\u001b[1;33m,\u001b[0m \u001b[0mparse_int\u001b[0m\u001b[1;33m=\u001b[0m\u001b[0mparse_int\u001b[0m\u001b[1;33m,\u001b[0m\u001b[1;33m\u001b[0m\u001b[1;33m\u001b[0m\u001b[0m\n",
      "\u001b[1;31mAttributeError\u001b[0m: 'str' object has no attribute 'read'"
     ]
    }
   ],
   "source": [
    "json.loads()"
   ]
  },
  {
   "cell_type": "code",
   "execution_count": null,
   "id": "956bdf5a",
   "metadata": {},
   "outputs": [],
   "source": [
    "str.replace"
   ]
  },
  {
   "cell_type": "code",
   "execution_count": null,
   "id": "c09d3640",
   "metadata": {},
   "outputs": [],
   "source": []
  }
 ],
 "metadata": {
  "kernelspec": {
   "display_name": "Python 3 (ipykernel)",
   "language": "python",
   "name": "python3"
  },
  "language_info": {
   "codemirror_mode": {
    "name": "ipython",
    "version": 3
   },
   "file_extension": ".py",
   "mimetype": "text/x-python",
   "name": "python",
   "nbconvert_exporter": "python",
   "pygments_lexer": "ipython3",
   "version": "3.9.7"
  }
 },
 "nbformat": 4,
 "nbformat_minor": 5
}
