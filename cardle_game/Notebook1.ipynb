{
 "cells": [
  {
   "cell_type": "markdown",
   "id": "2f7966b5",
   "metadata": {},
   "source": [
    "# Exploring Cordle\n",
    "\n",
    "4/13/22\n",
    "\n",
    "David Tersegno\n",
    "\n",
    "Cordle is a card game. A deck building game. The cards are made of the game board shared from a Wordle game. These are made of a grid of width 5 and heights 1 through 6. Each square in the grid can be either gray, yellow, or green. Any of height 5 or shorter has a full green bottom row.\n",
    "\n",
    "Cards are drawn and placed over each other. The values add from gray, yellow, green, 0, 1, 2."
   ]
  },
  {
   "cell_type": "code",
   "execution_count": 1,
   "id": "a1cd1a33",
   "metadata": {},
   "outputs": [],
   "source": [
    "import matplotlib.pyplot as plt\n",
    "import pandas as pd\n",
    "import numpy as np\n",
    "import seaborn as sns\n",
    "\n",
    "\n",
    "plt.style.use('dark_background')"
   ]
  },
  {
   "cell_type": "markdown",
   "id": "a9e81f04",
   "metadata": {},
   "source": [
    "Using [the NumPy docs on np.random](https://numpy.org/doc/stable/reference/random/index.html?highlight=random#module-numpy.random) to figure out the best practice, as opposed to `np.random.seed()`."
   ]
  },
  {
   "cell_type": "code",
   "execution_count": 44,
   "id": "8038ae11",
   "metadata": {
    "scrolled": true
   },
   "outputs": [],
   "source": [
    "from numpy.random import default_rng\n",
    "rng = default_rng()\n",
    "vals = rng.standard_normal(10)\n",
    "more_vals = rng.standard_normal(10)"
   ]
  },
  {
   "cell_type": "code",
   "execution_count": 59,
   "id": "9941c9d4",
   "metadata": {},
   "outputs": [
    {
     "data": {
      "text/plain": [
       "array([4, 4, 3, 4, 3, 4, 4, 2, 1, 3])"
      ]
     },
     "execution_count": 59,
     "metadata": {},
     "output_type": "execute_result"
    }
   ],
   "source": [
    "np.random.choice([1,2,3,4], size = 10, p = np.array([1,2,3,4])/10)"
   ]
  },
  {
   "cell_type": "code",
   "execution_count": 135,
   "id": "268d6e22",
   "metadata": {},
   "outputs": [],
   "source": [
    "#returns a wordle-like color grid. \n",
    "# 0 - gray\n",
    "# 1 - yellow\n",
    "# 2 - green\n",
    "\n",
    "#create the default squares. entry:proportion\n",
    "default_entries = {\n",
    "    0:3,\n",
    "    1:2,\n",
    "    2:1\n",
    "}\n",
    "\n",
    "def make_random_wordle(height:int = 6, entries = default_entries) -> list:\n",
    "    this_game = [\n",
    "        [\n",
    "            np.random.choice([*entries.keys()],  p = np.array([*entries.values()])/sum([*entries.values()]))\n",
    "            for col in range(5) # every row is always width 5\n",
    "        ]\n",
    "        for row in range(height)\n",
    "    ]\n",
    "    #print(np.array([*entries.values()])/sum([*entries.values()]))\n",
    "    return this_game"
   ]
  },
  {
   "cell_type": "code",
   "execution_count": 136,
   "id": "0440ca17",
   "metadata": {},
   "outputs": [
    {
     "data": {
      "text/plain": [
       "6"
      ]
     },
     "execution_count": 136,
     "metadata": {},
     "output_type": "execute_result"
    }
   ],
   "source": [
    "sum([*default_entries.values()])"
   ]
  },
  {
   "cell_type": "code",
   "execution_count": 137,
   "id": "da7463bf",
   "metadata": {
    "scrolled": true
   },
   "outputs": [
    {
     "data": {
      "text/plain": [
       "array([[1, 1, 0, 2, 0],\n",
       "       [0, 2, 0, 2, 0],\n",
       "       [0, 0, 2, 0, 2],\n",
       "       [0, 1, 0, 1, 1],\n",
       "       [1, 1, 0, 1, 0],\n",
       "       [1, 2, 0, 0, 0]])"
      ]
     },
     "execution_count": 137,
     "metadata": {},
     "output_type": "execute_result"
    }
   ],
   "source": [
    "np.array(make_random_wordle())"
   ]
  },
  {
   "cell_type": "code",
   "execution_count": 138,
   "id": "dbdcc929",
   "metadata": {},
   "outputs": [
    {
     "data": {
      "text/plain": [
       "[[0, 0, 0, 0, 0],\n",
       " [0, 0, 0, 0, 0],\n",
       " [0, 0, 0, 0, 0],\n",
       " [0, 0, 0, 0, 0],\n",
       " [0, 0, 0, 0, 0],\n",
       " [0, 0, 0, 0, 0]]"
      ]
     },
     "execution_count": 138,
     "metadata": {},
     "output_type": "execute_result"
    }
   ],
   "source": [
    "empty_game = [list(np.full(5,0))]*6\n",
    "empty_game"
   ]
  },
  {
   "cell_type": "code",
   "execution_count": 139,
   "id": "a9dc536b",
   "metadata": {
    "scrolled": true
   },
   "outputs": [
    {
     "data": {
      "text/plain": [
       "array([[0, 1, 0, 0, 0],\n",
       "       [2, 0, 2, 0, 0],\n",
       "       [2, 0, 2, 0, 0],\n",
       "       [2, 1, 2, 0, 0],\n",
       "       [2, 2, 2, 2, 2],\n",
       "       [0, 0, 0, 0, 0]])"
      ]
     },
     "execution_count": 139,
     "metadata": {},
     "output_type": "execute_result"
    }
   ],
   "source": [
    "game = empty_game.copy()\n",
    "\n",
    "game[0] = [ 0 ,1 , 0 , 0 ,0 ]\n",
    "game[1] = [2, 0, 2, 0, 0 ]\n",
    "game[2] = [2, 0, 2, 0, 0 ]\n",
    "game[3] = [2, 1 , 2, 0, 0 ]\n",
    "game[4] = [2, 2, 2, 2, 2]\n",
    "game = np.array(game)\n",
    "game"
   ]
  },
  {
   "cell_type": "code",
   "execution_count": 140,
   "id": "735d5f3d",
   "metadata": {},
   "outputs": [
    {
     "data": {
      "text/plain": [
       "[[0, 1, 0, 0, 0],\n",
       " [2, 0, 2, 0, 0],\n",
       " [2, 0, 2, 0, 0],\n",
       " [2, 1, 2, 0, 0],\n",
       " [2, 2, 2, 2, 2],\n",
       " [0, 0, 0, 0, 0]]"
      ]
     },
     "execution_count": 140,
     "metadata": {},
     "output_type": "execute_result"
    }
   ],
   "source": [
    "game.tolist()"
   ]
  },
  {
   "cell_type": "code",
   "execution_count": 141,
   "id": "37ff4f24",
   "metadata": {},
   "outputs": [],
   "source": [
    "color_dict = {\n",
    "        0:[0.5,0.5,0.5], #gray\n",
    "        1:[.8, .8, .4], # yellow\n",
    "        2:[.4, .9, .4] #green\n",
    "    }"
   ]
  },
  {
   "cell_type": "code",
   "execution_count": 142,
   "id": "b461dc0e",
   "metadata": {},
   "outputs": [],
   "source": [
    "game_color = np.array([\n",
    "    [\n",
    "        color_dict[square]\n",
    "        for square in row\n",
    "    ]\n",
    "    for row in game\n",
    "])\n",
    "\n",
    "empty_game_color = np.array([\n",
    "    [\n",
    "        color_dict[square]\n",
    "        for square in row\n",
    "    ]\n",
    "    for row in empty_game\n",
    "])"
   ]
  },
  {
   "cell_type": "code",
   "execution_count": 143,
   "id": "121dface",
   "metadata": {},
   "outputs": [
    {
     "data": {
      "image/png": "[encoded data removed]",
      "text/plain": [
       "<Figure size 432x288 with 1 Axes>"
      ]
     },
     "metadata": {},
     "output_type": "display_data"
    },
    {
     "data": {
      "image/png": "[encoded data removed]",
      "text/plain": [
       "<Figure size 432x288 with 1 Axes>"
      ]
     },
     "metadata": {},
     "output_type": "display_data"
    }
   ],
   "source": [
    "plt.xticks(None)\n",
    "\n",
    "plt.imshow(empty_game_color, cmap = 'gray')\n",
    "plt.show()\n",
    "plt.imshow(game_color.tolist());"
   ]
  },
  {
   "cell_type": "code",
   "execution_count": 144,
   "id": "6c459358",
   "metadata": {},
   "outputs": [],
   "source": [
    "def color_card(card:list):\n",
    "    color_dict = {\n",
    "        0:[0.5,0.5,0.5], #gray\n",
    "        1:[.8, .8, .4], # yellow\n",
    "        2:[.4, .9, .4] #green\n",
    "    }\n",
    "    this_card = np.array([\n",
    "        [\n",
    "            color_dict[square]\n",
    "            for square in row\n",
    "        ]\n",
    "        for row in card\n",
    "    ])\n",
    "    return this_card"
   ]
  },
  {
   "cell_type": "code",
   "execution_count": 158,
   "id": "391f1fa4",
   "metadata": {},
   "outputs": [
    {
     "data": {
      "text/plain": [
       "<matplotlib.image.AxesImage at 0x233f792e6d0>"
      ]
     },
     "execution_count": 158,
     "metadata": {},
     "output_type": "execute_result"
    },
    {
     "data": {
      "image/png": "[encoded data removed]",
      "text/plain": [
       "<Figure size 432x288 with 1 Axes>"
      ]
     },
     "metadata": {},
     "output_type": "display_data"
    }
   ],
   "source": [
    "plt.imshow(color_card(make_random_wordle()))"
   ]
  },
  {
   "cell_type": "code",
   "execution_count": null,
   "id": "b3cf33b1",
   "metadata": {},
   "outputs": [],
   "source": [
    "#takes in a wordle game, places it on the board, and applies rules to modify squares.\n",
    "#normal rules \n",
    "def place_card_on_board(card:list, game:list, level:int, rule = 'normal'):\n",
    "    "
   ]
  }
 ],
 "metadata": {
  "kernelspec": {
   "display_name": "Python 3 (ipykernel)",
   "language": "python",
   "name": "python3"
  },
  "language_info": {
   "codemirror_mode": {
    "name": "ipython",
    "version": 3
   },
   "file_extension": ".py",
   "mimetype": "text/x-python",
   "name": "python",
   "nbconvert_exporter": "python",
   "pygments_lexer": "ipython3",
   "version": "3.9.7"
  }
 },
 "nbformat": 4,
 "nbformat_minor": 5
}
