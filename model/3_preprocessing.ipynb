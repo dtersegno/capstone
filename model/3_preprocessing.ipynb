{
 "cells": [
  {
   "cell_type": "markdown",
   "id": "89c5a0a5",
   "metadata": {},
   "source": [
    "Preprocessing 🤖\n",
    "---"
   ]
  },
  {
   "cell_type": "code",
   "execution_count": 10,
   "id": "a0bb95b8",
   "metadata": {},
   "outputs": [],
   "source": [
    "import pandas as pd\n",
    "import numpy as np\n",
    "import json"
   ]
  },
  {
   "cell_type": "code",
   "execution_count": 7,
   "id": "ef7d87bc",
   "metadata": {},
   "outputs": [
    {
     "name": "stdout",
     "output_type": "stream",
     "text": [
      "<class 'pandas.core.frame.DataFrame'>\n",
      "RangeIndex: 386457 entries, 0 to 386456\n",
      "Data columns (total 12 columns):\n",
      " #   Column              Non-Null Count   Dtype \n",
      "---  ------              --------------   ----- \n",
      " 0   Unnamed: 0          386457 non-null  int64 \n",
      " 1   lang                386457 non-null  object\n",
      " 2   possibly_sensitive  386457 non-null  object\n",
      " 3   source              386457 non-null  object\n",
      " 4   text                386457 non-null  object\n",
      " 5   created_at          386457 non-null  object\n",
      " 6   location            299526 non-null  object\n",
      " 7   win                 386457 non-null  object\n",
      " 8   is_poke             386457 non-null  object\n",
      " 9   broad_location      386408 non-null  object\n",
      " 10  hashtags            386457 non-null  object\n",
      " 11  has_hashtags        386457 non-null  bool  \n",
      "dtypes: bool(1), int64(1), object(10)\n",
      "memory usage: 32.8+ MB\n"
     ]
    }
   ],
   "source": [
    "# import data\n",
    "data_for_preprocessing_path = '../merged_data/data_for_preprocessing.csv'\n",
    "df = pd.read_csv(data_for_preprocessing_path)\n",
    "df.info()"
   ]
  },
  {
   "cell_type": "code",
   "execution_count": 14,
   "id": "0eabab41",
   "metadata": {
    "scrolled": true
   },
   "outputs": [],
   "source": [
    "# import dictionaries\n",
    "hashtag_to_game_path = '../EDA/hashtag_to_game.json'\n",
    "with open(hashtag_to_game_path, 'r') as this_file:\n",
    "    hashtag_to_game = json.loads(this_file.read())\n",
    "\n",
    "locs_path = '../EDA/loc_dict.json'\n",
    "with open(locs_path, 'r') as file:\n",
    "    locs = json.loads(file.read())"
   ]
  },
  {
   "cell_type": "code",
   "execution_count": 38,
   "id": "51084aac",
   "metadata": {
    "scrolled": true
   },
   "outputs": [
    {
     "data": {
      "text/plain": [
       "80"
      ]
     },
     "execution_count": 38,
     "metadata": {},
     "output_type": "execute_result"
    }
   ],
   "source": [
    "len(set(locs.values()))"
   ]
  },
  {
   "cell_type": "markdown",
   "id": "3e3c3ab4",
   "metadata": {},
   "source": [
    "# Create columns for lang\n",
    "\n",
    "Use the "
   ]
  },
  {
   "cell_type": "code",
   "execution_count": 31,
   "id": "285f603f",
   "metadata": {},
   "outputs": [
    {
     "data": {
      "text/plain": [
       "en           310370\n",
       "ja            38369\n",
       "es            10390\n",
       "tr             5690\n",
       "und            5160\n",
       "undefined      3558\n",
       "fr             2629\n",
       "ko             2197\n",
       "de             1910\n",
       "ca             1016\n",
       "ru              983\n",
       "et              775\n",
       "th              489\n",
       "tl              449\n",
       "nl              328\n",
       "cs              264\n",
       "pt              237\n",
       "in              207\n",
       "zh              202\n",
       "fi              147\n",
       "no              144\n",
       "ro              138\n",
       "it              131\n",
       "ar               67\n",
       "da               59\n",
       "Name: lang, dtype: int64"
      ]
     },
     "execution_count": 31,
     "metadata": {},
     "output_type": "execute_result"
    }
   ],
   "source": [
    "df['lang'].value_counts()[:25]"
   ]
  },
  {
   "cell_type": "code",
   "execution_count": null,
   "id": "07611cb5",
   "metadata": {},
   "outputs": [],
   "source": []
  }
 ],
 "metadata": {
  "kernelspec": {
   "display_name": "Python 3 (ipykernel)",
   "language": "python",
   "name": "python3"
  },
  "language_info": {
   "codemirror_mode": {
    "name": "ipython",
    "version": 3
   },
   "file_extension": ".py",
   "mimetype": "text/x-python",
   "name": "python",
   "nbconvert_exporter": "python",
   "pygments_lexer": "ipython3",
   "version": "3.8.13"
  }
 },
 "nbformat": 4,
 "nbformat_minor": 5
}
