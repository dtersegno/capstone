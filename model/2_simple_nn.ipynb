{
 "cells": [
  {
   "cell_type": "markdown",
   "id": "d5a69d7e",
   "metadata": {},
   "source": [
    "# Simple neural network predicting ahead of time\n",
    "\n",
    "Using [otexts](https://otexts.com/fpp2/nnetar.html) as a reference"
   ]
  },
  {
   "cell_type": "code",
   "execution_count": null,
   "id": "a24863c2",
   "metadata": {},
   "outputs": [],
   "source": [
    "# import libraries\n",
    "import numpy as np\n",
    "import pandas as pd\n",
    "import datetime as dt\n",
    "\n",
    "from sklearn.model_selection import train_test_split\n",
    "\n",
    "#plotting\n",
    "import seaborn as sns\n",
    "import matplotlib.pyplot as plt\n",
    "import matplotlib.colors as colors"
   ]
  }
 ],
 "metadata": {
  "kernelspec": {
   "display_name": "Python 3 (ipykernel)",
   "language": "python",
   "name": "python3"
  },
  "language_info": {
   "codemirror_mode": {
    "name": "ipython",
    "version": 3
   },
   "file_extension": ".py",
   "mimetype": "text/x-python",
   "name": "python",
   "nbconvert_exporter": "python",
   "pygments_lexer": "ipython3",
   "version": "3.9.7"
  }
 },
 "nbformat": 4,
 "nbformat_minor": 5
}
